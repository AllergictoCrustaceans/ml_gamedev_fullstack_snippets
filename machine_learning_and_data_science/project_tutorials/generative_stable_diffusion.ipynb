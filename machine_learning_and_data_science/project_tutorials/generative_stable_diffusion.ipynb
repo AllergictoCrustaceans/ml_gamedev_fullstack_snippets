{
 "cells": [
  {
   "cell_type": "markdown",
   "id": "35671270",
   "metadata": {},
   "source": [
    "# Stable Diffusion (Text-to-Image)\n",
    "\n",
    "Stable Diffusion is an open source text-to-image generation model. This is a Tensorflow tutorial I will be following to learn how to use KerasCV's Stable Diffusion.\n",
    "\n",
    "KeraCV's Stable Diffusion includes XLA compilation and mixed precision support, which together achieve SOTA generation speed.\n",
    "\n",
    "In this notebook, we'll explore how to use powerful performance boosts and explore the performance benefits it offers."
   ]
  },
  {
   "cell_type": "code",
   "execution_count": 1,
   "id": "7dab67b2",
   "metadata": {},
   "outputs": [
    {
     "name": "stderr",
     "output_type": "stream",
     "text": [
      "'apt' is not recognized as an internal or external command,\n",
      "operable program or batch file.\n"
     ]
    }
   ],
   "source": [
    "!pip install tensorflow keras_cv --upgrade --quiet\n",
    "!apt install --allow-change-held-packages libcudnn8-8.1.0.77-1+cuda11.2"
   ]
  },
  {
   "cell_type": "code",
   "execution_count": null,
   "id": "cba448d7",
   "metadata": {},
   "outputs": [],
   "source": [
    "import time\n",
    "import keras_cv\n",
    "from tensorflow import keras\n",
    "import matplotlib.pyplot as plt"
   ]
  },
  {
   "cell_type": "code",
   "execution_count": null,
   "id": "23763477",
   "metadata": {},
   "outputs": [],
   "source": []
  }
 ],
 "metadata": {
  "kernelspec": {
   "display_name": "Python 3 (ipykernel)",
   "language": "python",
   "name": "python3"
  },
  "language_info": {
   "codemirror_mode": {
    "name": "ipython",
    "version": 3
   },
   "file_extension": ".py",
   "mimetype": "text/x-python",
   "name": "python",
   "nbconvert_exporter": "python",
   "pygments_lexer": "ipython3",
   "version": "3.10.11"
  }
 },
 "nbformat": 4,
 "nbformat_minor": 5
}
