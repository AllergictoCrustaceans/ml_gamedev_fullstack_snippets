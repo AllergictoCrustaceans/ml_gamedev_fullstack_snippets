{
 "cells": [
  {
   "cell_type": "markdown",
   "id": "3b883560",
   "metadata": {},
   "source": [
    "# DCGAN "
   ]
  },
  {
   "cell_type": "code",
   "execution_count": 1,
   "id": "3d32551f",
   "metadata": {},
   "outputs": [
    {
     "name": "stdout",
     "output_type": "stream",
     "text": [
      "Collecting imageio\n",
      "  Downloading imageio-2.31.0-py3-none-any.whl (313 kB)\n",
      "                                              0.0/313.2 kB ? eta -:--:--\n",
      "                                              0.0/313.2 kB ? eta -:--:--\n",
      "     -                                        10.2/313.2 kB ? eta -:--:--\n",
      "     -                                        10.2/313.2 kB ? eta -:--:--\n",
      "     ---                                   30.7/313.2 kB 217.9 kB/s eta 0:00:02\n",
      "     ---------                             81.9/313.2 kB 416.7 kB/s eta 0:00:01\n",
      "     -------------------------------------  307.2/313.2 kB 1.4 MB/s eta 0:00:01\n",
      "     -------------------------------------- 313.2/313.2 kB 1.3 MB/s eta 0:00:00\n",
      "Requirement already satisfied: numpy in c:\\users\\katie\\anaconda3\\envs\\ml_basics\\lib\\site-packages (from imageio) (1.23.5)\n",
      "Requirement already satisfied: pillow>=8.3.2 in c:\\users\\katie\\anaconda3\\envs\\ml_basics\\lib\\site-packages (from imageio) (9.5.0)\n",
      "Installing collected packages: imageio\n",
      "Successfully installed imageio-2.31.0\n",
      "Collecting git+https://github.com/tensorflow/docs\n",
      "  Cloning https://github.com/tensorflow/docs to c:\\users\\katie\\appdata\\local\\temp\\pip-req-build-48i8jlgq\n",
      "  Resolved https://github.com/tensorflow/docs to commit e24446b758940871677d6a40cd1fa0f4724194da\n",
      "  Preparing metadata (setup.py): started\n",
      "  Preparing metadata (setup.py): finished with status 'done'\n",
      "Collecting astor (from tensorflow-docs==2023.5.26.9808)\n",
      "  Downloading astor-0.8.1-py2.py3-none-any.whl (27 kB)\n",
      "Requirement already satisfied: absl-py in c:\\users\\katie\\anaconda3\\envs\\ml_basics\\lib\\site-packages (from tensorflow-docs==2023.5.26.9808) (1.4.0)\n",
      "Requirement already satisfied: jinja2 in c:\\users\\katie\\anaconda3\\envs\\ml_basics\\lib\\site-packages (from tensorflow-docs==2023.5.26.9808) (3.1.2)\n",
      "Requirement already satisfied: nbformat in c:\\users\\katie\\anaconda3\\envs\\ml_basics\\lib\\site-packages (from tensorflow-docs==2023.5.26.9808) (5.8.0)\n",
      "Requirement already satisfied: protobuf>=3.12 in c:\\users\\katie\\anaconda3\\envs\\ml_basics\\lib\\site-packages (from tensorflow-docs==2023.5.26.9808) (4.23.2)\n",
      "Requirement already satisfied: pyyaml in c:\\users\\katie\\anaconda3\\envs\\ml_basics\\lib\\site-packages (from tensorflow-docs==2023.5.26.9808) (6.0)\n",
      "Requirement already satisfied: MarkupSafe>=2.0 in c:\\users\\katie\\anaconda3\\envs\\ml_basics\\lib\\site-packages (from jinja2->tensorflow-docs==2023.5.26.9808) (2.1.2)\n",
      "Requirement already satisfied: fastjsonschema in c:\\users\\katie\\anaconda3\\envs\\ml_basics\\lib\\site-packages (from nbformat->tensorflow-docs==2023.5.26.9808) (2.17.1)\n",
      "Requirement already satisfied: jsonschema>=2.6 in c:\\users\\katie\\anaconda3\\envs\\ml_basics\\lib\\site-packages (from nbformat->tensorflow-docs==2023.5.26.9808) (4.17.3)\n",
      "Requirement already satisfied: jupyter-core in c:\\users\\katie\\anaconda3\\envs\\ml_basics\\lib\\site-packages (from nbformat->tensorflow-docs==2023.5.26.9808) (5.3.0)\n",
      "Requirement already satisfied: traitlets>=5.1 in c:\\users\\katie\\anaconda3\\envs\\ml_basics\\lib\\site-packages (from nbformat->tensorflow-docs==2023.5.26.9808) (5.9.0)\n",
      "Requirement already satisfied: attrs>=17.4.0 in c:\\users\\katie\\anaconda3\\envs\\ml_basics\\lib\\site-packages (from jsonschema>=2.6->nbformat->tensorflow-docs==2023.5.26.9808) (23.1.0)\n",
      "Requirement already satisfied: pyrsistent!=0.17.0,!=0.17.1,!=0.17.2,>=0.14.0 in c:\\users\\katie\\anaconda3\\envs\\ml_basics\\lib\\site-packages (from jsonschema>=2.6->nbformat->tensorflow-docs==2023.5.26.9808) (0.19.3)\n",
      "Requirement already satisfied: platformdirs>=2.5 in c:\\users\\katie\\anaconda3\\envs\\ml_basics\\lib\\site-packages (from jupyter-core->nbformat->tensorflow-docs==2023.5.26.9808) (3.5.1)\n",
      "Requirement already satisfied: pywin32>=300 in c:\\users\\katie\\anaconda3\\envs\\ml_basics\\lib\\site-packages (from jupyter-core->nbformat->tensorflow-docs==2023.5.26.9808) (304)\n",
      "Building wheels for collected packages: tensorflow-docs\n",
      "  Building wheel for tensorflow-docs (setup.py): started\n",
      "  Building wheel for tensorflow-docs (setup.py): finished with status 'done'\n",
      "  Created wheel for tensorflow-docs: filename=tensorflow_docs-2023.5.26.9808-py3-none-any.whl size=185058 sha256=fc1ec48a6a58190dc0e63c18b054b0f7039191e8ccf5d5c66f23de03fafeaab8\n",
      "  Stored in directory: C:\\Users\\katie\\AppData\\Local\\Temp\\pip-ephem-wheel-cache-q5y4_rbn\\wheels\\86\\0f\\1e\\3b62293c8ffd0fd5a49508e6871cdb7554abe9c62afd35ec53\n",
      "Successfully built tensorflow-docs\n",
      "Installing collected packages: astor, tensorflow-docs\n",
      "Successfully installed astor-0.8.1 tensorflow-docs-2023.5.26.9808\n"
     ]
    },
    {
     "name": "stderr",
     "output_type": "stream",
     "text": [
      "  Running command git clone --filter=blob:none --quiet https://github.com/tensorflow/docs 'C:\\Users\\katie\\AppData\\Local\\Temp\\pip-req-build-48i8jlgq'\n"
     ]
    }
   ],
   "source": [
    "!pip install imageio\n",
    "!pip install git+https://github.com/tensorflow/docs"
   ]
  },
  {
   "cell_type": "code",
   "execution_count": 4,
   "id": "c5ccd0cb",
   "metadata": {},
   "outputs": [],
   "source": [
    "import glob\n",
    "import imageio\n",
    "import matplotlib.pyplot as plt\n",
    "import numpy as np\n",
    "import os\n",
    "import PIL\n",
    "import tensorflow as tf\n",
    "from tensorflow.keras import layers\n",
    "import time\n",
    "\n",
    "from IPython import display"
   ]
  },
  {
   "cell_type": "markdown",
   "id": "b4f49041",
   "metadata": {},
   "source": [
    "## Load Data"
   ]
  },
  {
   "cell_type": "code",
   "execution_count": 5,
   "id": "7cdba46f",
   "metadata": {},
   "outputs": [
    {
     "name": "stdout",
     "output_type": "stream",
     "text": [
      "Downloading data from https://storage.googleapis.com/tensorflow/tf-keras-datasets/mnist.npz\n",
      "11490434/11490434 [==============================] - 1s 0us/step\n"
     ]
    }
   ],
   "source": [
    "(train_images, train_labels), (_, _) = tf.keras.datasets.mnist.load_data()"
   ]
  },
  {
   "cell_type": "code",
   "execution_count": 6,
   "id": "d55842c0",
   "metadata": {},
   "outputs": [],
   "source": [
    "train_images = train_images.reshape(train_images.shape[0], 28, 28, 1).astype(\"float32\")\n",
    "train_images = (train_images - 127.5) / 127.5 # normalize the images to [-1, 1]"
   ]
  },
  {
   "cell_type": "code",
   "execution_count": 7,
   "id": "3f32845c",
   "metadata": {},
   "outputs": [],
   "source": [
    "BUFFER_SIZE = 60000\n",
    "BATCH_SIZE = 256"
   ]
  },
  {
   "cell_type": "code",
   "execution_count": 8,
   "id": "4fb83fbb",
   "metadata": {},
   "outputs": [],
   "source": [
    "# Batch and shuffle data\n",
    "train_dataset = tf.data.Dataset.from_tensor_slices(train_images).shuffle(BUFFER_SIZE).batch(BATCH_SIZE)"
   ]
  },
  {
   "cell_type": "markdown",
   "id": "48799f15",
   "metadata": {},
   "source": [
    "## Create Model"
   ]
  },
  {
   "cell_type": "markdown",
   "id": "37cd75c3",
   "metadata": {},
   "source": [
    "### Build Generator"
   ]
  },
  {
   "cell_type": "code",
   "execution_count": null,
   "id": "d5f40955",
   "metadata": {},
   "outputs": [],
   "source": []
  }
 ],
 "metadata": {
  "kernelspec": {
   "display_name": "Python 3 (ipykernel)",
   "language": "python",
   "name": "python3"
  },
  "language_info": {
   "codemirror_mode": {
    "name": "ipython",
    "version": 3
   },
   "file_extension": ".py",
   "mimetype": "text/x-python",
   "name": "python",
   "nbconvert_exporter": "python",
   "pygments_lexer": "ipython3",
   "version": "3.10.11"
  }
 },
 "nbformat": 4,
 "nbformat_minor": 5
}
