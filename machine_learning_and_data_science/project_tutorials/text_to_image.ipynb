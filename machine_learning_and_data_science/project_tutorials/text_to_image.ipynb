{
 "cells": [
  {
   "cell_type": "markdown",
   "id": "35671270",
   "metadata": {},
   "source": [
    "# Stable Diffusion (Text-to-Image)\n",
    "\n",
    "Stable Diffusion is an open source text-to-image generation model. This is a Tensorflow tutorial I will be following to learn how to use KerasCV's Stable Diffusion."
   ]
  },
  {
   "cell_type": "code",
   "execution_count": null,
   "id": "7dab67b2",
   "metadata": {},
   "outputs": [],
   "source": []
  }
 ],
 "metadata": {
  "kernelspec": {
   "display_name": "Python 3 (ipykernel)",
   "language": "python",
   "name": "python3"
  },
  "language_info": {
   "codemirror_mode": {
    "name": "ipython",
    "version": 3
   },
   "file_extension": ".py",
   "mimetype": "text/x-python",
   "name": "python",
   "nbconvert_exporter": "python",
   "pygments_lexer": "ipython3",
   "version": "3.10.11"
  }
 },
 "nbformat": 4,
 "nbformat_minor": 5
}
