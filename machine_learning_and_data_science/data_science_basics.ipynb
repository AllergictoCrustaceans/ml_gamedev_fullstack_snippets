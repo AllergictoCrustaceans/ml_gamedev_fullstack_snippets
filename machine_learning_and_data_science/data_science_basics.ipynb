{
 "cells": [
  {
   "cell_type": "markdown",
   "id": "ce1c52f9",
   "metadata": {},
   "source": [
    "# Data Science Basics\n",
    "\n",
    "The following are concepts that I've learned while in the MITx Statistics and Data Science MicroMasters Program. "
   ]
  },
  {
   "cell_type": "markdown",
   "id": "7821dd75",
   "metadata": {},
   "source": [
    "## Graphs"
   ]
  },
  {
   "cell_type": "code",
   "execution_count": null,
   "id": "3c0c684a",
   "metadata": {},
   "outputs": [],
   "source": []
  },
  {
   "cell_type": "markdown",
   "id": "b23bedb4",
   "metadata": {},
   "source": [
    "## Time Series Forecasting"
   ]
  },
  {
   "cell_type": "code",
   "execution_count": null,
   "id": "2f77b663",
   "metadata": {},
   "outputs": [],
   "source": []
  }
 ],
 "metadata": {
  "kernelspec": {
   "display_name": "Python 3 (ipykernel)",
   "language": "python",
   "name": "python3"
  },
  "language_info": {
   "codemirror_mode": {
    "name": "ipython",
    "version": 3
   },
   "file_extension": ".py",
   "mimetype": "text/x-python",
   "name": "python",
   "nbconvert_exporter": "python",
   "pygments_lexer": "ipython3",
   "version": "3.10.11"
  }
 },
 "nbformat": 4,
 "nbformat_minor": 5
}
