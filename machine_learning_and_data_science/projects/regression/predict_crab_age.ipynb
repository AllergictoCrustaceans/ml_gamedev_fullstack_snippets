{
 "cells": [
  {
   "cell_type": "markdown",
   "id": "34cc1415",
   "metadata": {},
   "source": [
    "# Crab Age Regression\n",
    "\n",
    "## Define Problem:\n",
    "This is a regression problem that's created as a [Kaggle competition](https://www.kaggle.com/competitions/playground-series-s3e16/overview). \n",
    "\n",
    "## Data to Use:\n",
    "The dataset to use is supplied by the [Kaggle Playground Prediction Competition](https://www.kaggle.com/competitions/playground-series-s3e16/data).\n",
    "\n",
    "In this data contains:\n",
    "- test.csv\n",
    "- train.csv\n",
    "\n",
    "## Evaluation Metrics:\n",
    "The submission will be evaluated using the Mean Absolute Error (MAE). \n",
    "\n",
    "The submission format should be in the following style:\n",
    "> For each id in the test set, you must predict the target Age. The file should contain a header and have the following format:\n",
    "\n",
    "    id,yield\n",
    "    74051,10.2\n",
    "    74051,3.6\n",
    "    74051,11.9\n",
    "    etc.\n",
    "\n",
    "\n",
    "## Features to Use:\n",
    "\n",
    "    sex: I, M, F (categorical)\n",
    "    length: float\n",
    "    diameter: float\n",
    "    height: float\n",
    "    weight: float\n",
    "    shucked weight: float\n",
    "    viscera weight: float\n",
    "    shell weight: float\n",
    "    age: int\n"
   ]
  },
  {
   "cell_type": "markdown",
   "id": "21177493",
   "metadata": {},
   "source": [
    "## Import Libraries"
   ]
  },
  {
   "cell_type": "code",
   "execution_count": 113,
   "id": "b50260a2",
   "metadata": {},
   "outputs": [],
   "source": [
    "import glob, zipfile\n",
    "import numpy as np\n",
    "import pandas as pd\n",
    "import matplotlib.pyplot as plt\n",
    "import seaborn as sns\n",
    "import time\n",
    "\n",
    "# preprocess\n",
    "from sklearn.preprocessing import OneHotEncoder, MinMaxScaler\n",
    "from sklearn.compose import ColumnTransformer\n",
    "from sklearn.pipeline import Pipeline\n",
    "\n",
    "# model\n",
    "from sklearn import linear_model\n",
    "from sklearn import svm\n",
    "from sklearn.ensemble import RandomForestRegressor, GradientBoostingRegressor\n",
    "\n",
    "# evaluation\n",
    "from sklearn.model_selection import train_test_split, cross_validate\n",
    "from sklearn.model_selection import RandomizedSearchCV, GridSearchCV\n",
    "from sklearn.metrics import mean_squared_error, mean_absolute_error, r2_score"
   ]
  },
  {
   "cell_type": "markdown",
   "id": "e45fa530",
   "metadata": {},
   "source": [
    "## Load Data"
   ]
  },
  {
   "cell_type": "code",
   "execution_count": 4,
   "id": "c6f79eba",
   "metadata": {},
   "outputs": [],
   "source": [
    "files = glob.glob(\"data/crab_age.zip\")\n",
    "\n",
    "for file in files:\n",
    "    with zipfile.ZipFile(file, 'r') as zip_ref:\n",
    "        zip_ref.extractall('data/crab_age_raw')"
   ]
  },
  {
   "cell_type": "code",
   "execution_count": 38,
   "id": "523ae79a",
   "metadata": {},
   "outputs": [],
   "source": [
    "# Load datasets\n",
    "train_df = pd.read_csv(\"data/crab_age_raw/train.csv\")\n",
    "test_df = pd.read_csv(\"data/crab_age_raw/test.csv\")"
   ]
  },
  {
   "cell_type": "markdown",
   "id": "6a9893bb",
   "metadata": {},
   "source": [
    "## EDA"
   ]
  },
  {
   "cell_type": "code",
   "execution_count": 39,
   "id": "985d7691",
   "metadata": {},
   "outputs": [
    {
     "name": "stdout",
     "output_type": "stream",
     "text": [
      "   id Sex  Length  Diameter  Height     Weight  Shucked Weight   \n",
      "0   0   I  1.5250    1.1750  0.3750  28.973189       12.728926  \\\n",
      "1   1   I  1.1000    0.8250  0.2750  10.418441        4.521745   \n",
      "2   2   M  1.3875    1.1125  0.3750  24.777463       11.339800   \n",
      "3   3   F  1.7000    1.4125  0.5000  50.660556       20.354941   \n",
      "4   4   I  1.2500    1.0125  0.3375  23.289114       11.977664   \n",
      "\n",
      "   Viscera Weight  Shell Weight  Age  \n",
      "0        6.647958      8.348928    9  \n",
      "1        2.324659      3.401940    8  \n",
      "2        5.556502      6.662133    9  \n",
      "3       10.991839     14.996885   11  \n",
      "4        4.507570      5.953395    8  \n",
      "74051\n"
     ]
    }
   ],
   "source": [
    "print(train_df.head())\n",
    "print(len(train_df))"
   ]
  },
  {
   "cell_type": "markdown",
   "id": "17abad60",
   "metadata": {},
   "source": [
    "These seem to be the following feature attributes:\n",
    "- sex: I, M, F (categorical)\n",
    "- length: float \n",
    "- diameter: float\n",
    "- height: float\n",
    "- weight: float\n",
    "- shucked weight: float\n",
    "- viscera weight: float\n",
    "- shell weight: float\n",
    "- age: int "
   ]
  },
  {
   "cell_type": "markdown",
   "id": "3160a222",
   "metadata": {},
   "source": [
    "### Missing Values Analysis"
   ]
  },
  {
   "cell_type": "code",
   "execution_count": 40,
   "id": "156e6659",
   "metadata": {},
   "outputs": [
    {
     "data": {
      "text/plain": [
       "id                0\n",
       "Sex               0\n",
       "Length            0\n",
       "Diameter          0\n",
       "Height            0\n",
       "Weight            0\n",
       "Shucked Weight    0\n",
       "Viscera Weight    0\n",
       "Shell Weight      0\n",
       "Age               0\n",
       "dtype: int64"
      ]
     },
     "execution_count": 40,
     "metadata": {},
     "output_type": "execute_result"
    }
   ],
   "source": [
    "train_df.isna().sum()"
   ]
  },
  {
   "cell_type": "code",
   "execution_count": 41,
   "id": "6243b474",
   "metadata": {},
   "outputs": [
    {
     "name": "stdout",
     "output_type": "stream",
     "text": [
      "<class 'pandas.core.frame.DataFrame'>\n",
      "RangeIndex: 74051 entries, 0 to 74050\n",
      "Data columns (total 10 columns):\n",
      " #   Column          Non-Null Count  Dtype  \n",
      "---  ------          --------------  -----  \n",
      " 0   id              74051 non-null  int64  \n",
      " 1   Sex             74051 non-null  object \n",
      " 2   Length          74051 non-null  float64\n",
      " 3   Diameter        74051 non-null  float64\n",
      " 4   Height          74051 non-null  float64\n",
      " 5   Weight          74051 non-null  float64\n",
      " 6   Shucked Weight  74051 non-null  float64\n",
      " 7   Viscera Weight  74051 non-null  float64\n",
      " 8   Shell Weight    74051 non-null  float64\n",
      " 9   Age             74051 non-null  int64  \n",
      "dtypes: float64(7), int64(2), object(1)\n",
      "memory usage: 5.6+ MB\n"
     ]
    }
   ],
   "source": [
    "train_df.info()"
   ]
  },
  {
   "cell_type": "markdown",
   "id": "a569090f",
   "metadata": {},
   "source": [
    "### Feature Distributions"
   ]
  },
  {
   "cell_type": "code",
   "execution_count": 42,
   "id": "dc67c6fc",
   "metadata": {
    "scrolled": false
   },
   "outputs": [
    {
     "data": {
      "image/png": "[encoded data removed]",
      "text/plain": [
       "<Figure size 500x500 with 1 Axes>"
      ]
     },
     "metadata": {},
     "output_type": "display_data"
    }
   ],
   "source": [
    "train_df[\"Sex\"].value_counts().plot.bar(figsize=(5, 5))\n",
    "plt.title(\"Grabs by Sex\")\n",
    "plt.xticks(rotation=0)\n",
    "plt.xlabel(\"Sex\")\n",
    "plt.ylabel(\"Count\");"
   ]
  },
  {
   "cell_type": "code",
   "execution_count": 50,
   "id": "d82b0187",
   "metadata": {
    "scrolled": false
   },
   "outputs": [
    {
     "data": {
      "image/png": "[encoded data removed]",
      "text/plain": [
       "<Figure size 640x480 with 1 Axes>"
      ]
     },
     "metadata": {},
     "output_type": "display_data"
    }
   ],
   "source": [
    "sns.histplot(train_df['Age'], bins=15, kde=False)\n",
    "plt.show()"
   ]
  },
  {
   "cell_type": "markdown",
   "id": "d2750309",
   "metadata": {},
   "source": [
    "The histogram seems to have a right-tail skew. With most people crabs with age 10."
   ]
  },
  {
   "cell_type": "markdown",
   "id": "e7a73e42",
   "metadata": {},
   "source": [
    "### Outlier Detection"
   ]
  },
  {
   "cell_type": "code",
   "execution_count": 51,
   "id": "8eab7fee",
   "metadata": {},
   "outputs": [
    {
     "data": {
      "image/png": "[encoded data removed]",
      "text/plain": [
       "<Figure size 2000x600 with 1 Axes>"
      ]
     },
     "metadata": {},
     "output_type": "display_data"
    }
   ],
   "source": [
    "plt.figure(figsize=(20, 6))\n",
    "sns.boxplot(data=train_df, x='Height', y='Age')\n",
    "plt.title(\"Age Distribution by Crab Height\")\n",
    "plt.xlabel(\"Height\")\n",
    "plt.ylabel(\"Age\")\n",
    "plt.xticks(rotation=90)\n",
    "plt.show()"
   ]
  },
  {
   "cell_type": "markdown",
   "id": "383d79ae",
   "metadata": {},
   "source": [
    "Based on the boxplot of the height disitrbution by age, there seems to be a lot of outliers for a lot of those crabs with different heights. "
   ]
  },
  {
   "cell_type": "markdown",
   "id": "51b7de22",
   "metadata": {},
   "source": [
    "## Clean Data\n",
    "\n",
    "- Just for my personal preference, I'm going to lower case the column names. "
   ]
  },
  {
   "cell_type": "code",
   "execution_count": 52,
   "id": "20dea20d",
   "metadata": {},
   "outputs": [
    {
     "data": {
      "text/html": [
       "<div>\n",
       "<style scoped>\n",
       "    .dataframe tbody tr th:only-of-type {\n",
       "        vertical-align: middle;\n",
       "    }\n",
       "\n",
       "    .dataframe tbody tr th {\n",
       "        vertical-align: top;\n",
       "    }\n",
       "\n",
       "    .dataframe thead th {\n",
       "        text-align: right;\n",
       "    }\n",
       "</style>\n",
       "<table border=\"1\" class=\"dataframe\">\n",
       "  <thead>\n",
       "    <tr style=\"text-align: right;\">\n",
       "      <th></th>\n",
       "      <th>id</th>\n",
       "      <th>sex</th>\n",
       "      <th>length</th>\n",
       "      <th>diameter</th>\n",
       "      <th>height</th>\n",
       "      <th>weight</th>\n",
       "      <th>shucked weight</th>\n",
       "      <th>viscera weight</th>\n",
       "      <th>shell weight</th>\n",
       "      <th>age</th>\n",
       "    </tr>\n",
       "  </thead>\n",
       "  <tbody>\n",
       "    <tr>\n",
       "      <th>0</th>\n",
       "      <td>0</td>\n",
       "      <td>I</td>\n",
       "      <td>1.5250</td>\n",
       "      <td>1.1750</td>\n",
       "      <td>0.3750</td>\n",
       "      <td>28.973189</td>\n",
       "      <td>12.728926</td>\n",
       "      <td>6.647958</td>\n",
       "      <td>8.348928</td>\n",
       "      <td>9</td>\n",
       "    </tr>\n",
       "    <tr>\n",
       "      <th>1</th>\n",
       "      <td>1</td>\n",
       "      <td>I</td>\n",
       "      <td>1.1000</td>\n",
       "      <td>0.8250</td>\n",
       "      <td>0.2750</td>\n",
       "      <td>10.418441</td>\n",
       "      <td>4.521745</td>\n",
       "      <td>2.324659</td>\n",
       "      <td>3.401940</td>\n",
       "      <td>8</td>\n",
       "    </tr>\n",
       "    <tr>\n",
       "      <th>2</th>\n",
       "      <td>2</td>\n",
       "      <td>M</td>\n",
       "      <td>1.3875</td>\n",
       "      <td>1.1125</td>\n",
       "      <td>0.3750</td>\n",
       "      <td>24.777463</td>\n",
       "      <td>11.339800</td>\n",
       "      <td>5.556502</td>\n",
       "      <td>6.662133</td>\n",
       "      <td>9</td>\n",
       "    </tr>\n",
       "    <tr>\n",
       "      <th>3</th>\n",
       "      <td>3</td>\n",
       "      <td>F</td>\n",
       "      <td>1.7000</td>\n",
       "      <td>1.4125</td>\n",
       "      <td>0.5000</td>\n",
       "      <td>50.660556</td>\n",
       "      <td>20.354941</td>\n",
       "      <td>10.991839</td>\n",
       "      <td>14.996885</td>\n",
       "      <td>11</td>\n",
       "    </tr>\n",
       "    <tr>\n",
       "      <th>4</th>\n",
       "      <td>4</td>\n",
       "      <td>I</td>\n",
       "      <td>1.2500</td>\n",
       "      <td>1.0125</td>\n",
       "      <td>0.3375</td>\n",
       "      <td>23.289114</td>\n",
       "      <td>11.977664</td>\n",
       "      <td>4.507570</td>\n",
       "      <td>5.953395</td>\n",
       "      <td>8</td>\n",
       "    </tr>\n",
       "  </tbody>\n",
       "</table>\n",
       "</div>"
      ],
      "text/plain": [
       "   id sex  length  diameter  height     weight  shucked weight   \n",
       "0   0   I  1.5250    1.1750  0.3750  28.973189       12.728926  \\\n",
       "1   1   I  1.1000    0.8250  0.2750  10.418441        4.521745   \n",
       "2   2   M  1.3875    1.1125  0.3750  24.777463       11.339800   \n",
       "3   3   F  1.7000    1.4125  0.5000  50.660556       20.354941   \n",
       "4   4   I  1.2500    1.0125  0.3375  23.289114       11.977664   \n",
       "\n",
       "   viscera weight  shell weight  age  \n",
       "0        6.647958      8.348928    9  \n",
       "1        2.324659      3.401940    8  \n",
       "2        5.556502      6.662133    9  \n",
       "3       10.991839     14.996885   11  \n",
       "4        4.507570      5.953395    8  "
      ]
     },
     "execution_count": 52,
     "metadata": {},
     "output_type": "execute_result"
    }
   ],
   "source": [
    "train_df.columns = train_df.columns.str.lower()\n",
    "train_df.head()"
   ]
  },
  {
   "cell_type": "code",
   "execution_count": 53,
   "id": "43f485a2",
   "metadata": {},
   "outputs": [
    {
     "data": {
      "text/html": [
       "<div>\n",
       "<style scoped>\n",
       "    .dataframe tbody tr th:only-of-type {\n",
       "        vertical-align: middle;\n",
       "    }\n",
       "\n",
       "    .dataframe tbody tr th {\n",
       "        vertical-align: top;\n",
       "    }\n",
       "\n",
       "    .dataframe thead th {\n",
       "        text-align: right;\n",
       "    }\n",
       "</style>\n",
       "<table border=\"1\" class=\"dataframe\">\n",
       "  <thead>\n",
       "    <tr style=\"text-align: right;\">\n",
       "      <th></th>\n",
       "      <th>sex</th>\n",
       "      <th>length</th>\n",
       "      <th>diameter</th>\n",
       "      <th>height</th>\n",
       "      <th>weight</th>\n",
       "      <th>shucked weight</th>\n",
       "      <th>viscera weight</th>\n",
       "      <th>shell weight</th>\n",
       "      <th>age</th>\n",
       "    </tr>\n",
       "  </thead>\n",
       "  <tbody>\n",
       "    <tr>\n",
       "      <th>0</th>\n",
       "      <td>I</td>\n",
       "      <td>1.5250</td>\n",
       "      <td>1.1750</td>\n",
       "      <td>0.3750</td>\n",
       "      <td>28.973189</td>\n",
       "      <td>12.728926</td>\n",
       "      <td>6.647958</td>\n",
       "      <td>8.348928</td>\n",
       "      <td>9</td>\n",
       "    </tr>\n",
       "    <tr>\n",
       "      <th>1</th>\n",
       "      <td>I</td>\n",
       "      <td>1.1000</td>\n",
       "      <td>0.8250</td>\n",
       "      <td>0.2750</td>\n",
       "      <td>10.418441</td>\n",
       "      <td>4.521745</td>\n",
       "      <td>2.324659</td>\n",
       "      <td>3.401940</td>\n",
       "      <td>8</td>\n",
       "    </tr>\n",
       "    <tr>\n",
       "      <th>2</th>\n",
       "      <td>M</td>\n",
       "      <td>1.3875</td>\n",
       "      <td>1.1125</td>\n",
       "      <td>0.3750</td>\n",
       "      <td>24.777463</td>\n",
       "      <td>11.339800</td>\n",
       "      <td>5.556502</td>\n",
       "      <td>6.662133</td>\n",
       "      <td>9</td>\n",
       "    </tr>\n",
       "    <tr>\n",
       "      <th>3</th>\n",
       "      <td>F</td>\n",
       "      <td>1.7000</td>\n",
       "      <td>1.4125</td>\n",
       "      <td>0.5000</td>\n",
       "      <td>50.660556</td>\n",
       "      <td>20.354941</td>\n",
       "      <td>10.991839</td>\n",
       "      <td>14.996885</td>\n",
       "      <td>11</td>\n",
       "    </tr>\n",
       "    <tr>\n",
       "      <th>4</th>\n",
       "      <td>I</td>\n",
       "      <td>1.2500</td>\n",
       "      <td>1.0125</td>\n",
       "      <td>0.3375</td>\n",
       "      <td>23.289114</td>\n",
       "      <td>11.977664</td>\n",
       "      <td>4.507570</td>\n",
       "      <td>5.953395</td>\n",
       "      <td>8</td>\n",
       "    </tr>\n",
       "    <tr>\n",
       "      <th>...</th>\n",
       "      <td>...</td>\n",
       "      <td>...</td>\n",
       "      <td>...</td>\n",
       "      <td>...</td>\n",
       "      <td>...</td>\n",
       "      <td>...</td>\n",
       "      <td>...</td>\n",
       "      <td>...</td>\n",
       "      <td>...</td>\n",
       "    </tr>\n",
       "    <tr>\n",
       "      <th>74046</th>\n",
       "      <td>F</td>\n",
       "      <td>1.6625</td>\n",
       "      <td>1.2625</td>\n",
       "      <td>0.4375</td>\n",
       "      <td>50.660556</td>\n",
       "      <td>20.680960</td>\n",
       "      <td>10.361742</td>\n",
       "      <td>12.332033</td>\n",
       "      <td>10</td>\n",
       "    </tr>\n",
       "    <tr>\n",
       "      <th>74047</th>\n",
       "      <td>I</td>\n",
       "      <td>1.0750</td>\n",
       "      <td>0.8625</td>\n",
       "      <td>0.2750</td>\n",
       "      <td>10.446791</td>\n",
       "      <td>4.323299</td>\n",
       "      <td>2.296310</td>\n",
       "      <td>3.543687</td>\n",
       "      <td>6</td>\n",
       "    </tr>\n",
       "    <tr>\n",
       "      <th>74048</th>\n",
       "      <td>F</td>\n",
       "      <td>1.4875</td>\n",
       "      <td>1.2000</td>\n",
       "      <td>0.4125</td>\n",
       "      <td>29.483480</td>\n",
       "      <td>12.303683</td>\n",
       "      <td>7.540967</td>\n",
       "      <td>8.079607</td>\n",
       "      <td>10</td>\n",
       "    </tr>\n",
       "    <tr>\n",
       "      <th>74049</th>\n",
       "      <td>I</td>\n",
       "      <td>1.2125</td>\n",
       "      <td>0.9625</td>\n",
       "      <td>0.3125</td>\n",
       "      <td>16.768729</td>\n",
       "      <td>8.972617</td>\n",
       "      <td>2.919999</td>\n",
       "      <td>4.280774</td>\n",
       "      <td>8</td>\n",
       "    </tr>\n",
       "    <tr>\n",
       "      <th>74050</th>\n",
       "      <td>I</td>\n",
       "      <td>0.9125</td>\n",
       "      <td>0.6750</td>\n",
       "      <td>0.2000</td>\n",
       "      <td>5.386405</td>\n",
       "      <td>2.055339</td>\n",
       "      <td>1.034757</td>\n",
       "      <td>1.700970</td>\n",
       "      <td>6</td>\n",
       "    </tr>\n",
       "  </tbody>\n",
       "</table>\n",
       "<p>74051 rows × 9 columns</p>\n",
       "</div>"
      ],
      "text/plain": [
       "      sex  length  diameter  height     weight  shucked weight   \n",
       "0       I  1.5250    1.1750  0.3750  28.973189       12.728926  \\\n",
       "1       I  1.1000    0.8250  0.2750  10.418441        4.521745   \n",
       "2       M  1.3875    1.1125  0.3750  24.777463       11.339800   \n",
       "3       F  1.7000    1.4125  0.5000  50.660556       20.354941   \n",
       "4       I  1.2500    1.0125  0.3375  23.289114       11.977664   \n",
       "...    ..     ...       ...     ...        ...             ...   \n",
       "74046   F  1.6625    1.2625  0.4375  50.660556       20.680960   \n",
       "74047   I  1.0750    0.8625  0.2750  10.446791        4.323299   \n",
       "74048   F  1.4875    1.2000  0.4125  29.483480       12.303683   \n",
       "74049   I  1.2125    0.9625  0.3125  16.768729        8.972617   \n",
       "74050   I  0.9125    0.6750  0.2000   5.386405        2.055339   \n",
       "\n",
       "       viscera weight  shell weight  age  \n",
       "0            6.647958      8.348928    9  \n",
       "1            2.324659      3.401940    8  \n",
       "2            5.556502      6.662133    9  \n",
       "3           10.991839     14.996885   11  \n",
       "4            4.507570      5.953395    8  \n",
       "...               ...           ...  ...  \n",
       "74046       10.361742     12.332033   10  \n",
       "74047        2.296310      3.543687    6  \n",
       "74048        7.540967      8.079607   10  \n",
       "74049        2.919999      4.280774    8  \n",
       "74050        1.034757      1.700970    6  \n",
       "\n",
       "[74051 rows x 9 columns]"
      ]
     },
     "execution_count": 53,
     "metadata": {},
     "output_type": "execute_result"
    }
   ],
   "source": [
    "train_df.drop(\"id\", axis=1, inplace=True)\n",
    "train_df"
   ]
  },
  {
   "cell_type": "markdown",
   "id": "e870519d",
   "metadata": {},
   "source": [
    "## Preprocess\n",
    "\n",
    "- Normalize the numerical vlaues\n",
    "- OHE categorical values"
   ]
  },
  {
   "cell_type": "code",
   "execution_count": 56,
   "id": "d6127965",
   "metadata": {},
   "outputs": [],
   "source": [
    "categorical_features = [\"sex\"]\n",
    "categorical_transformer = Pipeline(steps=[(\"ohe\", OneHotEncoder(handle_unknown=\"ignore\"))])\n",
    "\n",
    "numerical_features = [\n",
    "    \"length\",\n",
    "    \"diameter\",\n",
    "    \"height\",\n",
    "    \"weight\",\n",
    "    \"shucked weight\",\n",
    "    \"viscera weight\",\n",
    "    \"shell weight\"\n",
    "]\n",
    "numerical_transformer = Pipeline(steps=[(\"minmaxscaler\", MinMaxScaler(feature_range=(0, 1)))])\n",
    "\n",
    "preprocessor = ColumnTransformer(transformers=[\n",
    "    (\"categorical\", categorical_transformer, categorical_features),\n",
    "    (\"numerical\", numerical_transformer, numerical_features)\n",
    "])"
   ]
  },
  {
   "cell_type": "markdown",
   "id": "579b945f",
   "metadata": {},
   "source": [
    "## Split train/val/test "
   ]
  },
  {
   "cell_type": "code",
   "execution_count": 64,
   "id": "0ee5abd0",
   "metadata": {},
   "outputs": [],
   "source": [
    "X = train_df.drop(\"age\", axis=1)\n",
    "y = train_df[\"age\"]\n",
    "\n",
    "NUM_IMAGES = 5000"
   ]
  },
  {
   "cell_type": "code",
   "execution_count": 93,
   "id": "d7d6ffb4",
   "metadata": {},
   "outputs": [
    {
     "data": {
      "text/plain": [
       "(59240, 14811, 59240, 14811)"
      ]
     },
     "execution_count": 93,
     "metadata": {},
     "output_type": "execute_result"
    }
   ],
   "source": [
    "X_train, X_test, y_train, y_test = train_test_split(X, y, test_size=0.2, random_state=42)\n",
    "len(X_train), len(X_test), len(y_train), len(y_test)"
   ]
  },
  {
   "cell_type": "markdown",
   "id": "7e069856",
   "metadata": {},
   "source": [
    "## Build Model(s)"
   ]
  },
  {
   "cell_type": "code",
   "execution_count": 168,
   "id": "a1689eac",
   "metadata": {},
   "outputs": [],
   "source": [
    "metrics = {}"
   ]
  },
  {
   "cell_type": "code",
   "execution_count": 176,
   "id": "be885ed4",
   "metadata": {},
   "outputs": [],
   "source": [
    "def combine_model_metrics_to_main_df(metrics):\n",
    "    main_df = pd.DataFrame.from_dict(metrics, orient=\"index\", columns=[\"Score\", \"MAE\", \"MSE\", \"R_squared\", \"Fit_time\"])\n",
    "    return main_df"
   ]
  },
  {
   "cell_type": "code",
   "execution_count": 178,
   "id": "c58ad3eb",
   "metadata": {},
   "outputs": [],
   "source": [
    "def add_train_metrics(model, model_name, X_test, y_test, fit_time):\n",
    "    y_preds = model.predict(X_test)\n",
    "    metrics[model_name] = [\n",
    "        model.score(X_test, y_test),\n",
    "        mean_absolute_error(y_test, y_preds),\n",
    "        mean_squared_error(y_test, y_preds),\n",
    "        r2_score(y_test, y_preds),\n",
    "        fit_time\n",
    "    ]\n",
    "    return metrics"
   ]
  },
  {
   "cell_type": "code",
   "execution_count": 179,
   "id": "d7274c5d",
   "metadata": {},
   "outputs": [],
   "source": [
    "def show_cv_metrics(model, model_name):\n",
    "    metrics = {\n",
    "        \"MAE\": model[\"test_neg_mean_absolute_error\"],\n",
    "        \"MSE\": model[\"test_neg_mean_squared_error\"],\n",
    "        \"R_squared\": model[\"test_r2\"],\n",
    "        \"Fit_time\": model[\"fit_time\"]\n",
    "    }\n",
    "    return metrics"
   ]
  },
  {
   "cell_type": "code",
   "execution_count": 180,
   "id": "e2ad0879",
   "metadata": {},
   "outputs": [],
   "source": [
    "def fit_and_eval(estimator, model_name, X_train, y_train, X_test, y_test):\n",
    "    start = time.time()\n",
    "    model = Pipeline(steps = [\n",
    "        (\"preprocessor\", preprocessor),\n",
    "        (\"model\", estimator)\n",
    "    ])\n",
    "\n",
    "    model.fit(X_train, y_train)\n",
    "    end = time.time()\n",
    "    training_time = end - start\n",
    "\n",
    "    metrics = add_train_metrics(model, model_name, X_test, y_test, training_time)\n",
    "    combined_metrics_df = combine_model_metrics_to_main_df(metrics)\n",
    "    \n",
    "    crossval_rf = cross_validate(model,\n",
    "                                X_train,\n",
    "                                y_train,\n",
    "                                cv=3,\n",
    "                                scoring=(\"neg_mean_squared_error\",\"neg_mean_absolute_error\", \"r2\"),\n",
    "                                return_estimator=True)\n",
    "    \n",
    "\n",
    "    cv_metrics = show_cv_metrics(crossval_rf, model_name)\n",
    "    return combined_metrics_df, cv_metrics"
   ]
  },
  {
   "cell_type": "markdown",
   "id": "d6232241",
   "metadata": {},
   "source": [
    "### Baseline Model Fits and Evaluations"
   ]
  },
  {
   "cell_type": "code",
   "execution_count": 181,
   "id": "03121aae",
   "metadata": {},
   "outputs": [],
   "source": [
    "rf_fit, rf_cv = fit_and_eval(RandomForestRegressor(), \"RandomForestRegressor\", X_train, y_train, X_test, y_test)"
   ]
  },
  {
   "cell_type": "code",
   "execution_count": 184,
   "id": "ed7adec6",
   "metadata": {},
   "outputs": [],
   "source": [
    "gb_fit, gb_cv = fit_and_eval(GradientBoostingRegressor(), \"GradientBoostingRegressor\", X_train, y_train, X_test, y_test)"
   ]
  },
  {
   "cell_type": "code",
   "execution_count": 186,
   "id": "43a610fd",
   "metadata": {
    "scrolled": true
   },
   "outputs": [],
   "source": [
    "lr_fit, lr_cv = fit_and_eval(linear_model.LinearRegression(), \"LinearRegression\", X_train, y_train, X_test, y_test)"
   ]
  },
  {
   "cell_type": "code",
   "execution_count": 187,
   "id": "a07c863b",
   "metadata": {},
   "outputs": [],
   "source": [
    "ridge_fit, ridge_cv = fit_and_eval(linear_model.Ridge(), \"RidgeRegression\", X_train, y_train, X_test, y_test)"
   ]
  },
  {
   "cell_type": "code",
   "execution_count": 188,
   "id": "07d1b8a9",
   "metadata": {},
   "outputs": [],
   "source": [
    "lasso_fit, lasso_cv = fit_and_eval(linear_model.Lasso(), \"LassoRegression\", X_train, y_train, X_test, y_test)"
   ]
  },
  {
   "cell_type": "code",
   "execution_count": 189,
   "id": "e0e279c7",
   "metadata": {},
   "outputs": [],
   "source": [
    "elastic_fit, elastic_cv = fit_and_eval(linear_model.ElasticNet(), \"ElasticNetRegression\", X_train, y_train, X_test, y_test)"
   ]
  },
  {
   "cell_type": "markdown",
   "id": "ba5c1973",
   "metadata": {},
   "source": [
    "### Evaluation"
   ]
  },
  {
   "cell_type": "code",
   "execution_count": 195,
   "id": "4c524636",
   "metadata": {},
   "outputs": [
    {
     "data": {
      "text/html": [
       "<div>\n",
       "<style scoped>\n",
       "    .dataframe tbody tr th:only-of-type {\n",
       "        vertical-align: middle;\n",
       "    }\n",
       "\n",
       "    .dataframe tbody tr th {\n",
       "        vertical-align: top;\n",
       "    }\n",
       "\n",
       "    .dataframe thead th {\n",
       "        text-align: right;\n",
       "    }\n",
       "</style>\n",
       "<table border=\"1\" class=\"dataframe\">\n",
       "  <thead>\n",
       "    <tr style=\"text-align: right;\">\n",
       "      <th></th>\n",
       "      <th>Score</th>\n",
       "      <th>MAE</th>\n",
       "      <th>MSE</th>\n",
       "      <th>R_squared</th>\n",
       "      <th>Fit_time</th>\n",
       "    </tr>\n",
       "  </thead>\n",
       "  <tbody>\n",
       "    <tr>\n",
       "      <th>RandomForestRegressor</th>\n",
       "      <td>0.568760</td>\n",
       "      <td>1.464355</td>\n",
       "      <td>4.395011</td>\n",
       "      <td>0.568760</td>\n",
       "      <td>33.492420</td>\n",
       "    </tr>\n",
       "    <tr>\n",
       "      <th>GradientBoostingRegressor</th>\n",
       "      <td>0.583947</td>\n",
       "      <td>1.426877</td>\n",
       "      <td>4.240231</td>\n",
       "      <td>0.583947</td>\n",
       "      <td>6.587598</td>\n",
       "    </tr>\n",
       "    <tr>\n",
       "      <th>LinearRegression</th>\n",
       "      <td>0.556912</td>\n",
       "      <td>1.488873</td>\n",
       "      <td>4.515764</td>\n",
       "      <td>0.556912</td>\n",
       "      <td>0.042518</td>\n",
       "    </tr>\n",
       "    <tr>\n",
       "      <th>RidgeRegression</th>\n",
       "      <td>0.556801</td>\n",
       "      <td>1.488311</td>\n",
       "      <td>4.516893</td>\n",
       "      <td>0.556801</td>\n",
       "      <td>0.045000</td>\n",
       "    </tr>\n",
       "    <tr>\n",
       "      <th>LassoRegression</th>\n",
       "      <td>-0.000014</td>\n",
       "      <td>2.344023</td>\n",
       "      <td>10.191707</td>\n",
       "      <td>-0.000014</td>\n",
       "      <td>0.035001</td>\n",
       "    </tr>\n",
       "    <tr>\n",
       "      <th>ElasticNetRegression</th>\n",
       "      <td>0.053137</td>\n",
       "      <td>2.277339</td>\n",
       "      <td>9.650022</td>\n",
       "      <td>0.053137</td>\n",
       "      <td>0.041002</td>\n",
       "    </tr>\n",
       "  </tbody>\n",
       "</table>\n",
       "</div>"
      ],
      "text/plain": [
       "                              Score       MAE        MSE  R_squared   Fit_time\n",
       "RandomForestRegressor      0.568760  1.464355   4.395011   0.568760  33.492420\n",
       "GradientBoostingRegressor  0.583947  1.426877   4.240231   0.583947   6.587598\n",
       "LinearRegression           0.556912  1.488873   4.515764   0.556912   0.042518\n",
       "RidgeRegression            0.556801  1.488311   4.516893   0.556801   0.045000\n",
       "LassoRegression           -0.000014  2.344023  10.191707  -0.000014   0.035001\n",
       "ElasticNetRegression       0.053137  2.277339   9.650022   0.053137   0.041002"
      ]
     },
     "execution_count": 195,
     "metadata": {},
     "output_type": "execute_result"
    }
   ],
   "source": [
    "elastic_fit # should rename. This is really the df with all models metrics."
   ]
  },
  {
   "cell_type": "code",
   "execution_count": 198,
   "id": "94a2de06",
   "metadata": {},
   "outputs": [
    {
     "data": {
      "text/plain": [
       "<Axes: >"
      ]
     },
     "execution_count": 198,
     "metadata": {},
     "output_type": "execute_result"
    },
    {
     "data": {
      "image/png": "[encoded data removed]",
      "text/plain": [
       "<Figure size 1000x1000 with 1 Axes>"
      ]
     },
     "metadata": {},
     "output_type": "display_data"
    }
   ],
   "source": [
    "elastic_fit.plot.bar(figsize=(10, 10))"
   ]
  },
  {
   "cell_type": "code",
   "execution_count": null,
   "id": "9bd65902",
   "metadata": {},
   "outputs": [],
   "source": []
  }
 ],
 "metadata": {
  "kernelspec": {
   "display_name": "Python 3 (ipykernel)",
   "language": "python",
   "name": "python3"
  },
  "language_info": {
   "codemirror_mode": {
    "name": "ipython",
    "version": 3
   },
   "file_extension": ".py",
   "mimetype": "text/x-python",
   "name": "python",
   "nbconvert_exporter": "python",
   "pygments_lexer": "ipython3",
   "version": "3.10.11"
  }
 },
 "nbformat": 4,
 "nbformat_minor": 5
}
