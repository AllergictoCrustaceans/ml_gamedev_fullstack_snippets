{
 "cells": [
  {
   "cell_type": "markdown",
   "id": "34cc1415",
   "metadata": {},
   "source": [
    "# Crab Age Regression\n",
    "\n",
    "## Define Problem:\n",
    "This is a regression problem that's created as a [Kaggle competition](https://www.kaggle.com/competitions/playground-series-s3e16/overview). \n",
    "\n",
    "## Data to Use:\n",
    "The dataset to use is supplied by the [Kaggle Playground Prediction Competition](https://www.kaggle.com/competitions/playground-series-s3e16/data).\n",
    "\n",
    "In this data contains:\n",
    "- test.csv\n",
    "- train.csv\n",
    "\n",
    "Both of these datasets were generated from a deep learning model, so this is synthetic data. \n",
    "The original Crab Age dataset (which isn't incorporated into the `train.csv` or `test.csv`) is [here](https://www.kaggle.com/datasets/sidhus/crab-age-prediction).\n",
    "\n",
    "## Evaluation Metrics:\n",
    "The submission will be evaluated using the Mean Absolute Error (MAE). \n",
    "\n",
    "The submission format should be in the following style:\n",
    "> For each id in the test set, you must predict the target Age. The file should contain a header and have the following format:\n",
    "\n",
    "    id,yield\n",
    "    74051,10.2\n",
    "    74051,3.6\n",
    "    74051,11.9\n",
    "    etc.\n",
    "\n",
    "\n",
    "## Features to Use:\n",
    "\n",
    "    sex: I, M, F (categorical)\n",
    "    length: float\n",
    "    diameter: float\n",
    "    height: float\n",
    "    weight: float\n",
    "    shucked weight: float\n",
    "    viscera weight: float\n",
    "    shell weight: float\n",
    "    age: int\n"
   ]
  },
  {
   "cell_type": "markdown",
   "id": "21177493",
   "metadata": {},
   "source": [
    "## Import Libraries"
   ]
  },
  {
   "cell_type": "code",
   "execution_count": 2,
   "id": "b50260a2",
   "metadata": {},
   "outputs": [],
   "source": [
    "import glob, zipfile\n",
    "import numpy as np\n",
    "import pandas as pd\n",
    "import matplotlib.pyplot as plt\n",
    "import seaborn as sns\n",
    "import time\n",
    "\n",
    "# preprocess\n",
    "from sklearn.preprocessing import OneHotEncoder, MinMaxScaler\n",
    "from sklearn.compose import ColumnTransformer\n",
    "from sklearn.pipeline import Pipeline\n",
    "\n",
    "# model\n",
    "from sklearn import linear_model\n",
    "from sklearn import svm\n",
    "from sklearn.ensemble import RandomForestRegressor, GradientBoostingRegressor\n",
    "\n",
    "# evaluation\n",
    "from sklearn.model_selection import train_test_split, cross_validate\n",
    "from sklearn.model_selection import RandomizedSearchCV, GridSearchCV\n",
    "from sklearn.metrics import mean_squared_error, mean_absolute_error, r2_score"
   ]
  },
  {
   "cell_type": "markdown",
   "id": "e45fa530",
   "metadata": {},
   "source": [
    "## Load Data"
   ]
  },
  {
   "cell_type": "code",
   "execution_count": 4,
   "id": "c6f79eba",
   "metadata": {},
   "outputs": [],
   "source": [
    "files = glob.glob(\"data/crab_age.zip\")\n",
    "\n",
    "for file in files:\n",
    "    with zipfile.ZipFile(file, 'r') as zip_ref:\n",
    "        zip_ref.extractall('data/crab_age_raw')"
   ]
  },
  {
   "cell_type": "code",
   "execution_count": 3,
   "id": "523ae79a",
   "metadata": {},
   "outputs": [],
   "source": [
    "# Load datasets\n",
    "train_df = pd.read_csv(\"data/crab_age_raw/train.csv\")\n",
    "test_df = pd.read_csv(\"data/crab_age_raw/test.csv\")"
   ]
  },
  {
   "cell_type": "markdown",
   "id": "6a9893bb",
   "metadata": {},
   "source": [
    "## EDA"
   ]
  },
  {
   "cell_type": "code",
   "execution_count": 4,
   "id": "985d7691",
   "metadata": {},
   "outputs": [
    {
     "name": "stdout",
     "output_type": "stream",
     "text": [
      "   id Sex  Length  Diameter  Height     Weight  Shucked Weight   \n",
      "0   0   I  1.5250    1.1750  0.3750  28.973189       12.728926  \\\n",
      "1   1   I  1.1000    0.8250  0.2750  10.418441        4.521745   \n",
      "2   2   M  1.3875    1.1125  0.3750  24.777463       11.339800   \n",
      "3   3   F  1.7000    1.4125  0.5000  50.660556       20.354941   \n",
      "4   4   I  1.2500    1.0125  0.3375  23.289114       11.977664   \n",
      "\n",
      "   Viscera Weight  Shell Weight  Age  \n",
      "0        6.647958      8.348928    9  \n",
      "1        2.324659      3.401940    8  \n",
      "2        5.556502      6.662133    9  \n",
      "3       10.991839     14.996885   11  \n",
      "4        4.507570      5.953395    8  \n",
      "74051\n"
     ]
    }
   ],
   "source": [
    "print(train_df.head())\n",
    "print(len(train_df))"
   ]
  },
  {
   "cell_type": "markdown",
   "id": "17abad60",
   "metadata": {},
   "source": [
    "These seem to be the following feature attributes:\n",
    "- sex: I, M, F (categorical)\n",
    "- length: float \n",
    "- diameter: float\n",
    "- height: float\n",
    "- weight: float\n",
    "- shucked weight: float\n",
    "- viscera weight: float\n",
    "- shell weight: float\n",
    "- age: int "
   ]
  },
  {
   "cell_type": "markdown",
   "id": "3160a222",
   "metadata": {},
   "source": [
    "### Missing Values Analysis"
   ]
  },
  {
   "cell_type": "code",
   "execution_count": 5,
   "id": "156e6659",
   "metadata": {},
   "outputs": [
    {
     "data": {
      "text/plain": [
       "id                0\n",
       "Sex               0\n",
       "Length            0\n",
       "Diameter          0\n",
       "Height            0\n",
       "Weight            0\n",
       "Shucked Weight    0\n",
       "Viscera Weight    0\n",
       "Shell Weight      0\n",
       "Age               0\n",
       "dtype: int64"
      ]
     },
     "execution_count": 5,
     "metadata": {},
     "output_type": "execute_result"
    }
   ],
   "source": [
    "train_df.isna().sum()"
   ]
  },
  {
   "cell_type": "code",
   "execution_count": 6,
   "id": "6243b474",
   "metadata": {},
   "outputs": [
    {
     "name": "stdout",
     "output_type": "stream",
     "text": [
      "<class 'pandas.core.frame.DataFrame'>\n",
      "RangeIndex: 74051 entries, 0 to 74050\n",
      "Data columns (total 10 columns):\n",
      " #   Column          Non-Null Count  Dtype  \n",
      "---  ------          --------------  -----  \n",
      " 0   id              74051 non-null  int64  \n",
      " 1   Sex             74051 non-null  object \n",
      " 2   Length          74051 non-null  float64\n",
      " 3   Diameter        74051 non-null  float64\n",
      " 4   Height          74051 non-null  float64\n",
      " 5   Weight          74051 non-null  float64\n",
      " 6   Shucked Weight  74051 non-null  float64\n",
      " 7   Viscera Weight  74051 non-null  float64\n",
      " 8   Shell Weight    74051 non-null  float64\n",
      " 9   Age             74051 non-null  int64  \n",
      "dtypes: float64(7), int64(2), object(1)\n",
      "memory usage: 5.6+ MB\n"
     ]
    }
   ],
   "source": [
    "train_df.info()"
   ]
  },
  {
   "cell_type": "markdown",
   "id": "a569090f",
   "metadata": {},
   "source": [
    "### Feature Distributions"
   ]
  },
  {
   "cell_type": "code",
   "execution_count": 7,
   "id": "dc67c6fc",
   "metadata": {
    "scrolled": false
   },
   "outputs": [
    {
     "data": {
      "image/png": "[encoded data removed]",
      "text/plain": [
       "<Figure size 500x500 with 1 Axes>"
      ]
     },
     "metadata": {},
     "output_type": "display_data"
    }
   ],
   "source": [
    "train_df[\"Sex\"].value_counts().plot.bar(figsize=(5, 5))\n",
    "plt.title(\"Grabs by Sex\")\n",
    "plt.xticks(rotation=0)\n",
    "plt.xlabel(\"Sex\")\n",
    "plt.ylabel(\"Count\");"
   ]
  },
  {
   "cell_type": "code",
   "execution_count": 8,
   "id": "d82b0187",
   "metadata": {
    "scrolled": false
   },
   "outputs": [
    {
     "data": {
      "image/png": "[encoded data removed]",
      "text/plain": [
       "<Figure size 640x480 with 1 Axes>"
      ]
     },
     "metadata": {},
     "output_type": "display_data"
    }
   ],
   "source": [
    "sns.histplot(train_df['Age'], bins=15, kde=False)\n",
    "plt.show()"
   ]
  },
  {
   "cell_type": "markdown",
   "id": "d2750309",
   "metadata": {},
   "source": [
    "The histogram seems to have a right-tail skew. With most people crabs with age 10."
   ]
  },
  {
   "cell_type": "markdown",
   "id": "e7a73e42",
   "metadata": {},
   "source": [
    "### Outlier Detection"
   ]
  },
  {
   "cell_type": "code",
   "execution_count": 9,
   "id": "8eab7fee",
   "metadata": {},
   "outputs": [
    {
     "data": {
      "image/png": "[encoded data removed]",
      "text/plain": [
       "<Figure size 2000x600 with 1 Axes>"
      ]
     },
     "metadata": {},
     "output_type": "display_data"
    }
   ],
   "source": [
    "plt.figure(figsize=(20, 6))\n",
    "sns.boxplot(data=train_df, x='Height', y='Age')\n",
    "plt.title(\"Age Distribution by Crab Height\")\n",
    "plt.xlabel(\"Height\")\n",
    "plt.ylabel(\"Age\")\n",
    "plt.xticks(rotation=90)\n",
    "plt.show()"
   ]
  },
  {
   "cell_type": "markdown",
   "id": "383d79ae",
   "metadata": {},
   "source": [
    "Based on the boxplot of the height disitrbution by age, there seems to be a lot of outliers for a lot of those crabs with different heights. Due to the large right-tail skew, it night be worth investigating what types of crabs these are (why they have a bigger age range than the average, despite being around the same height). "
   ]
  },
  {
   "cell_type": "markdown",
   "id": "51b7de22",
   "metadata": {},
   "source": [
    "## Clean Data\n",
    "\n",
    "- Just for my personal preference, I'm going to lower case the column names. "
   ]
  },
  {
   "cell_type": "code",
   "execution_count": 10,
   "id": "20dea20d",
   "metadata": {},
   "outputs": [
    {
     "data": {
      "text/html": [
       "<div>\n",
       "<style scoped>\n",
       "    .dataframe tbody tr th:only-of-type {\n",
       "        vertical-align: middle;\n",
       "    }\n",
       "\n",
       "    .dataframe tbody tr th {\n",
       "        vertical-align: top;\n",
       "    }\n",
       "\n",
       "    .dataframe thead th {\n",
       "        text-align: right;\n",
       "    }\n",
       "</style>\n",
       "<table border=\"1\" class=\"dataframe\">\n",
       "  <thead>\n",
       "    <tr style=\"text-align: right;\">\n",
       "      <th></th>\n",
       "      <th>id</th>\n",
       "      <th>sex</th>\n",
       "      <th>length</th>\n",
       "      <th>diameter</th>\n",
       "      <th>height</th>\n",
       "      <th>weight</th>\n",
       "      <th>shucked weight</th>\n",
       "      <th>viscera weight</th>\n",
       "      <th>shell weight</th>\n",
       "      <th>age</th>\n",
       "    </tr>\n",
       "  </thead>\n",
       "  <tbody>\n",
       "    <tr>\n",
       "      <th>0</th>\n",
       "      <td>0</td>\n",
       "      <td>I</td>\n",
       "      <td>1.5250</td>\n",
       "      <td>1.1750</td>\n",
       "      <td>0.3750</td>\n",
       "      <td>28.973189</td>\n",
       "      <td>12.728926</td>\n",
       "      <td>6.647958</td>\n",
       "      <td>8.348928</td>\n",
       "      <td>9</td>\n",
       "    </tr>\n",
       "    <tr>\n",
       "      <th>1</th>\n",
       "      <td>1</td>\n",
       "      <td>I</td>\n",
       "      <td>1.1000</td>\n",
       "      <td>0.8250</td>\n",
       "      <td>0.2750</td>\n",
       "      <td>10.418441</td>\n",
       "      <td>4.521745</td>\n",
       "      <td>2.324659</td>\n",
       "      <td>3.401940</td>\n",
       "      <td>8</td>\n",
       "    </tr>\n",
       "    <tr>\n",
       "      <th>2</th>\n",
       "      <td>2</td>\n",
       "      <td>M</td>\n",
       "      <td>1.3875</td>\n",
       "      <td>1.1125</td>\n",
       "      <td>0.3750</td>\n",
       "      <td>24.777463</td>\n",
       "      <td>11.339800</td>\n",
       "      <td>5.556502</td>\n",
       "      <td>6.662133</td>\n",
       "      <td>9</td>\n",
       "    </tr>\n",
       "    <tr>\n",
       "      <th>3</th>\n",
       "      <td>3</td>\n",
       "      <td>F</td>\n",
       "      <td>1.7000</td>\n",
       "      <td>1.4125</td>\n",
       "      <td>0.5000</td>\n",
       "      <td>50.660556</td>\n",
       "      <td>20.354941</td>\n",
       "      <td>10.991839</td>\n",
       "      <td>14.996885</td>\n",
       "      <td>11</td>\n",
       "    </tr>\n",
       "    <tr>\n",
       "      <th>4</th>\n",
       "      <td>4</td>\n",
       "      <td>I</td>\n",
       "      <td>1.2500</td>\n",
       "      <td>1.0125</td>\n",
       "      <td>0.3375</td>\n",
       "      <td>23.289114</td>\n",
       "      <td>11.977664</td>\n",
       "      <td>4.507570</td>\n",
       "      <td>5.953395</td>\n",
       "      <td>8</td>\n",
       "    </tr>\n",
       "  </tbody>\n",
       "</table>\n",
       "</div>"
      ],
      "text/plain": [
       "   id sex  length  diameter  height     weight  shucked weight   \n",
       "0   0   I  1.5250    1.1750  0.3750  28.973189       12.728926  \\\n",
       "1   1   I  1.1000    0.8250  0.2750  10.418441        4.521745   \n",
       "2   2   M  1.3875    1.1125  0.3750  24.777463       11.339800   \n",
       "3   3   F  1.7000    1.4125  0.5000  50.660556       20.354941   \n",
       "4   4   I  1.2500    1.0125  0.3375  23.289114       11.977664   \n",
       "\n",
       "   viscera weight  shell weight  age  \n",
       "0        6.647958      8.348928    9  \n",
       "1        2.324659      3.401940    8  \n",
       "2        5.556502      6.662133    9  \n",
       "3       10.991839     14.996885   11  \n",
       "4        4.507570      5.953395    8  "
      ]
     },
     "execution_count": 10,
     "metadata": {},
     "output_type": "execute_result"
    }
   ],
   "source": [
    "train_df.columns = train_df.columns.str.lower()\n",
    "train_df.head()"
   ]
  },
  {
   "cell_type": "code",
   "execution_count": 11,
   "id": "43f485a2",
   "metadata": {},
   "outputs": [
    {
     "data": {
      "text/html": [
       "<div>\n",
       "<style scoped>\n",
       "    .dataframe tbody tr th:only-of-type {\n",
       "        vertical-align: middle;\n",
       "    }\n",
       "\n",
       "    .dataframe tbody tr th {\n",
       "        vertical-align: top;\n",
       "    }\n",
       "\n",
       "    .dataframe thead th {\n",
       "        text-align: right;\n",
       "    }\n",
       "</style>\n",
       "<table border=\"1\" class=\"dataframe\">\n",
       "  <thead>\n",
       "    <tr style=\"text-align: right;\">\n",
       "      <th></th>\n",
       "      <th>sex</th>\n",
       "      <th>length</th>\n",
       "      <th>diameter</th>\n",
       "      <th>height</th>\n",
       "      <th>weight</th>\n",
       "      <th>shucked weight</th>\n",
       "      <th>viscera weight</th>\n",
       "      <th>shell weight</th>\n",
       "      <th>age</th>\n",
       "    </tr>\n",
       "  </thead>\n",
       "  <tbody>\n",
       "    <tr>\n",
       "      <th>0</th>\n",
       "      <td>I</td>\n",
       "      <td>1.5250</td>\n",
       "      <td>1.1750</td>\n",
       "      <td>0.3750</td>\n",
       "      <td>28.973189</td>\n",
       "      <td>12.728926</td>\n",
       "      <td>6.647958</td>\n",
       "      <td>8.348928</td>\n",
       "      <td>9</td>\n",
       "    </tr>\n",
       "    <tr>\n",
       "      <th>1</th>\n",
       "      <td>I</td>\n",
       "      <td>1.1000</td>\n",
       "      <td>0.8250</td>\n",
       "      <td>0.2750</td>\n",
       "      <td>10.418441</td>\n",
       "      <td>4.521745</td>\n",
       "      <td>2.324659</td>\n",
       "      <td>3.401940</td>\n",
       "      <td>8</td>\n",
       "    </tr>\n",
       "    <tr>\n",
       "      <th>2</th>\n",
       "      <td>M</td>\n",
       "      <td>1.3875</td>\n",
       "      <td>1.1125</td>\n",
       "      <td>0.3750</td>\n",
       "      <td>24.777463</td>\n",
       "      <td>11.339800</td>\n",
       "      <td>5.556502</td>\n",
       "      <td>6.662133</td>\n",
       "      <td>9</td>\n",
       "    </tr>\n",
       "    <tr>\n",
       "      <th>3</th>\n",
       "      <td>F</td>\n",
       "      <td>1.7000</td>\n",
       "      <td>1.4125</td>\n",
       "      <td>0.5000</td>\n",
       "      <td>50.660556</td>\n",
       "      <td>20.354941</td>\n",
       "      <td>10.991839</td>\n",
       "      <td>14.996885</td>\n",
       "      <td>11</td>\n",
       "    </tr>\n",
       "    <tr>\n",
       "      <th>4</th>\n",
       "      <td>I</td>\n",
       "      <td>1.2500</td>\n",
       "      <td>1.0125</td>\n",
       "      <td>0.3375</td>\n",
       "      <td>23.289114</td>\n",
       "      <td>11.977664</td>\n",
       "      <td>4.507570</td>\n",
       "      <td>5.953395</td>\n",
       "      <td>8</td>\n",
       "    </tr>\n",
       "    <tr>\n",
       "      <th>...</th>\n",
       "      <td>...</td>\n",
       "      <td>...</td>\n",
       "      <td>...</td>\n",
       "      <td>...</td>\n",
       "      <td>...</td>\n",
       "      <td>...</td>\n",
       "      <td>...</td>\n",
       "      <td>...</td>\n",
       "      <td>...</td>\n",
       "    </tr>\n",
       "    <tr>\n",
       "      <th>74046</th>\n",
       "      <td>F</td>\n",
       "      <td>1.6625</td>\n",
       "      <td>1.2625</td>\n",
       "      <td>0.4375</td>\n",
       "      <td>50.660556</td>\n",
       "      <td>20.680960</td>\n",
       "      <td>10.361742</td>\n",
       "      <td>12.332033</td>\n",
       "      <td>10</td>\n",
       "    </tr>\n",
       "    <tr>\n",
       "      <th>74047</th>\n",
       "      <td>I</td>\n",
       "      <td>1.0750</td>\n",
       "      <td>0.8625</td>\n",
       "      <td>0.2750</td>\n",
       "      <td>10.446791</td>\n",
       "      <td>4.323299</td>\n",
       "      <td>2.296310</td>\n",
       "      <td>3.543687</td>\n",
       "      <td>6</td>\n",
       "    </tr>\n",
       "    <tr>\n",
       "      <th>74048</th>\n",
       "      <td>F</td>\n",
       "      <td>1.4875</td>\n",
       "      <td>1.2000</td>\n",
       "      <td>0.4125</td>\n",
       "      <td>29.483480</td>\n",
       "      <td>12.303683</td>\n",
       "      <td>7.540967</td>\n",
       "      <td>8.079607</td>\n",
       "      <td>10</td>\n",
       "    </tr>\n",
       "    <tr>\n",
       "      <th>74049</th>\n",
       "      <td>I</td>\n",
       "      <td>1.2125</td>\n",
       "      <td>0.9625</td>\n",
       "      <td>0.3125</td>\n",
       "      <td>16.768729</td>\n",
       "      <td>8.972617</td>\n",
       "      <td>2.919999</td>\n",
       "      <td>4.280774</td>\n",
       "      <td>8</td>\n",
       "    </tr>\n",
       "    <tr>\n",
       "      <th>74050</th>\n",
       "      <td>I</td>\n",
       "      <td>0.9125</td>\n",
       "      <td>0.6750</td>\n",
       "      <td>0.2000</td>\n",
       "      <td>5.386405</td>\n",
       "      <td>2.055339</td>\n",
       "      <td>1.034757</td>\n",
       "      <td>1.700970</td>\n",
       "      <td>6</td>\n",
       "    </tr>\n",
       "  </tbody>\n",
       "</table>\n",
       "<p>74051 rows × 9 columns</p>\n",
       "</div>"
      ],
      "text/plain": [
       "      sex  length  diameter  height     weight  shucked weight   \n",
       "0       I  1.5250    1.1750  0.3750  28.973189       12.728926  \\\n",
       "1       I  1.1000    0.8250  0.2750  10.418441        4.521745   \n",
       "2       M  1.3875    1.1125  0.3750  24.777463       11.339800   \n",
       "3       F  1.7000    1.4125  0.5000  50.660556       20.354941   \n",
       "4       I  1.2500    1.0125  0.3375  23.289114       11.977664   \n",
       "...    ..     ...       ...     ...        ...             ...   \n",
       "74046   F  1.6625    1.2625  0.4375  50.660556       20.680960   \n",
       "74047   I  1.0750    0.8625  0.2750  10.446791        4.323299   \n",
       "74048   F  1.4875    1.2000  0.4125  29.483480       12.303683   \n",
       "74049   I  1.2125    0.9625  0.3125  16.768729        8.972617   \n",
       "74050   I  0.9125    0.6750  0.2000   5.386405        2.055339   \n",
       "\n",
       "       viscera weight  shell weight  age  \n",
       "0            6.647958      8.348928    9  \n",
       "1            2.324659      3.401940    8  \n",
       "2            5.556502      6.662133    9  \n",
       "3           10.991839     14.996885   11  \n",
       "4            4.507570      5.953395    8  \n",
       "...               ...           ...  ...  \n",
       "74046       10.361742     12.332033   10  \n",
       "74047        2.296310      3.543687    6  \n",
       "74048        7.540967      8.079607   10  \n",
       "74049        2.919999      4.280774    8  \n",
       "74050        1.034757      1.700970    6  \n",
       "\n",
       "[74051 rows x 9 columns]"
      ]
     },
     "execution_count": 11,
     "metadata": {},
     "output_type": "execute_result"
    }
   ],
   "source": [
    "train_df.drop(\"id\", axis=1, inplace=True)\n",
    "train_df"
   ]
  },
  {
   "cell_type": "markdown",
   "id": "e870519d",
   "metadata": {},
   "source": [
    "## Preprocess\n",
    "\n",
    "- Normalize the numerical vlaues\n",
    "- OHE categorical values"
   ]
  },
  {
   "cell_type": "code",
   "execution_count": 12,
   "id": "d6127965",
   "metadata": {},
   "outputs": [],
   "source": [
    "categorical_features = [\"sex\"]\n",
    "categorical_transformer = Pipeline(steps=[(\"ohe\", OneHotEncoder(handle_unknown=\"ignore\"))])\n",
    "\n",
    "numerical_features = [\n",
    "    \"length\",\n",
    "    \"diameter\",\n",
    "    \"height\",\n",
    "    \"weight\",\n",
    "    \"shucked weight\",\n",
    "    \"viscera weight\",\n",
    "    \"shell weight\"\n",
    "]\n",
    "numerical_transformer = Pipeline(steps=[(\"minmaxscaler\", MinMaxScaler(feature_range=(0, 1)))])\n",
    "\n",
    "preprocessor = ColumnTransformer(transformers=[\n",
    "    (\"categorical\", categorical_transformer, categorical_features),\n",
    "    (\"numerical\", numerical_transformer, numerical_features)\n",
    "])"
   ]
  },
  {
   "cell_type": "markdown",
   "id": "579b945f",
   "metadata": {},
   "source": [
    "## Split train/val/test "
   ]
  },
  {
   "cell_type": "code",
   "execution_count": 13,
   "id": "0ee5abd0",
   "metadata": {},
   "outputs": [],
   "source": [
    "X = train_df.drop(\"age\", axis=1)\n",
    "y = train_df[\"age\"]\n",
    "\n",
    "NUM_IMAGES = 5000"
   ]
  },
  {
   "cell_type": "code",
   "execution_count": 14,
   "id": "d7d6ffb4",
   "metadata": {},
   "outputs": [
    {
     "data": {
      "text/plain": [
       "(59240, 14811, 59240, 14811)"
      ]
     },
     "execution_count": 14,
     "metadata": {},
     "output_type": "execute_result"
    }
   ],
   "source": [
    "X_train, X_test, y_train, y_test = train_test_split(X, y, test_size=0.2, random_state=42)\n",
    "len(X_train), len(X_test), len(y_train), len(y_test)"
   ]
  },
  {
   "cell_type": "markdown",
   "id": "7e069856",
   "metadata": {},
   "source": [
    "## Build Model(s)"
   ]
  },
  {
   "cell_type": "code",
   "execution_count": 15,
   "id": "a1689eac",
   "metadata": {},
   "outputs": [],
   "source": [
    "metrics = {}"
   ]
  },
  {
   "cell_type": "code",
   "execution_count": 34,
   "id": "be885ed4",
   "metadata": {},
   "outputs": [],
   "source": [
    "def combine_model_metrics_to_main_df(metrics):\n",
    "    main_df = pd.DataFrame.from_dict(metrics, orient=\"index\", columns=[\"Score\", \"MAE\", \"MSE\", \"R_squared\", \"Fit_time\"])\n",
    "    return main_df"
   ]
  },
  {
   "cell_type": "code",
   "execution_count": 35,
   "id": "c58ad3eb",
   "metadata": {},
   "outputs": [],
   "source": [
    "def add_train_metrics(model, model_name, X_test, y_test, fit_time, df):\n",
    "    y_preds = model.predict(X_test)\n",
    "    df[model_name] = [\n",
    "        model.score(X_test, y_test),\n",
    "        mean_absolute_error(y_test, y_preds),\n",
    "        mean_squared_error(y_test, y_preds),\n",
    "        r2_score(y_test, y_preds),\n",
    "        fit_time\n",
    "    ]\n",
    "    return metrics"
   ]
  },
  {
   "cell_type": "code",
   "execution_count": 31,
   "id": "d7274c5d",
   "metadata": {},
   "outputs": [],
   "source": [
    "def show_cv_metrics(model):\n",
    "    metrics = {\n",
    "        \"MAE\": model[\"test_neg_mean_absolute_error\"],\n",
    "        \"MSE\": model[\"test_neg_mean_squared_error\"],\n",
    "        \"R_squared\": model[\"test_r2\"],\n",
    "        \"Fit_time\": model[\"fit_time\"]\n",
    "    }\n",
    "    return metrics"
   ]
  },
  {
   "cell_type": "code",
   "execution_count": 32,
   "id": "e2ad0879",
   "metadata": {},
   "outputs": [],
   "source": [
    "def fit_and_eval(estimator, model_name, X_train, y_train, X_test, y_test, df):\n",
    "    start = time.time()\n",
    "    model = Pipeline(steps = [\n",
    "        (\"preprocessor\", preprocessor),\n",
    "        (\"model\", estimator)\n",
    "    ])\n",
    "\n",
    "    model.fit(X_train, y_train)\n",
    "    end = time.time()\n",
    "    training_time = end - start\n",
    "\n",
    "    train_metrics = add_train_metrics(model, model_name, X_test, y_test, training_time, df)\n",
    "    combined_metrics_df = combine_model_metrics_to_main_df(train_metrics)\n",
    "    \n",
    "    crossval_rf = cross_validate(model,\n",
    "                                X_train,\n",
    "                                y_train,\n",
    "                                cv=3,\n",
    "                                scoring=(\"neg_mean_squared_error\",\"neg_mean_absolute_error\", \"r2\"),\n",
    "                                return_estimator=True)\n",
    "    \n",
    "\n",
    "    cv_metrics = show_cv_metrics(crossval_rf)\n",
    "    return combined_metrics_df, cv_metrics"
   ]
  },
  {
   "cell_type": "markdown",
   "id": "d6232241",
   "metadata": {},
   "source": [
    "### Baseline Model Fits and Evaluations"
   ]
  },
  {
   "cell_type": "code",
   "execution_count": 20,
   "id": "03121aae",
   "metadata": {},
   "outputs": [],
   "source": [
    "rf_fit, rf_cv = fit_and_eval(RandomForestRegressor(), \"RandomForestRegressor\", X_train, y_train, X_test, y_test)"
   ]
  },
  {
   "cell_type": "code",
   "execution_count": 21,
   "id": "ed7adec6",
   "metadata": {},
   "outputs": [],
   "source": [
    "gb_fit, gb_cv = fit_and_eval(GradientBoostingRegressor(), \"GradientBoostingRegressor\", X_train, y_train, X_test, y_test)"
   ]
  },
  {
   "cell_type": "code",
   "execution_count": 22,
   "id": "43a610fd",
   "metadata": {
    "scrolled": true
   },
   "outputs": [],
   "source": [
    "lr_fit, lr_cv = fit_and_eval(linear_model.LinearRegression(), \"LinearRegression\", X_train, y_train, X_test, y_test)"
   ]
  },
  {
   "cell_type": "code",
   "execution_count": 23,
   "id": "a07c863b",
   "metadata": {},
   "outputs": [],
   "source": [
    "ridge_fit, ridge_cv = fit_and_eval(linear_model.Ridge(), \"RidgeRegression\", X_train, y_train, X_test, y_test)"
   ]
  },
  {
   "cell_type": "code",
   "execution_count": 24,
   "id": "07d1b8a9",
   "metadata": {},
   "outputs": [],
   "source": [
    "lasso_fit, lasso_cv = fit_and_eval(linear_model.Lasso(), \"LassoRegression\", X_train, y_train, X_test, y_test)"
   ]
  },
  {
   "cell_type": "code",
   "execution_count": 25,
   "id": "e0e279c7",
   "metadata": {},
   "outputs": [],
   "source": [
    "elastic_fit, elastic_cv = fit_and_eval(linear_model.ElasticNet(), \"ElasticNetRegression\", X_train, y_train, X_test, y_test)"
   ]
  },
  {
   "cell_type": "markdown",
   "id": "ba5c1973",
   "metadata": {},
   "source": [
    "### Evaluation"
   ]
  },
  {
   "cell_type": "code",
   "execution_count": 26,
   "id": "4c524636",
   "metadata": {},
   "outputs": [
    {
     "data": {
      "text/html": [
       "<div>\n",
       "<style scoped>\n",
       "    .dataframe tbody tr th:only-of-type {\n",
       "        vertical-align: middle;\n",
       "    }\n",
       "\n",
       "    .dataframe tbody tr th {\n",
       "        vertical-align: top;\n",
       "    }\n",
       "\n",
       "    .dataframe thead th {\n",
       "        text-align: right;\n",
       "    }\n",
       "</style>\n",
       "<table border=\"1\" class=\"dataframe\">\n",
       "  <thead>\n",
       "    <tr style=\"text-align: right;\">\n",
       "      <th></th>\n",
       "      <th>Score</th>\n",
       "      <th>MAE</th>\n",
       "      <th>MSE</th>\n",
       "      <th>R_squared</th>\n",
       "      <th>Fit_time</th>\n",
       "    </tr>\n",
       "  </thead>\n",
       "  <tbody>\n",
       "    <tr>\n",
       "      <th>RandomForestRegressor</th>\n",
       "      <td>0.569191</td>\n",
       "      <td>1.464457</td>\n",
       "      <td>4.390621</td>\n",
       "      <td>0.569191</td>\n",
       "      <td>33.674449</td>\n",
       "    </tr>\n",
       "    <tr>\n",
       "      <th>GradientBoostingRegressor</th>\n",
       "      <td>0.583947</td>\n",
       "      <td>1.426877</td>\n",
       "      <td>4.240231</td>\n",
       "      <td>0.583947</td>\n",
       "      <td>6.391024</td>\n",
       "    </tr>\n",
       "    <tr>\n",
       "      <th>LinearRegression</th>\n",
       "      <td>0.556912</td>\n",
       "      <td>1.488873</td>\n",
       "      <td>4.515764</td>\n",
       "      <td>0.556912</td>\n",
       "      <td>0.072999</td>\n",
       "    </tr>\n",
       "    <tr>\n",
       "      <th>RidgeRegression</th>\n",
       "      <td>0.556801</td>\n",
       "      <td>1.488311</td>\n",
       "      <td>4.516893</td>\n",
       "      <td>0.556801</td>\n",
       "      <td>0.045997</td>\n",
       "    </tr>\n",
       "    <tr>\n",
       "      <th>LassoRegression</th>\n",
       "      <td>-0.000014</td>\n",
       "      <td>2.344023</td>\n",
       "      <td>10.191707</td>\n",
       "      <td>-0.000014</td>\n",
       "      <td>0.036998</td>\n",
       "    </tr>\n",
       "    <tr>\n",
       "      <th>ElasticNetRegression</th>\n",
       "      <td>0.053137</td>\n",
       "      <td>2.277339</td>\n",
       "      <td>9.650022</td>\n",
       "      <td>0.053137</td>\n",
       "      <td>0.038999</td>\n",
       "    </tr>\n",
       "  </tbody>\n",
       "</table>\n",
       "</div>"
      ],
      "text/plain": [
       "                              Score       MAE        MSE  R_squared   Fit_time\n",
       "RandomForestRegressor      0.569191  1.464457   4.390621   0.569191  33.674449\n",
       "GradientBoostingRegressor  0.583947  1.426877   4.240231   0.583947   6.391024\n",
       "LinearRegression           0.556912  1.488873   4.515764   0.556912   0.072999\n",
       "RidgeRegression            0.556801  1.488311   4.516893   0.556801   0.045997\n",
       "LassoRegression           -0.000014  2.344023  10.191707  -0.000014   0.036998\n",
       "ElasticNetRegression       0.053137  2.277339   9.650022   0.053137   0.038999"
      ]
     },
     "execution_count": 26,
     "metadata": {},
     "output_type": "execute_result"
    }
   ],
   "source": [
    "elastic_fit # should rename. This is really the df with all models metrics."
   ]
  },
  {
   "cell_type": "code",
   "execution_count": 27,
   "id": "94a2de06",
   "metadata": {},
   "outputs": [
    {
     "data": {
      "text/plain": [
       "<Axes: >"
      ]
     },
     "execution_count": 27,
     "metadata": {},
     "output_type": "execute_result"
    },
    {
     "data": {
      "image/png": "[encoded data removed]",
      "text/plain": [
       "<Figure size 1000x1000 with 1 Axes>"
      ]
     },
     "metadata": {},
     "output_type": "display_data"
    }
   ],
   "source": [
    "elastic_fit.plot.bar(figsize=(10, 10))"
   ]
  },
  {
   "cell_type": "markdown",
   "id": "8ec4dcef",
   "metadata": {},
   "source": [
    "Based on the metrics table from above, we can see that the ensemble models `Random Forest Regressor` and `Gradient Boosting Regressor` both yield a smaller MAE, despite using the most time to fit the dataset. Therefore, I will try to tune the hyperparameters of those models first with RandomizedSearchCV and GridSearchCV to see if there is any improvement. "
   ]
  },
  {
   "cell_type": "markdown",
   "id": "e090df6b",
   "metadata": {},
   "source": [
    "### Hypertune Parameters"
   ]
  },
  {
   "cell_type": "code",
   "execution_count": 28,
   "id": "b2e7620a",
   "metadata": {},
   "outputs": [],
   "source": [
    "rf_params = {\n",
    "    \"model__n_estimators\": np.arange(10, 100, 10),\n",
    "    \"model__max_depth\": [None, 3, 5, 10],\n",
    "    \"model__min_samples_split\": np.arange(2, 20, 2),\n",
    "    \"model__min_samples_leaf\": np.arange(1, 20, 2),\n",
    "    \"model__max_features\": [0.5, 1, \"sqrt\", \"auto\"],\n",
    "    \"model__max_samples\": [1000]\n",
    "}\n",
    "\n",
    "gb_params = {\n",
    "    \"model__loss\": [\"squared_error\", \"absolute_error\"],\n",
    "    \"model__learning_rate\": np.arange(0.001, 0.1, 0.005),\n",
    "    \"model__n_estimators\": np.arange(10, 100, 10),\n",
    "    \"model__subsample\": np.arange(0, 1, 0.2),\n",
    "    \"model__criterion\": [\"friedman_mse\", \"squared_error\"],\n",
    "    \"model__min_samples_split\": np.arange(2, 20, 2),\n",
    "    \"model__min_samples_leaf\": np.arange(1, 20, 2),\n",
    "    \"model__max_depth\": [None, 3, 5, 10]\n",
    "}"
   ]
  },
  {
   "cell_type": "markdown",
   "id": "1427603c",
   "metadata": {},
   "source": [
    "### RandomizedSearchCV"
   ]
  },
  {
   "cell_type": "code",
   "execution_count": 37,
   "id": "eb574902",
   "metadata": {},
   "outputs": [],
   "source": [
    "model_rf = Pipeline(steps = [\n",
    "    (\"preprocessor\", preprocessor),\n",
    "    (\"model\", RandomForestRegressor())\n",
    "])\n",
    "\n",
    "\n",
    "rf_random_search = RandomizedSearchCV(estimator=model_rf,\n",
    "                                     param_distributions=rf_params,\n",
    "                                     n_iter=10,\n",
    "                                     cv=5,\n",
    "                                     verbose=2)\n",
    "\n",
    "model_gb = Pipeline(steps = [\n",
    "    (\"preprocessor\", preprocessor),\n",
    "    (\"model\", GradientBoostingRegressor())\n",
    "])\n",
    "\n",
    "\n",
    "gb_random_search = RandomizedSearchCV(estimator=model_gb,\n",
    "                                     param_distributions =gb_params,\n",
    "                                     n_iter=10,\n",
    "                                     cv=5,\n",
    "                                     verbose=2)"
   ]
  },
  {
   "cell_type": "code",
   "execution_count": 38,
   "id": "5ff5b981",
   "metadata": {},
   "outputs": [
    {
     "name": "stdout",
     "output_type": "stream",
     "text": [
      "Fitting 5 folds for each of 10 candidates, totalling 50 fits\n",
      "[CV] END model__max_depth=5, model__max_features=1, model__max_samples=1000, model__min_samples_leaf=1, model__min_samples_split=16, model__n_estimators=40; total time=   0.0s\n",
      "[CV] END model__max_depth=5, model__max_features=1, model__max_samples=1000, model__min_samples_leaf=1, model__min_samples_split=16, model__n_estimators=40; total time=   0.0s\n",
      "[CV] END model__max_depth=5, model__max_features=1, model__max_samples=1000, model__min_samples_leaf=1, model__min_samples_split=16, model__n_estimators=40; total time=   0.0s\n",
      "[CV] END model__max_depth=5, model__max_features=1, model__max_samples=1000, model__min_samples_leaf=1, model__min_samples_split=16, model__n_estimators=40; total time=   0.0s\n",
      "[CV] END model__max_depth=5, model__max_features=1, model__max_samples=1000, model__min_samples_leaf=1, model__min_samples_split=16, model__n_estimators=40; total time=   0.0s\n",
      "[CV] END model__max_depth=None, model__max_features=0.5, model__max_samples=1000, model__min_samples_leaf=11, model__min_samples_split=2, model__n_estimators=40; total time=   0.1s\n",
      "[CV] END model__max_depth=None, model__max_features=0.5, model__max_samples=1000, model__min_samples_leaf=11, model__min_samples_split=2, model__n_estimators=40; total time=   0.1s\n",
      "[CV] END model__max_depth=None, model__max_features=0.5, model__max_samples=1000, model__min_samples_leaf=11, model__min_samples_split=2, model__n_estimators=40; total time=   0.1s\n",
      "[CV] END model__max_depth=None, model__max_features=0.5, model__max_samples=1000, model__min_samples_leaf=11, model__min_samples_split=2, model__n_estimators=40; total time=   0.1s\n",
      "[CV] END model__max_depth=None, model__max_features=0.5, model__max_samples=1000, model__min_samples_leaf=11, model__min_samples_split=2, model__n_estimators=40; total time=   0.1s\n"
     ]
    },
    {
     "name": "stderr",
     "output_type": "stream",
     "text": [
      "C:\\Users\\katie\\anaconda3\\envs\\ml_basics\\lib\\site-packages\\sklearn\\ensemble\\_forest.py:413: FutureWarning: `max_features='auto'` has been deprecated in 1.1 and will be removed in 1.3. To keep the past behaviour, explicitly set `max_features=1.0` or remove this parameter as it is also the default value for RandomForestRegressors and ExtraTreesRegressors.\n",
      "  warn(\n"
     ]
    },
    {
     "name": "stdout",
     "output_type": "stream",
     "text": [
      "[CV] END model__max_depth=10, model__max_features=auto, model__max_samples=1000, model__min_samples_leaf=1, model__min_samples_split=12, model__n_estimators=60; total time=   0.4s\n"
     ]
    },
    {
     "name": "stderr",
     "output_type": "stream",
     "text": [
      "C:\\Users\\katie\\anaconda3\\envs\\ml_basics\\lib\\site-packages\\sklearn\\ensemble\\_forest.py:413: FutureWarning: `max_features='auto'` has been deprecated in 1.1 and will be removed in 1.3. To keep the past behaviour, explicitly set `max_features=1.0` or remove this parameter as it is also the default value for RandomForestRegressors and ExtraTreesRegressors.\n",
      "  warn(\n"
     ]
    },
    {
     "name": "stdout",
     "output_type": "stream",
     "text": [
      "[CV] END model__max_depth=10, model__max_features=auto, model__max_samples=1000, model__min_samples_leaf=1, model__min_samples_split=12, model__n_estimators=60; total time=   0.4s\n"
     ]
    },
    {
     "name": "stderr",
     "output_type": "stream",
     "text": [
      "C:\\Users\\katie\\anaconda3\\envs\\ml_basics\\lib\\site-packages\\sklearn\\ensemble\\_forest.py:413: FutureWarning: `max_features='auto'` has been deprecated in 1.1 and will be removed in 1.3. To keep the past behaviour, explicitly set `max_features=1.0` or remove this parameter as it is also the default value for RandomForestRegressors and ExtraTreesRegressors.\n",
      "  warn(\n"
     ]
    },
    {
     "name": "stdout",
     "output_type": "stream",
     "text": [
      "[CV] END model__max_depth=10, model__max_features=auto, model__max_samples=1000, model__min_samples_leaf=1, model__min_samples_split=12, model__n_estimators=60; total time=   0.4s\n"
     ]
    },
    {
     "name": "stderr",
     "output_type": "stream",
     "text": [
      "C:\\Users\\katie\\anaconda3\\envs\\ml_basics\\lib\\site-packages\\sklearn\\ensemble\\_forest.py:413: FutureWarning: `max_features='auto'` has been deprecated in 1.1 and will be removed in 1.3. To keep the past behaviour, explicitly set `max_features=1.0` or remove this parameter as it is also the default value for RandomForestRegressors and ExtraTreesRegressors.\n",
      "  warn(\n"
     ]
    },
    {
     "name": "stdout",
     "output_type": "stream",
     "text": [
      "[CV] END model__max_depth=10, model__max_features=auto, model__max_samples=1000, model__min_samples_leaf=1, model__min_samples_split=12, model__n_estimators=60; total time=   0.4s\n"
     ]
    },
    {
     "name": "stderr",
     "output_type": "stream",
     "text": [
      "C:\\Users\\katie\\anaconda3\\envs\\ml_basics\\lib\\site-packages\\sklearn\\ensemble\\_forest.py:413: FutureWarning: `max_features='auto'` has been deprecated in 1.1 and will be removed in 1.3. To keep the past behaviour, explicitly set `max_features=1.0` or remove this parameter as it is also the default value for RandomForestRegressors and ExtraTreesRegressors.\n",
      "  warn(\n"
     ]
    },
    {
     "name": "stdout",
     "output_type": "stream",
     "text": [
      "[CV] END model__max_depth=10, model__max_features=auto, model__max_samples=1000, model__min_samples_leaf=1, model__min_samples_split=12, model__n_estimators=60; total time=   0.4s\n",
      "[CV] END model__max_depth=3, model__max_features=1, model__max_samples=1000, model__min_samples_leaf=11, model__min_samples_split=14, model__n_estimators=10; total time=   0.0s\n",
      "[CV] END model__max_depth=3, model__max_features=1, model__max_samples=1000, model__min_samples_leaf=11, model__min_samples_split=14, model__n_estimators=10; total time=   0.0s\n",
      "[CV] END model__max_depth=3, model__max_features=1, model__max_samples=1000, model__min_samples_leaf=11, model__min_samples_split=14, model__n_estimators=10; total time=   0.0s\n",
      "[CV] END model__max_depth=3, model__max_features=1, model__max_samples=1000, model__min_samples_leaf=11, model__min_samples_split=14, model__n_estimators=10; total time=   0.0s\n",
      "[CV] END model__max_depth=3, model__max_features=1, model__max_samples=1000, model__min_samples_leaf=11, model__min_samples_split=14, model__n_estimators=10; total time=   0.0s\n",
      "[CV] END model__max_depth=10, model__max_features=1, model__max_samples=1000, model__min_samples_leaf=15, model__min_samples_split=18, model__n_estimators=20; total time=   0.0s\n",
      "[CV] END model__max_depth=10, model__max_features=1, model__max_samples=1000, model__min_samples_leaf=15, model__min_samples_split=18, model__n_estimators=20; total time=   0.0s\n",
      "[CV] END model__max_depth=10, model__max_features=1, model__max_samples=1000, model__min_samples_leaf=15, model__min_samples_split=18, model__n_estimators=20; total time=   0.0s\n",
      "[CV] END model__max_depth=10, model__max_features=1, model__max_samples=1000, model__min_samples_leaf=15, model__min_samples_split=18, model__n_estimators=20; total time=   0.0s\n",
      "[CV] END model__max_depth=10, model__max_features=1, model__max_samples=1000, model__min_samples_leaf=15, model__min_samples_split=18, model__n_estimators=20; total time=   0.0s\n"
     ]
    },
    {
     "name": "stderr",
     "output_type": "stream",
     "text": [
      "C:\\Users\\katie\\anaconda3\\envs\\ml_basics\\lib\\site-packages\\sklearn\\ensemble\\_forest.py:413: FutureWarning: `max_features='auto'` has been deprecated in 1.1 and will be removed in 1.3. To keep the past behaviour, explicitly set `max_features=1.0` or remove this parameter as it is also the default value for RandomForestRegressors and ExtraTreesRegressors.\n",
      "  warn(\n",
      "C:\\Users\\katie\\anaconda3\\envs\\ml_basics\\lib\\site-packages\\sklearn\\ensemble\\_forest.py:413: FutureWarning: `max_features='auto'` has been deprecated in 1.1 and will be removed in 1.3. To keep the past behaviour, explicitly set `max_features=1.0` or remove this parameter as it is also the default value for RandomForestRegressors and ExtraTreesRegressors.\n",
      "  warn(\n"
     ]
    },
    {
     "name": "stdout",
     "output_type": "stream",
     "text": [
      "[CV] END model__max_depth=5, model__max_features=auto, model__max_samples=1000, model__min_samples_leaf=15, model__min_samples_split=4, model__n_estimators=30; total time=   0.1s\n",
      "[CV] END model__max_depth=5, model__max_features=auto, model__max_samples=1000, model__min_samples_leaf=15, model__min_samples_split=4, model__n_estimators=30; total time=   0.1s\n"
     ]
    },
    {
     "name": "stderr",
     "output_type": "stream",
     "text": [
      "C:\\Users\\katie\\anaconda3\\envs\\ml_basics\\lib\\site-packages\\sklearn\\ensemble\\_forest.py:413: FutureWarning: `max_features='auto'` has been deprecated in 1.1 and will be removed in 1.3. To keep the past behaviour, explicitly set `max_features=1.0` or remove this parameter as it is also the default value for RandomForestRegressors and ExtraTreesRegressors.\n",
      "  warn(\n",
      "C:\\Users\\katie\\anaconda3\\envs\\ml_basics\\lib\\site-packages\\sklearn\\ensemble\\_forest.py:413: FutureWarning: `max_features='auto'` has been deprecated in 1.1 and will be removed in 1.3. To keep the past behaviour, explicitly set `max_features=1.0` or remove this parameter as it is also the default value for RandomForestRegressors and ExtraTreesRegressors.\n",
      "  warn(\n"
     ]
    },
    {
     "name": "stdout",
     "output_type": "stream",
     "text": [
      "[CV] END model__max_depth=5, model__max_features=auto, model__max_samples=1000, model__min_samples_leaf=15, model__min_samples_split=4, model__n_estimators=30; total time=   0.1s\n",
      "[CV] END model__max_depth=5, model__max_features=auto, model__max_samples=1000, model__min_samples_leaf=15, model__min_samples_split=4, model__n_estimators=30; total time=   0.1s\n"
     ]
    },
    {
     "name": "stderr",
     "output_type": "stream",
     "text": [
      "C:\\Users\\katie\\anaconda3\\envs\\ml_basics\\lib\\site-packages\\sklearn\\ensemble\\_forest.py:413: FutureWarning: `max_features='auto'` has been deprecated in 1.1 and will be removed in 1.3. To keep the past behaviour, explicitly set `max_features=1.0` or remove this parameter as it is also the default value for RandomForestRegressors and ExtraTreesRegressors.\n",
      "  warn(\n"
     ]
    },
    {
     "name": "stdout",
     "output_type": "stream",
     "text": [
      "[CV] END model__max_depth=5, model__max_features=auto, model__max_samples=1000, model__min_samples_leaf=15, model__min_samples_split=4, model__n_estimators=30; total time=   0.1s\n",
      "[CV] END model__max_depth=5, model__max_features=0.5, model__max_samples=1000, model__min_samples_leaf=9, model__min_samples_split=2, model__n_estimators=40; total time=   0.1s\n",
      "[CV] END model__max_depth=5, model__max_features=0.5, model__max_samples=1000, model__min_samples_leaf=9, model__min_samples_split=2, model__n_estimators=40; total time=   0.1s\n",
      "[CV] END model__max_depth=5, model__max_features=0.5, model__max_samples=1000, model__min_samples_leaf=9, model__min_samples_split=2, model__n_estimators=40; total time=   0.1s\n",
      "[CV] END model__max_depth=5, model__max_features=0.5, model__max_samples=1000, model__min_samples_leaf=9, model__min_samples_split=2, model__n_estimators=40; total time=   0.1s\n",
      "[CV] END model__max_depth=5, model__max_features=0.5, model__max_samples=1000, model__min_samples_leaf=9, model__min_samples_split=2, model__n_estimators=40; total time=   0.1s\n",
      "[CV] END model__max_depth=3, model__max_features=0.5, model__max_samples=1000, model__min_samples_leaf=15, model__min_samples_split=4, model__n_estimators=40; total time=   0.1s\n",
      "[CV] END model__max_depth=3, model__max_features=0.5, model__max_samples=1000, model__min_samples_leaf=15, model__min_samples_split=4, model__n_estimators=40; total time=   0.1s\n",
      "[CV] END model__max_depth=3, model__max_features=0.5, model__max_samples=1000, model__min_samples_leaf=15, model__min_samples_split=4, model__n_estimators=40; total time=   0.0s\n",
      "[CV] END model__max_depth=3, model__max_features=0.5, model__max_samples=1000, model__min_samples_leaf=15, model__min_samples_split=4, model__n_estimators=40; total time=   0.0s\n",
      "[CV] END model__max_depth=3, model__max_features=0.5, model__max_samples=1000, model__min_samples_leaf=15, model__min_samples_split=4, model__n_estimators=40; total time=   0.0s\n",
      "[CV] END model__max_depth=10, model__max_features=1, model__max_samples=1000, model__min_samples_leaf=11, model__min_samples_split=12, model__n_estimators=70; total time=   0.1s\n",
      "[CV] END model__max_depth=10, model__max_features=1, model__max_samples=1000, model__min_samples_leaf=11, model__min_samples_split=12, model__n_estimators=70; total time=   0.2s\n",
      "[CV] END model__max_depth=10, model__max_features=1, model__max_samples=1000, model__min_samples_leaf=11, model__min_samples_split=12, model__n_estimators=70; total time=   0.1s\n",
      "[CV] END model__max_depth=10, model__max_features=1, model__max_samples=1000, model__min_samples_leaf=11, model__min_samples_split=12, model__n_estimators=70; total time=   0.1s\n",
      "[CV] END model__max_depth=10, model__max_features=1, model__max_samples=1000, model__min_samples_leaf=11, model__min_samples_split=12, model__n_estimators=70; total time=   0.1s\n",
      "[CV] END model__max_depth=5, model__max_features=0.5, model__max_samples=1000, model__min_samples_leaf=3, model__min_samples_split=8, model__n_estimators=70; total time=   0.2s\n",
      "[CV] END model__max_depth=5, model__max_features=0.5, model__max_samples=1000, model__min_samples_leaf=3, model__min_samples_split=8, model__n_estimators=70; total time=   0.2s\n",
      "[CV] END model__max_depth=5, model__max_features=0.5, model__max_samples=1000, model__min_samples_leaf=3, model__min_samples_split=8, model__n_estimators=70; total time=   0.2s\n",
      "[CV] END model__max_depth=5, model__max_features=0.5, model__max_samples=1000, model__min_samples_leaf=3, model__min_samples_split=8, model__n_estimators=70; total time=   0.2s\n",
      "[CV] END model__max_depth=5, model__max_features=0.5, model__max_samples=1000, model__min_samples_leaf=3, model__min_samples_split=8, model__n_estimators=70; total time=   0.2s\n"
     ]
    },
    {
     "name": "stderr",
     "output_type": "stream",
     "text": [
      "C:\\Users\\katie\\anaconda3\\envs\\ml_basics\\lib\\site-packages\\sklearn\\ensemble\\_forest.py:413: FutureWarning: `max_features='auto'` has been deprecated in 1.1 and will be removed in 1.3. To keep the past behaviour, explicitly set `max_features=1.0` or remove this parameter as it is also the default value for RandomForestRegressors and ExtraTreesRegressors.\n",
      "  warn(\n"
     ]
    },
    {
     "data": {
      "text/html": [
       "<style>#sk-container-id-1 {color: black;background-color: white;}#sk-container-id-1 pre{padding: 0;}#sk-container-id-1 div.sk-toggleable {background-color: white;}#sk-container-id-1 label.sk-toggleable__label {cursor: pointer;display: block;width: 100%;margin-bottom: 0;padding: 0.3em;box-sizing: border-box;text-align: center;}#sk-container-id-1 label.sk-toggleable__label-arrow:before {content: \"▸\";float: left;margin-right: 0.25em;color: #696969;}#sk-container-id-1 label.sk-toggleable__label-arrow:hover:before {color: black;}#sk-container-id-1 div.sk-estimator:hover label.sk-toggleable__label-arrow:before {color: black;}#sk-container-id-1 div.sk-toggleable__content {max-height: 0;max-width: 0;overflow: hidden;text-align: left;background-color: #f0f8ff;}#sk-container-id-1 div.sk-toggleable__content pre {margin: 0.2em;color: black;border-radius: 0.25em;background-color: #f0f8ff;}#sk-container-id-1 input.sk-toggleable__control:checked~div.sk-toggleable__content {max-height: 200px;max-width: 100%;overflow: auto;}#sk-container-id-1 input.sk-toggleable__control:checked~label.sk-toggleable__label-arrow:before {content: \"▾\";}#sk-container-id-1 div.sk-estimator input.sk-toggleable__control:checked~label.sk-toggleable__label {background-color: #d4ebff;}#sk-container-id-1 div.sk-label input.sk-toggleable__control:checked~label.sk-toggleable__label {background-color: #d4ebff;}#sk-container-id-1 input.sk-hidden--visually {border: 0;clip: rect(1px 1px 1px 1px);clip: rect(1px, 1px, 1px, 1px);height: 1px;margin: -1px;overflow: hidden;padding: 0;position: absolute;width: 1px;}#sk-container-id-1 div.sk-estimator {font-family: monospace;background-color: #f0f8ff;border: 1px dotted black;border-radius: 0.25em;box-sizing: border-box;margin-bottom: 0.5em;}#sk-container-id-1 div.sk-estimator:hover {background-color: #d4ebff;}#sk-container-id-1 div.sk-parallel-item::after {content: \"\";width: 100%;border-bottom: 1px solid gray;flex-grow: 1;}#sk-container-id-1 div.sk-label:hover label.sk-toggleable__label {background-color: #d4ebff;}#sk-container-id-1 div.sk-serial::before {content: \"\";position: absolute;border-left: 1px solid gray;box-sizing: border-box;top: 0;bottom: 0;left: 50%;z-index: 0;}#sk-container-id-1 div.sk-serial {display: flex;flex-direction: column;align-items: center;background-color: white;padding-right: 0.2em;padding-left: 0.2em;position: relative;}#sk-container-id-1 div.sk-item {position: relative;z-index: 1;}#sk-container-id-1 div.sk-parallel {display: flex;align-items: stretch;justify-content: center;background-color: white;position: relative;}#sk-container-id-1 div.sk-item::before, #sk-container-id-1 div.sk-parallel-item::before {content: \"\";position: absolute;border-left: 1px solid gray;box-sizing: border-box;top: 0;bottom: 0;left: 50%;z-index: -1;}#sk-container-id-1 div.sk-parallel-item {display: flex;flex-direction: column;z-index: 1;position: relative;background-color: white;}#sk-container-id-1 div.sk-parallel-item:first-child::after {align-self: flex-end;width: 50%;}#sk-container-id-1 div.sk-parallel-item:last-child::after {align-self: flex-start;width: 50%;}#sk-container-id-1 div.sk-parallel-item:only-child::after {width: 0;}#sk-container-id-1 div.sk-dashed-wrapped {border: 1px dashed gray;margin: 0 0.4em 0.5em 0.4em;box-sizing: border-box;padding-bottom: 0.4em;background-color: white;}#sk-container-id-1 div.sk-label label {font-family: monospace;font-weight: bold;display: inline-block;line-height: 1.2em;}#sk-container-id-1 div.sk-label-container {text-align: center;}#sk-container-id-1 div.sk-container {/* jupyter's `normalize.less` sets `[hidden] { display: none; }` but bootstrap.min.css set `[hidden] { display: none !important; }` so we also need the `!important` here to be able to override the default hidden behavior on the sphinx rendered scikit-learn.org. See: https://github.com/scikit-learn/scikit-learn/issues/21755 */display: inline-block !important;position: relative;}#sk-container-id-1 div.sk-text-repr-fallback {display: none;}</style><div id=\"sk-container-id-1\" class=\"sk-top-container\"><div class=\"sk-text-repr-fallback\"><pre>RandomizedSearchCV(cv=5,\n",
       "                   estimator=Pipeline(steps=[(&#x27;preprocessor&#x27;,\n",
       "                                              ColumnTransformer(transformers=[(&#x27;categorical&#x27;,\n",
       "                                                                               Pipeline(steps=[(&#x27;ohe&#x27;,\n",
       "                                                                                                OneHotEncoder(handle_unknown=&#x27;ignore&#x27;))]),\n",
       "                                                                               [&#x27;sex&#x27;]),\n",
       "                                                                              (&#x27;numerical&#x27;,\n",
       "                                                                               Pipeline(steps=[(&#x27;minmaxscaler&#x27;,\n",
       "                                                                                                MinMaxScaler())]),\n",
       "                                                                               [&#x27;length&#x27;,\n",
       "                                                                                &#x27;diameter&#x27;,\n",
       "                                                                                &#x27;height&#x27;,\n",
       "                                                                                &#x27;weight&#x27;,\n",
       "                                                                                &#x27;shucked &#x27;\n",
       "                                                                                &#x27;weight&#x27;,\n",
       "                                                                                &#x27;viscera &#x27;\n",
       "                                                                                &#x27;weight&#x27;,\n",
       "                                                                                &#x27;shell &#x27;\n",
       "                                                                                &#x27;weight&#x27;])])),\n",
       "                                             (&#x27;model&#x27;,\n",
       "                                              RandomForestRegressor())]),\n",
       "                   param_distributions={&#x27;model__max_depth&#x27;: [None, 3, 5, 10],\n",
       "                                        &#x27;model__max_features&#x27;: [0.5, 1, &#x27;sqrt&#x27;,\n",
       "                                                                &#x27;auto&#x27;],\n",
       "                                        &#x27;model__max_samples&#x27;: [1000],\n",
       "                                        &#x27;model__min_samples_leaf&#x27;: array([ 1,  3,  5,  7,  9, 11, 13, 15, 17, 19]),\n",
       "                                        &#x27;model__min_samples_split&#x27;: array([ 2,  4,  6,  8, 10, 12, 14, 16, 18]),\n",
       "                                        &#x27;model__n_estimators&#x27;: array([10, 20, 30, 40, 50, 60, 70, 80, 90])},\n",
       "                   verbose=2)</pre><b>In a Jupyter environment, please rerun this cell to show the HTML representation or trust the notebook. <br />On GitHub, the HTML representation is unable to render, please try loading this page with nbviewer.org.</b></div><div class=\"sk-container\" hidden><div class=\"sk-item sk-dashed-wrapped\"><div class=\"sk-label-container\"><div class=\"sk-label sk-toggleable\"><input class=\"sk-toggleable__control sk-hidden--visually\" id=\"sk-estimator-id-1\" type=\"checkbox\" ><label for=\"sk-estimator-id-1\" class=\"sk-toggleable__label sk-toggleable__label-arrow\">RandomizedSearchCV</label><div class=\"sk-toggleable__content\"><pre>RandomizedSearchCV(cv=5,\n",
       "                   estimator=Pipeline(steps=[(&#x27;preprocessor&#x27;,\n",
       "                                              ColumnTransformer(transformers=[(&#x27;categorical&#x27;,\n",
       "                                                                               Pipeline(steps=[(&#x27;ohe&#x27;,\n",
       "                                                                                                OneHotEncoder(handle_unknown=&#x27;ignore&#x27;))]),\n",
       "                                                                               [&#x27;sex&#x27;]),\n",
       "                                                                              (&#x27;numerical&#x27;,\n",
       "                                                                               Pipeline(steps=[(&#x27;minmaxscaler&#x27;,\n",
       "                                                                                                MinMaxScaler())]),\n",
       "                                                                               [&#x27;length&#x27;,\n",
       "                                                                                &#x27;diameter&#x27;,\n",
       "                                                                                &#x27;height&#x27;,\n",
       "                                                                                &#x27;weight&#x27;,\n",
       "                                                                                &#x27;shucked &#x27;\n",
       "                                                                                &#x27;weight&#x27;,\n",
       "                                                                                &#x27;viscera &#x27;\n",
       "                                                                                &#x27;weight&#x27;,\n",
       "                                                                                &#x27;shell &#x27;\n",
       "                                                                                &#x27;weight&#x27;])])),\n",
       "                                             (&#x27;model&#x27;,\n",
       "                                              RandomForestRegressor())]),\n",
       "                   param_distributions={&#x27;model__max_depth&#x27;: [None, 3, 5, 10],\n",
       "                                        &#x27;model__max_features&#x27;: [0.5, 1, &#x27;sqrt&#x27;,\n",
       "                                                                &#x27;auto&#x27;],\n",
       "                                        &#x27;model__max_samples&#x27;: [1000],\n",
       "                                        &#x27;model__min_samples_leaf&#x27;: array([ 1,  3,  5,  7,  9, 11, 13, 15, 17, 19]),\n",
       "                                        &#x27;model__min_samples_split&#x27;: array([ 2,  4,  6,  8, 10, 12, 14, 16, 18]),\n",
       "                                        &#x27;model__n_estimators&#x27;: array([10, 20, 30, 40, 50, 60, 70, 80, 90])},\n",
       "                   verbose=2)</pre></div></div></div><div class=\"sk-parallel\"><div class=\"sk-parallel-item\"><div class=\"sk-item\"><div class=\"sk-label-container\"><div class=\"sk-label sk-toggleable\"><input class=\"sk-toggleable__control sk-hidden--visually\" id=\"sk-estimator-id-2\" type=\"checkbox\" ><label for=\"sk-estimator-id-2\" class=\"sk-toggleable__label sk-toggleable__label-arrow\">estimator: Pipeline</label><div class=\"sk-toggleable__content\"><pre>Pipeline(steps=[(&#x27;preprocessor&#x27;,\n",
       "                 ColumnTransformer(transformers=[(&#x27;categorical&#x27;,\n",
       "                                                  Pipeline(steps=[(&#x27;ohe&#x27;,\n",
       "                                                                   OneHotEncoder(handle_unknown=&#x27;ignore&#x27;))]),\n",
       "                                                  [&#x27;sex&#x27;]),\n",
       "                                                 (&#x27;numerical&#x27;,\n",
       "                                                  Pipeline(steps=[(&#x27;minmaxscaler&#x27;,\n",
       "                                                                   MinMaxScaler())]),\n",
       "                                                  [&#x27;length&#x27;, &#x27;diameter&#x27;,\n",
       "                                                   &#x27;height&#x27;, &#x27;weight&#x27;,\n",
       "                                                   &#x27;shucked weight&#x27;,\n",
       "                                                   &#x27;viscera weight&#x27;,\n",
       "                                                   &#x27;shell weight&#x27;])])),\n",
       "                (&#x27;model&#x27;, RandomForestRegressor())])</pre></div></div></div><div class=\"sk-serial\"><div class=\"sk-item\"><div class=\"sk-serial\"><div class=\"sk-item sk-dashed-wrapped\"><div class=\"sk-label-container\"><div class=\"sk-label sk-toggleable\"><input class=\"sk-toggleable__control sk-hidden--visually\" id=\"sk-estimator-id-3\" type=\"checkbox\" ><label for=\"sk-estimator-id-3\" class=\"sk-toggleable__label sk-toggleable__label-arrow\">preprocessor: ColumnTransformer</label><div class=\"sk-toggleable__content\"><pre>ColumnTransformer(transformers=[(&#x27;categorical&#x27;,\n",
       "                                 Pipeline(steps=[(&#x27;ohe&#x27;,\n",
       "                                                  OneHotEncoder(handle_unknown=&#x27;ignore&#x27;))]),\n",
       "                                 [&#x27;sex&#x27;]),\n",
       "                                (&#x27;numerical&#x27;,\n",
       "                                 Pipeline(steps=[(&#x27;minmaxscaler&#x27;,\n",
       "                                                  MinMaxScaler())]),\n",
       "                                 [&#x27;length&#x27;, &#x27;diameter&#x27;, &#x27;height&#x27;, &#x27;weight&#x27;,\n",
       "                                  &#x27;shucked weight&#x27;, &#x27;viscera weight&#x27;,\n",
       "                                  &#x27;shell weight&#x27;])])</pre></div></div></div><div class=\"sk-parallel\"><div class=\"sk-parallel-item\"><div class=\"sk-item\"><div class=\"sk-label-container\"><div class=\"sk-label sk-toggleable\"><input class=\"sk-toggleable__control sk-hidden--visually\" id=\"sk-estimator-id-4\" type=\"checkbox\" ><label for=\"sk-estimator-id-4\" class=\"sk-toggleable__label sk-toggleable__label-arrow\">categorical</label><div class=\"sk-toggleable__content\"><pre>[&#x27;sex&#x27;]</pre></div></div></div><div class=\"sk-serial\"><div class=\"sk-item\"><div class=\"sk-serial\"><div class=\"sk-item\"><div class=\"sk-estimator sk-toggleable\"><input class=\"sk-toggleable__control sk-hidden--visually\" id=\"sk-estimator-id-5\" type=\"checkbox\" ><label for=\"sk-estimator-id-5\" class=\"sk-toggleable__label sk-toggleable__label-arrow\">OneHotEncoder</label><div class=\"sk-toggleable__content\"><pre>OneHotEncoder(handle_unknown=&#x27;ignore&#x27;)</pre></div></div></div></div></div></div></div></div><div class=\"sk-parallel-item\"><div class=\"sk-item\"><div class=\"sk-label-container\"><div class=\"sk-label sk-toggleable\"><input class=\"sk-toggleable__control sk-hidden--visually\" id=\"sk-estimator-id-6\" type=\"checkbox\" ><label for=\"sk-estimator-id-6\" class=\"sk-toggleable__label sk-toggleable__label-arrow\">numerical</label><div class=\"sk-toggleable__content\"><pre>[&#x27;length&#x27;, &#x27;diameter&#x27;, &#x27;height&#x27;, &#x27;weight&#x27;, &#x27;shucked weight&#x27;, &#x27;viscera weight&#x27;, &#x27;shell weight&#x27;]</pre></div></div></div><div class=\"sk-serial\"><div class=\"sk-item\"><div class=\"sk-serial\"><div class=\"sk-item\"><div class=\"sk-estimator sk-toggleable\"><input class=\"sk-toggleable__control sk-hidden--visually\" id=\"sk-estimator-id-7\" type=\"checkbox\" ><label for=\"sk-estimator-id-7\" class=\"sk-toggleable__label sk-toggleable__label-arrow\">MinMaxScaler</label><div class=\"sk-toggleable__content\"><pre>MinMaxScaler()</pre></div></div></div></div></div></div></div></div></div></div><div class=\"sk-item\"><div class=\"sk-estimator sk-toggleable\"><input class=\"sk-toggleable__control sk-hidden--visually\" id=\"sk-estimator-id-8\" type=\"checkbox\" ><label for=\"sk-estimator-id-8\" class=\"sk-toggleable__label sk-toggleable__label-arrow\">RandomForestRegressor</label><div class=\"sk-toggleable__content\"><pre>RandomForestRegressor()</pre></div></div></div></div></div></div></div></div></div></div></div></div>"
      ],
      "text/plain": [
       "RandomizedSearchCV(cv=5,\n",
       "                   estimator=Pipeline(steps=[('preprocessor',\n",
       "                                              ColumnTransformer(transformers=[('categorical',\n",
       "                                                                               Pipeline(steps=[('ohe',\n",
       "                                                                                                OneHotEncoder(handle_unknown='ignore'))]),\n",
       "                                                                               ['sex']),\n",
       "                                                                              ('numerical',\n",
       "                                                                               Pipeline(steps=[('minmaxscaler',\n",
       "                                                                                                MinMaxScaler())]),\n",
       "                                                                               ['length',\n",
       "                                                                                'diameter',\n",
       "                                                                                'height',\n",
       "                                                                                'weight',\n",
       "                                                                                'shucked '\n",
       "                                                                                'weight',\n",
       "                                                                                'viscera '\n",
       "                                                                                'weight',\n",
       "                                                                                'shell '\n",
       "                                                                                'weight'])])),\n",
       "                                             ('model',\n",
       "                                              RandomForestRegressor())]),\n",
       "                   param_distributions={'model__max_depth': [None, 3, 5, 10],\n",
       "                                        'model__max_features': [0.5, 1, 'sqrt',\n",
       "                                                                'auto'],\n",
       "                                        'model__max_samples': [1000],\n",
       "                                        'model__min_samples_leaf': array([ 1,  3,  5,  7,  9, 11, 13, 15, 17, 19]),\n",
       "                                        'model__min_samples_split': array([ 2,  4,  6,  8, 10, 12, 14, 16, 18]),\n",
       "                                        'model__n_estimators': array([10, 20, 30, 40, 50, 60, 70, 80, 90])},\n",
       "                   verbose=2)"
      ]
     },
     "execution_count": 38,
     "metadata": {},
     "output_type": "execute_result"
    }
   ],
   "source": [
    "rf_random_search.fit(X_train, y_train)"
   ]
  },
  {
   "cell_type": "code",
   "execution_count": 39,
   "id": "428a6893",
   "metadata": {},
   "outputs": [
    {
     "data": {
      "text/plain": [
       "{'model__n_estimators': 60,\n",
       " 'model__min_samples_split': 12,\n",
       " 'model__min_samples_leaf': 1,\n",
       " 'model__max_samples': 1000,\n",
       " 'model__max_features': 'auto',\n",
       " 'model__max_depth': 10}"
      ]
     },
     "execution_count": 39,
     "metadata": {},
     "output_type": "execute_result"
    }
   ],
   "source": [
    "rf_random_search.best_params_"
   ]
  },
  {
   "cell_type": "code",
   "execution_count": 42,
   "id": "621a1e38",
   "metadata": {},
   "outputs": [
    {
     "data": {
      "text/plain": [
       "{'Score': 0.5806752522034613,\n",
       " 'MAE': 1.432217745830656,\n",
       " 'MSE': 4.281577209483328,\n",
       " 'R_squared': 0.5798901910604302}"
      ]
     },
     "execution_count": 42,
     "metadata": {},
     "output_type": "execute_result"
    }
   ],
   "source": [
    "cv_y_preds = rf_random_search.predict(X_test)\n",
    "scores = {\n",
    "    \"Score\": rf_random_search.score(X_train, y_train),\n",
    "    \"MAE\": mean_absolute_error(y_test, cv_y_preds),\n",
    "    \"MSE\": mean_squared_error(y_test, cv_y_preds),\n",
    "    \"R_squared\": r2_score(y_test, cv_y_preds)\n",
    "}\n",
    "scores"
   ]
  },
  {
   "cell_type": "markdown",
   "id": "14e6b147",
   "metadata": {},
   "source": [
    "The Score (baseline) was 0.56. After tuning, it was 0.58.\n",
    "The MAE (baseline) was 1.46. After tuning, it was 1.43."
   ]
  },
  {
   "cell_type": "code",
   "execution_count": 43,
   "id": "c2c5a0bb",
   "metadata": {},
   "outputs": [
    {
     "name": "stdout",
     "output_type": "stream",
     "text": [
      "Fitting 5 folds for each of 10 candidates, totalling 50 fits\n",
      "[CV] END model__criterion=squared_error, model__learning_rate=0.031, model__loss=squared_error, model__max_depth=5, model__min_samples_leaf=19, model__min_samples_split=2, model__n_estimators=50, model__subsample=0.4; total time=   1.9s\n",
      "[CV] END model__criterion=squared_error, model__learning_rate=0.031, model__loss=squared_error, model__max_depth=5, model__min_samples_leaf=19, model__min_samples_split=2, model__n_estimators=50, model__subsample=0.4; total time=   1.9s\n",
      "[CV] END model__criterion=squared_error, model__learning_rate=0.031, model__loss=squared_error, model__max_depth=5, model__min_samples_leaf=19, model__min_samples_split=2, model__n_estimators=50, model__subsample=0.4; total time=   1.9s\n",
      "[CV] END model__criterion=squared_error, model__learning_rate=0.031, model__loss=squared_error, model__max_depth=5, model__min_samples_leaf=19, model__min_samples_split=2, model__n_estimators=50, model__subsample=0.4; total time=   2.0s\n",
      "[CV] END model__criterion=squared_error, model__learning_rate=0.031, model__loss=squared_error, model__max_depth=5, model__min_samples_leaf=19, model__min_samples_split=2, model__n_estimators=50, model__subsample=0.4; total time=   1.9s\n",
      "[CV] END model__criterion=friedman_mse, model__learning_rate=0.031, model__loss=squared_error, model__max_depth=None, model__min_samples_leaf=5, model__min_samples_split=14, model__n_estimators=10, model__subsample=0.8; total time=   2.2s\n",
      "[CV] END model__criterion=friedman_mse, model__learning_rate=0.031, model__loss=squared_error, model__max_depth=None, model__min_samples_leaf=5, model__min_samples_split=14, model__n_estimators=10, model__subsample=0.8; total time=   2.3s\n",
      "[CV] END model__criterion=friedman_mse, model__learning_rate=0.031, model__loss=squared_error, model__max_depth=None, model__min_samples_leaf=5, model__min_samples_split=14, model__n_estimators=10, model__subsample=0.8; total time=   2.3s\n",
      "[CV] END model__criterion=friedman_mse, model__learning_rate=0.031, model__loss=squared_error, model__max_depth=None, model__min_samples_leaf=5, model__min_samples_split=14, model__n_estimators=10, model__subsample=0.8; total time=   2.2s\n",
      "[CV] END model__criterion=friedman_mse, model__learning_rate=0.031, model__loss=squared_error, model__max_depth=None, model__min_samples_leaf=5, model__min_samples_split=14, model__n_estimators=10, model__subsample=0.8; total time=   2.3s\n",
      "[CV] END model__criterion=squared_error, model__learning_rate=0.001, model__loss=squared_error, model__max_depth=5, model__min_samples_leaf=1, model__min_samples_split=16, model__n_estimators=80, model__subsample=0.2; total time=   1.9s\n",
      "[CV] END model__criterion=squared_error, model__learning_rate=0.001, model__loss=squared_error, model__max_depth=5, model__min_samples_leaf=1, model__min_samples_split=16, model__n_estimators=80, model__subsample=0.2; total time=   1.8s\n",
      "[CV] END model__criterion=squared_error, model__learning_rate=0.001, model__loss=squared_error, model__max_depth=5, model__min_samples_leaf=1, model__min_samples_split=16, model__n_estimators=80, model__subsample=0.2; total time=   1.8s\n",
      "[CV] END model__criterion=squared_error, model__learning_rate=0.001, model__loss=squared_error, model__max_depth=5, model__min_samples_leaf=1, model__min_samples_split=16, model__n_estimators=80, model__subsample=0.2; total time=   1.8s\n",
      "[CV] END model__criterion=squared_error, model__learning_rate=0.001, model__loss=squared_error, model__max_depth=5, model__min_samples_leaf=1, model__min_samples_split=16, model__n_estimators=80, model__subsample=0.2; total time=   1.9s\n",
      "[CV] END model__criterion=squared_error, model__learning_rate=0.056, model__loss=absolute_error, model__max_depth=5, model__min_samples_leaf=11, model__min_samples_split=18, model__n_estimators=40, model__subsample=0.4; total time=   1.9s\n",
      "[CV] END model__criterion=squared_error, model__learning_rate=0.056, model__loss=absolute_error, model__max_depth=5, model__min_samples_leaf=11, model__min_samples_split=18, model__n_estimators=40, model__subsample=0.4; total time=   1.9s\n",
      "[CV] END model__criterion=squared_error, model__learning_rate=0.056, model__loss=absolute_error, model__max_depth=5, model__min_samples_leaf=11, model__min_samples_split=18, model__n_estimators=40, model__subsample=0.4; total time=   2.0s\n",
      "[CV] END model__criterion=squared_error, model__learning_rate=0.056, model__loss=absolute_error, model__max_depth=5, model__min_samples_leaf=11, model__min_samples_split=18, model__n_estimators=40, model__subsample=0.4; total time=   2.0s\n",
      "[CV] END model__criterion=squared_error, model__learning_rate=0.056, model__loss=absolute_error, model__max_depth=5, model__min_samples_leaf=11, model__min_samples_split=18, model__n_estimators=40, model__subsample=0.4; total time=   1.9s\n",
      "[CV] END model__criterion=friedman_mse, model__learning_rate=0.036000000000000004, model__loss=absolute_error, model__max_depth=10, model__min_samples_leaf=19, model__min_samples_split=14, model__n_estimators=50, model__subsample=0.8; total time=  11.4s\n",
      "[CV] END model__criterion=friedman_mse, model__learning_rate=0.036000000000000004, model__loss=absolute_error, model__max_depth=10, model__min_samples_leaf=19, model__min_samples_split=14, model__n_estimators=50, model__subsample=0.8; total time=  11.5s\n",
      "[CV] END model__criterion=friedman_mse, model__learning_rate=0.036000000000000004, model__loss=absolute_error, model__max_depth=10, model__min_samples_leaf=19, model__min_samples_split=14, model__n_estimators=50, model__subsample=0.8; total time=  11.8s\n",
      "[CV] END model__criterion=friedman_mse, model__learning_rate=0.036000000000000004, model__loss=absolute_error, model__max_depth=10, model__min_samples_leaf=19, model__min_samples_split=14, model__n_estimators=50, model__subsample=0.8; total time=  12.2s\n",
      "[CV] END model__criterion=friedman_mse, model__learning_rate=0.036000000000000004, model__loss=absolute_error, model__max_depth=10, model__min_samples_leaf=19, model__min_samples_split=14, model__n_estimators=50, model__subsample=0.8; total time=  11.6s\n",
      "[CV] END model__criterion=friedman_mse, model__learning_rate=0.081, model__loss=absolute_error, model__max_depth=10, model__min_samples_leaf=15, model__min_samples_split=6, model__n_estimators=20, model__subsample=0.6000000000000001; total time=   4.6s\n",
      "[CV] END model__criterion=friedman_mse, model__learning_rate=0.081, model__loss=absolute_error, model__max_depth=10, model__min_samples_leaf=15, model__min_samples_split=6, model__n_estimators=20, model__subsample=0.6000000000000001; total time=   4.0s\n",
      "[CV] END model__criterion=friedman_mse, model__learning_rate=0.081, model__loss=absolute_error, model__max_depth=10, model__min_samples_leaf=15, model__min_samples_split=6, model__n_estimators=20, model__subsample=0.6000000000000001; total time=   3.9s\n",
      "[CV] END model__criterion=friedman_mse, model__learning_rate=0.081, model__loss=absolute_error, model__max_depth=10, model__min_samples_leaf=15, model__min_samples_split=6, model__n_estimators=20, model__subsample=0.6000000000000001; total time=   4.0s\n",
      "[CV] END model__criterion=friedman_mse, model__learning_rate=0.081, model__loss=absolute_error, model__max_depth=10, model__min_samples_leaf=15, model__min_samples_split=6, model__n_estimators=20, model__subsample=0.6000000000000001; total time=   4.1s\n",
      "[CV] END model__criterion=squared_error, model__learning_rate=0.046, model__loss=squared_error, model__max_depth=None, model__min_samples_leaf=17, model__min_samples_split=2, model__n_estimators=90, model__subsample=0.8; total time=  22.3s\n",
      "[CV] END model__criterion=squared_error, model__learning_rate=0.046, model__loss=squared_error, model__max_depth=None, model__min_samples_leaf=17, model__min_samples_split=2, model__n_estimators=90, model__subsample=0.8; total time=  22.4s\n",
      "[CV] END model__criterion=squared_error, model__learning_rate=0.046, model__loss=squared_error, model__max_depth=None, model__min_samples_leaf=17, model__min_samples_split=2, model__n_estimators=90, model__subsample=0.8; total time=  22.4s\n",
      "[CV] END model__criterion=squared_error, model__learning_rate=0.046, model__loss=squared_error, model__max_depth=None, model__min_samples_leaf=17, model__min_samples_split=2, model__n_estimators=90, model__subsample=0.8; total time=  22.3s\n"
     ]
    },
    {
     "name": "stdout",
     "output_type": "stream",
     "text": [
      "[CV] END model__criterion=squared_error, model__learning_rate=0.046, model__loss=squared_error, model__max_depth=None, model__min_samples_leaf=17, model__min_samples_split=2, model__n_estimators=90, model__subsample=0.8; total time=  23.4s\n",
      "[CV] END model__criterion=friedman_mse, model__learning_rate=0.041, model__loss=squared_error, model__max_depth=3, model__min_samples_leaf=17, model__min_samples_split=2, model__n_estimators=50, model__subsample=0.0; total time=   0.0s\n",
      "[CV] END model__criterion=friedman_mse, model__learning_rate=0.041, model__loss=squared_error, model__max_depth=3, model__min_samples_leaf=17, model__min_samples_split=2, model__n_estimators=50, model__subsample=0.0; total time=   0.0s\n",
      "[CV] END model__criterion=friedman_mse, model__learning_rate=0.041, model__loss=squared_error, model__max_depth=3, model__min_samples_leaf=17, model__min_samples_split=2, model__n_estimators=50, model__subsample=0.0; total time=   0.0s\n",
      "[CV] END model__criterion=friedman_mse, model__learning_rate=0.041, model__loss=squared_error, model__max_depth=3, model__min_samples_leaf=17, model__min_samples_split=2, model__n_estimators=50, model__subsample=0.0; total time=   0.0s\n",
      "[CV] END model__criterion=friedman_mse, model__learning_rate=0.041, model__loss=squared_error, model__max_depth=3, model__min_samples_leaf=17, model__min_samples_split=2, model__n_estimators=50, model__subsample=0.0; total time=   0.0s\n",
      "[CV] END model__criterion=friedman_mse, model__learning_rate=0.021, model__loss=absolute_error, model__max_depth=10, model__min_samples_leaf=1, model__min_samples_split=18, model__n_estimators=20, model__subsample=0.6000000000000001; total time=   4.1s\n",
      "[CV] END model__criterion=friedman_mse, model__learning_rate=0.021, model__loss=absolute_error, model__max_depth=10, model__min_samples_leaf=1, model__min_samples_split=18, model__n_estimators=20, model__subsample=0.6000000000000001; total time=   4.2s\n",
      "[CV] END model__criterion=friedman_mse, model__learning_rate=0.021, model__loss=absolute_error, model__max_depth=10, model__min_samples_leaf=1, model__min_samples_split=18, model__n_estimators=20, model__subsample=0.6000000000000001; total time=   4.8s\n",
      "[CV] END model__criterion=friedman_mse, model__learning_rate=0.021, model__loss=absolute_error, model__max_depth=10, model__min_samples_leaf=1, model__min_samples_split=18, model__n_estimators=20, model__subsample=0.6000000000000001; total time=   4.3s\n",
      "[CV] END model__criterion=friedman_mse, model__learning_rate=0.021, model__loss=absolute_error, model__max_depth=10, model__min_samples_leaf=1, model__min_samples_split=18, model__n_estimators=20, model__subsample=0.6000000000000001; total time=   4.5s\n",
      "[CV] END model__criterion=squared_error, model__learning_rate=0.096, model__loss=absolute_error, model__max_depth=3, model__min_samples_leaf=19, model__min_samples_split=10, model__n_estimators=90, model__subsample=0.2; total time=   1.7s\n",
      "[CV] END model__criterion=squared_error, model__learning_rate=0.096, model__loss=absolute_error, model__max_depth=3, model__min_samples_leaf=19, model__min_samples_split=10, model__n_estimators=90, model__subsample=0.2; total time=   1.6s\n",
      "[CV] END model__criterion=squared_error, model__learning_rate=0.096, model__loss=absolute_error, model__max_depth=3, model__min_samples_leaf=19, model__min_samples_split=10, model__n_estimators=90, model__subsample=0.2; total time=   1.8s\n",
      "[CV] END model__criterion=squared_error, model__learning_rate=0.096, model__loss=absolute_error, model__max_depth=3, model__min_samples_leaf=19, model__min_samples_split=10, model__n_estimators=90, model__subsample=0.2; total time=   1.6s\n",
      "[CV] END model__criterion=squared_error, model__learning_rate=0.096, model__loss=absolute_error, model__max_depth=3, model__min_samples_leaf=19, model__min_samples_split=10, model__n_estimators=90, model__subsample=0.2; total time=   1.6s\n"
     ]
    },
    {
     "name": "stderr",
     "output_type": "stream",
     "text": [
      "C:\\Users\\katie\\anaconda3\\envs\\ml_basics\\lib\\site-packages\\sklearn\\model_selection\\_validation.py:378: FitFailedWarning: \n",
      "5 fits failed out of a total of 50.\n",
      "The score on these train-test partitions for these parameters will be set to nan.\n",
      "If these failures are not expected, you can try to debug them by setting error_score='raise'.\n",
      "\n",
      "Below are more details about the failures:\n",
      "--------------------------------------------------------------------------------\n",
      "5 fits failed with the following error:\n",
      "Traceback (most recent call last):\n",
      "  File \"C:\\Users\\katie\\anaconda3\\envs\\ml_basics\\lib\\site-packages\\sklearn\\model_selection\\_validation.py\", line 686, in _fit_and_score\n",
      "    estimator.fit(X_train, y_train, **fit_params)\n",
      "  File \"C:\\Users\\katie\\anaconda3\\envs\\ml_basics\\lib\\site-packages\\sklearn\\pipeline.py\", line 405, in fit\n",
      "    self._final_estimator.fit(Xt, y, **fit_params_last_step)\n",
      "  File \"C:\\Users\\katie\\anaconda3\\envs\\ml_basics\\lib\\site-packages\\sklearn\\ensemble\\_gb.py\", line 420, in fit\n",
      "    self._validate_params()\n",
      "  File \"C:\\Users\\katie\\anaconda3\\envs\\ml_basics\\lib\\site-packages\\sklearn\\base.py\", line 600, in _validate_params\n",
      "    validate_parameter_constraints(\n",
      "  File \"C:\\Users\\katie\\anaconda3\\envs\\ml_basics\\lib\\site-packages\\sklearn\\utils\\_param_validation.py\", line 97, in validate_parameter_constraints\n",
      "    raise InvalidParameterError(\n",
      "sklearn.utils._param_validation.InvalidParameterError: The 'subsample' parameter of GradientBoostingRegressor must be a float in the range (0.0, 1.0]. Got 0.0 instead.\n",
      "\n",
      "  warnings.warn(some_fits_failed_message, FitFailedWarning)\n",
      "C:\\Users\\katie\\anaconda3\\envs\\ml_basics\\lib\\site-packages\\sklearn\\model_selection\\_search.py:952: UserWarning: One or more of the test scores are non-finite: [0.53740351 0.27309232 0.07891435 0.52741864 0.53777425 0.53088306\n",
      " 0.56031205        nan 0.30483323 0.5443128 ]\n",
      "  warnings.warn(\n"
     ]
    },
    {
     "data": {
      "text/html": [
       "<style>#sk-container-id-2 {color: black;background-color: white;}#sk-container-id-2 pre{padding: 0;}#sk-container-id-2 div.sk-toggleable {background-color: white;}#sk-container-id-2 label.sk-toggleable__label {cursor: pointer;display: block;width: 100%;margin-bottom: 0;padding: 0.3em;box-sizing: border-box;text-align: center;}#sk-container-id-2 label.sk-toggleable__label-arrow:before {content: \"▸\";float: left;margin-right: 0.25em;color: #696969;}#sk-container-id-2 label.sk-toggleable__label-arrow:hover:before {color: black;}#sk-container-id-2 div.sk-estimator:hover label.sk-toggleable__label-arrow:before {color: black;}#sk-container-id-2 div.sk-toggleable__content {max-height: 0;max-width: 0;overflow: hidden;text-align: left;background-color: #f0f8ff;}#sk-container-id-2 div.sk-toggleable__content pre {margin: 0.2em;color: black;border-radius: 0.25em;background-color: #f0f8ff;}#sk-container-id-2 input.sk-toggleable__control:checked~div.sk-toggleable__content {max-height: 200px;max-width: 100%;overflow: auto;}#sk-container-id-2 input.sk-toggleable__control:checked~label.sk-toggleable__label-arrow:before {content: \"▾\";}#sk-container-id-2 div.sk-estimator input.sk-toggleable__control:checked~label.sk-toggleable__label {background-color: #d4ebff;}#sk-container-id-2 div.sk-label input.sk-toggleable__control:checked~label.sk-toggleable__label {background-color: #d4ebff;}#sk-container-id-2 input.sk-hidden--visually {border: 0;clip: rect(1px 1px 1px 1px);clip: rect(1px, 1px, 1px, 1px);height: 1px;margin: -1px;overflow: hidden;padding: 0;position: absolute;width: 1px;}#sk-container-id-2 div.sk-estimator {font-family: monospace;background-color: #f0f8ff;border: 1px dotted black;border-radius: 0.25em;box-sizing: border-box;margin-bottom: 0.5em;}#sk-container-id-2 div.sk-estimator:hover {background-color: #d4ebff;}#sk-container-id-2 div.sk-parallel-item::after {content: \"\";width: 100%;border-bottom: 1px solid gray;flex-grow: 1;}#sk-container-id-2 div.sk-label:hover label.sk-toggleable__label {background-color: #d4ebff;}#sk-container-id-2 div.sk-serial::before {content: \"\";position: absolute;border-left: 1px solid gray;box-sizing: border-box;top: 0;bottom: 0;left: 50%;z-index: 0;}#sk-container-id-2 div.sk-serial {display: flex;flex-direction: column;align-items: center;background-color: white;padding-right: 0.2em;padding-left: 0.2em;position: relative;}#sk-container-id-2 div.sk-item {position: relative;z-index: 1;}#sk-container-id-2 div.sk-parallel {display: flex;align-items: stretch;justify-content: center;background-color: white;position: relative;}#sk-container-id-2 div.sk-item::before, #sk-container-id-2 div.sk-parallel-item::before {content: \"\";position: absolute;border-left: 1px solid gray;box-sizing: border-box;top: 0;bottom: 0;left: 50%;z-index: -1;}#sk-container-id-2 div.sk-parallel-item {display: flex;flex-direction: column;z-index: 1;position: relative;background-color: white;}#sk-container-id-2 div.sk-parallel-item:first-child::after {align-self: flex-end;width: 50%;}#sk-container-id-2 div.sk-parallel-item:last-child::after {align-self: flex-start;width: 50%;}#sk-container-id-2 div.sk-parallel-item:only-child::after {width: 0;}#sk-container-id-2 div.sk-dashed-wrapped {border: 1px dashed gray;margin: 0 0.4em 0.5em 0.4em;box-sizing: border-box;padding-bottom: 0.4em;background-color: white;}#sk-container-id-2 div.sk-label label {font-family: monospace;font-weight: bold;display: inline-block;line-height: 1.2em;}#sk-container-id-2 div.sk-label-container {text-align: center;}#sk-container-id-2 div.sk-container {/* jupyter's `normalize.less` sets `[hidden] { display: none; }` but bootstrap.min.css set `[hidden] { display: none !important; }` so we also need the `!important` here to be able to override the default hidden behavior on the sphinx rendered scikit-learn.org. See: https://github.com/scikit-learn/scikit-learn/issues/21755 */display: inline-block !important;position: relative;}#sk-container-id-2 div.sk-text-repr-fallback {display: none;}</style><div id=\"sk-container-id-2\" class=\"sk-top-container\"><div class=\"sk-text-repr-fallback\"><pre>RandomizedSearchCV(cv=5,\n",
       "                   estimator=Pipeline(steps=[(&#x27;preprocessor&#x27;,\n",
       "                                              ColumnTransformer(transformers=[(&#x27;categorical&#x27;,\n",
       "                                                                               Pipeline(steps=[(&#x27;ohe&#x27;,\n",
       "                                                                                                OneHotEncoder(handle_unknown=&#x27;ignore&#x27;))]),\n",
       "                                                                               [&#x27;sex&#x27;]),\n",
       "                                                                              (&#x27;numerical&#x27;,\n",
       "                                                                               Pipeline(steps=[(&#x27;minmaxscaler&#x27;,\n",
       "                                                                                                MinMaxScaler())]),\n",
       "                                                                               [&#x27;length&#x27;,\n",
       "                                                                                &#x27;diameter&#x27;,\n",
       "                                                                                &#x27;height&#x27;,\n",
       "                                                                                &#x27;weight&#x27;,\n",
       "                                                                                &#x27;shucked &#x27;\n",
       "                                                                                &#x27;weight&#x27;,\n",
       "                                                                                &#x27;viscera &#x27;\n",
       "                                                                                &#x27;weight&#x27;,\n",
       "                                                                                &#x27;shell &#x27;\n",
       "                                                                                &#x27;weight&#x27;])])),\n",
       "                                             (&#x27;mo...\n",
       "       0.046, 0.051, 0.056, 0.061, 0.066, 0.071, 0.076, 0.081, 0.086,\n",
       "       0.091, 0.096]),\n",
       "                                        &#x27;model__loss&#x27;: [&#x27;squared_error&#x27;,\n",
       "                                                        &#x27;absolute_error&#x27;],\n",
       "                                        &#x27;model__max_depth&#x27;: [None, 3, 5, 10],\n",
       "                                        &#x27;model__min_samples_leaf&#x27;: array([ 1,  3,  5,  7,  9, 11, 13, 15, 17, 19]),\n",
       "                                        &#x27;model__min_samples_split&#x27;: array([ 2,  4,  6,  8, 10, 12, 14, 16, 18]),\n",
       "                                        &#x27;model__n_estimators&#x27;: array([10, 20, 30, 40, 50, 60, 70, 80, 90]),\n",
       "                                        &#x27;model__subsample&#x27;: array([0. , 0.2, 0.4, 0.6, 0.8])},\n",
       "                   verbose=2)</pre><b>In a Jupyter environment, please rerun this cell to show the HTML representation or trust the notebook. <br />On GitHub, the HTML representation is unable to render, please try loading this page with nbviewer.org.</b></div><div class=\"sk-container\" hidden><div class=\"sk-item sk-dashed-wrapped\"><div class=\"sk-label-container\"><div class=\"sk-label sk-toggleable\"><input class=\"sk-toggleable__control sk-hidden--visually\" id=\"sk-estimator-id-9\" type=\"checkbox\" ><label for=\"sk-estimator-id-9\" class=\"sk-toggleable__label sk-toggleable__label-arrow\">RandomizedSearchCV</label><div class=\"sk-toggleable__content\"><pre>RandomizedSearchCV(cv=5,\n",
       "                   estimator=Pipeline(steps=[(&#x27;preprocessor&#x27;,\n",
       "                                              ColumnTransformer(transformers=[(&#x27;categorical&#x27;,\n",
       "                                                                               Pipeline(steps=[(&#x27;ohe&#x27;,\n",
       "                                                                                                OneHotEncoder(handle_unknown=&#x27;ignore&#x27;))]),\n",
       "                                                                               [&#x27;sex&#x27;]),\n",
       "                                                                              (&#x27;numerical&#x27;,\n",
       "                                                                               Pipeline(steps=[(&#x27;minmaxscaler&#x27;,\n",
       "                                                                                                MinMaxScaler())]),\n",
       "                                                                               [&#x27;length&#x27;,\n",
       "                                                                                &#x27;diameter&#x27;,\n",
       "                                                                                &#x27;height&#x27;,\n",
       "                                                                                &#x27;weight&#x27;,\n",
       "                                                                                &#x27;shucked &#x27;\n",
       "                                                                                &#x27;weight&#x27;,\n",
       "                                                                                &#x27;viscera &#x27;\n",
       "                                                                                &#x27;weight&#x27;,\n",
       "                                                                                &#x27;shell &#x27;\n",
       "                                                                                &#x27;weight&#x27;])])),\n",
       "                                             (&#x27;mo...\n",
       "       0.046, 0.051, 0.056, 0.061, 0.066, 0.071, 0.076, 0.081, 0.086,\n",
       "       0.091, 0.096]),\n",
       "                                        &#x27;model__loss&#x27;: [&#x27;squared_error&#x27;,\n",
       "                                                        &#x27;absolute_error&#x27;],\n",
       "                                        &#x27;model__max_depth&#x27;: [None, 3, 5, 10],\n",
       "                                        &#x27;model__min_samples_leaf&#x27;: array([ 1,  3,  5,  7,  9, 11, 13, 15, 17, 19]),\n",
       "                                        &#x27;model__min_samples_split&#x27;: array([ 2,  4,  6,  8, 10, 12, 14, 16, 18]),\n",
       "                                        &#x27;model__n_estimators&#x27;: array([10, 20, 30, 40, 50, 60, 70, 80, 90]),\n",
       "                                        &#x27;model__subsample&#x27;: array([0. , 0.2, 0.4, 0.6, 0.8])},\n",
       "                   verbose=2)</pre></div></div></div><div class=\"sk-parallel\"><div class=\"sk-parallel-item\"><div class=\"sk-item\"><div class=\"sk-label-container\"><div class=\"sk-label sk-toggleable\"><input class=\"sk-toggleable__control sk-hidden--visually\" id=\"sk-estimator-id-10\" type=\"checkbox\" ><label for=\"sk-estimator-id-10\" class=\"sk-toggleable__label sk-toggleable__label-arrow\">estimator: Pipeline</label><div class=\"sk-toggleable__content\"><pre>Pipeline(steps=[(&#x27;preprocessor&#x27;,\n",
       "                 ColumnTransformer(transformers=[(&#x27;categorical&#x27;,\n",
       "                                                  Pipeline(steps=[(&#x27;ohe&#x27;,\n",
       "                                                                   OneHotEncoder(handle_unknown=&#x27;ignore&#x27;))]),\n",
       "                                                  [&#x27;sex&#x27;]),\n",
       "                                                 (&#x27;numerical&#x27;,\n",
       "                                                  Pipeline(steps=[(&#x27;minmaxscaler&#x27;,\n",
       "                                                                   MinMaxScaler())]),\n",
       "                                                  [&#x27;length&#x27;, &#x27;diameter&#x27;,\n",
       "                                                   &#x27;height&#x27;, &#x27;weight&#x27;,\n",
       "                                                   &#x27;shucked weight&#x27;,\n",
       "                                                   &#x27;viscera weight&#x27;,\n",
       "                                                   &#x27;shell weight&#x27;])])),\n",
       "                (&#x27;model&#x27;, GradientBoostingRegressor())])</pre></div></div></div><div class=\"sk-serial\"><div class=\"sk-item\"><div class=\"sk-serial\"><div class=\"sk-item sk-dashed-wrapped\"><div class=\"sk-label-container\"><div class=\"sk-label sk-toggleable\"><input class=\"sk-toggleable__control sk-hidden--visually\" id=\"sk-estimator-id-11\" type=\"checkbox\" ><label for=\"sk-estimator-id-11\" class=\"sk-toggleable__label sk-toggleable__label-arrow\">preprocessor: ColumnTransformer</label><div class=\"sk-toggleable__content\"><pre>ColumnTransformer(transformers=[(&#x27;categorical&#x27;,\n",
       "                                 Pipeline(steps=[(&#x27;ohe&#x27;,\n",
       "                                                  OneHotEncoder(handle_unknown=&#x27;ignore&#x27;))]),\n",
       "                                 [&#x27;sex&#x27;]),\n",
       "                                (&#x27;numerical&#x27;,\n",
       "                                 Pipeline(steps=[(&#x27;minmaxscaler&#x27;,\n",
       "                                                  MinMaxScaler())]),\n",
       "                                 [&#x27;length&#x27;, &#x27;diameter&#x27;, &#x27;height&#x27;, &#x27;weight&#x27;,\n",
       "                                  &#x27;shucked weight&#x27;, &#x27;viscera weight&#x27;,\n",
       "                                  &#x27;shell weight&#x27;])])</pre></div></div></div><div class=\"sk-parallel\"><div class=\"sk-parallel-item\"><div class=\"sk-item\"><div class=\"sk-label-container\"><div class=\"sk-label sk-toggleable\"><input class=\"sk-toggleable__control sk-hidden--visually\" id=\"sk-estimator-id-12\" type=\"checkbox\" ><label for=\"sk-estimator-id-12\" class=\"sk-toggleable__label sk-toggleable__label-arrow\">categorical</label><div class=\"sk-toggleable__content\"><pre>[&#x27;sex&#x27;]</pre></div></div></div><div class=\"sk-serial\"><div class=\"sk-item\"><div class=\"sk-serial\"><div class=\"sk-item\"><div class=\"sk-estimator sk-toggleable\"><input class=\"sk-toggleable__control sk-hidden--visually\" id=\"sk-estimator-id-13\" type=\"checkbox\" ><label for=\"sk-estimator-id-13\" class=\"sk-toggleable__label sk-toggleable__label-arrow\">OneHotEncoder</label><div class=\"sk-toggleable__content\"><pre>OneHotEncoder(handle_unknown=&#x27;ignore&#x27;)</pre></div></div></div></div></div></div></div></div><div class=\"sk-parallel-item\"><div class=\"sk-item\"><div class=\"sk-label-container\"><div class=\"sk-label sk-toggleable\"><input class=\"sk-toggleable__control sk-hidden--visually\" id=\"sk-estimator-id-14\" type=\"checkbox\" ><label for=\"sk-estimator-id-14\" class=\"sk-toggleable__label sk-toggleable__label-arrow\">numerical</label><div class=\"sk-toggleable__content\"><pre>[&#x27;length&#x27;, &#x27;diameter&#x27;, &#x27;height&#x27;, &#x27;weight&#x27;, &#x27;shucked weight&#x27;, &#x27;viscera weight&#x27;, &#x27;shell weight&#x27;]</pre></div></div></div><div class=\"sk-serial\"><div class=\"sk-item\"><div class=\"sk-serial\"><div class=\"sk-item\"><div class=\"sk-estimator sk-toggleable\"><input class=\"sk-toggleable__control sk-hidden--visually\" id=\"sk-estimator-id-15\" type=\"checkbox\" ><label for=\"sk-estimator-id-15\" class=\"sk-toggleable__label sk-toggleable__label-arrow\">MinMaxScaler</label><div class=\"sk-toggleable__content\"><pre>MinMaxScaler()</pre></div></div></div></div></div></div></div></div></div></div><div class=\"sk-item\"><div class=\"sk-estimator sk-toggleable\"><input class=\"sk-toggleable__control sk-hidden--visually\" id=\"sk-estimator-id-16\" type=\"checkbox\" ><label for=\"sk-estimator-id-16\" class=\"sk-toggleable__label sk-toggleable__label-arrow\">GradientBoostingRegressor</label><div class=\"sk-toggleable__content\"><pre>GradientBoostingRegressor()</pre></div></div></div></div></div></div></div></div></div></div></div></div>"
      ],
      "text/plain": [
       "RandomizedSearchCV(cv=5,\n",
       "                   estimator=Pipeline(steps=[('preprocessor',\n",
       "                                              ColumnTransformer(transformers=[('categorical',\n",
       "                                                                               Pipeline(steps=[('ohe',\n",
       "                                                                                                OneHotEncoder(handle_unknown='ignore'))]),\n",
       "                                                                               ['sex']),\n",
       "                                                                              ('numerical',\n",
       "                                                                               Pipeline(steps=[('minmaxscaler',\n",
       "                                                                                                MinMaxScaler())]),\n",
       "                                                                               ['length',\n",
       "                                                                                'diameter',\n",
       "                                                                                'height',\n",
       "                                                                                'weight',\n",
       "                                                                                'shucked '\n",
       "                                                                                'weight',\n",
       "                                                                                'viscera '\n",
       "                                                                                'weight',\n",
       "                                                                                'shell '\n",
       "                                                                                'weight'])])),\n",
       "                                             ('mo...\n",
       "       0.046, 0.051, 0.056, 0.061, 0.066, 0.071, 0.076, 0.081, 0.086,\n",
       "       0.091, 0.096]),\n",
       "                                        'model__loss': ['squared_error',\n",
       "                                                        'absolute_error'],\n",
       "                                        'model__max_depth': [None, 3, 5, 10],\n",
       "                                        'model__min_samples_leaf': array([ 1,  3,  5,  7,  9, 11, 13, 15, 17, 19]),\n",
       "                                        'model__min_samples_split': array([ 2,  4,  6,  8, 10, 12, 14, 16, 18]),\n",
       "                                        'model__n_estimators': array([10, 20, 30, 40, 50, 60, 70, 80, 90]),\n",
       "                                        'model__subsample': array([0. , 0.2, 0.4, 0.6, 0.8])},\n",
       "                   verbose=2)"
      ]
     },
     "execution_count": 43,
     "metadata": {},
     "output_type": "execute_result"
    }
   ],
   "source": [
    "gb_random_search.fit(X_train, y_train)"
   ]
  },
  {
   "cell_type": "code",
   "execution_count": 44,
   "id": "f5b3aef4",
   "metadata": {},
   "outputs": [
    {
     "data": {
      "text/plain": [
       "{'model__subsample': 0.8,\n",
       " 'model__n_estimators': 90,\n",
       " 'model__min_samples_split': 2,\n",
       " 'model__min_samples_leaf': 17,\n",
       " 'model__max_depth': None,\n",
       " 'model__loss': 'squared_error',\n",
       " 'model__learning_rate': 0.046,\n",
       " 'model__criterion': 'squared_error'}"
      ]
     },
     "execution_count": 44,
     "metadata": {},
     "output_type": "execute_result"
    }
   ],
   "source": [
    "gb_random_search.best_params_"
   ]
  },
  {
   "cell_type": "code",
   "execution_count": 46,
   "id": "03685f15",
   "metadata": {},
   "outputs": [
    {
     "data": {
      "text/plain": [
       "{'Score': 0.8325039150518421,\n",
       " 'MAE': 1.4461610484553569,\n",
       " 'MSE': 4.3447854847365175,\n",
       " 'R_squared': 0.573688173640027}"
      ]
     },
     "execution_count": 46,
     "metadata": {},
     "output_type": "execute_result"
    }
   ],
   "source": [
    "cv_y_preds = gb_random_search.predict(X_test)\n",
    "scores = {\n",
    "    \"Score\": gb_random_search.score(X_train, y_train),\n",
    "    \"MAE\": mean_absolute_error(y_test, cv_y_preds),\n",
    "    \"MSE\": mean_squared_error(y_test, cv_y_preds),\n",
    "    \"R_squared\": r2_score(y_test, cv_y_preds)\n",
    "}\n",
    "scores"
   ]
  },
  {
   "cell_type": "markdown",
   "id": "97e9052f",
   "metadata": {},
   "source": [
    "### Add Original Dataset "
   ]
  },
  {
   "cell_type": "code",
   "execution_count": 50,
   "id": "a77ac694",
   "metadata": {},
   "outputs": [
    {
     "data": {
      "text/html": [
       "<div>\n",
       "<style scoped>\n",
       "    .dataframe tbody tr th:only-of-type {\n",
       "        vertical-align: middle;\n",
       "    }\n",
       "\n",
       "    .dataframe tbody tr th {\n",
       "        vertical-align: top;\n",
       "    }\n",
       "\n",
       "    .dataframe thead th {\n",
       "        text-align: right;\n",
       "    }\n",
       "</style>\n",
       "<table border=\"1\" class=\"dataframe\">\n",
       "  <thead>\n",
       "    <tr style=\"text-align: right;\">\n",
       "      <th></th>\n",
       "      <th>Sex</th>\n",
       "      <th>Length</th>\n",
       "      <th>Diameter</th>\n",
       "      <th>Height</th>\n",
       "      <th>Weight</th>\n",
       "      <th>Shucked Weight</th>\n",
       "      <th>Viscera Weight</th>\n",
       "      <th>Shell Weight</th>\n",
       "      <th>Age</th>\n",
       "    </tr>\n",
       "  </thead>\n",
       "  <tbody>\n",
       "    <tr>\n",
       "      <th>0</th>\n",
       "      <td>F</td>\n",
       "      <td>1.4375</td>\n",
       "      <td>1.1750</td>\n",
       "      <td>0.4125</td>\n",
       "      <td>24.635715</td>\n",
       "      <td>12.332033</td>\n",
       "      <td>5.584852</td>\n",
       "      <td>6.747181</td>\n",
       "      <td>9</td>\n",
       "    </tr>\n",
       "    <tr>\n",
       "      <th>1</th>\n",
       "      <td>M</td>\n",
       "      <td>0.8875</td>\n",
       "      <td>0.6500</td>\n",
       "      <td>0.2125</td>\n",
       "      <td>5.400580</td>\n",
       "      <td>2.296310</td>\n",
       "      <td>1.374951</td>\n",
       "      <td>1.559222</td>\n",
       "      <td>6</td>\n",
       "    </tr>\n",
       "    <tr>\n",
       "      <th>2</th>\n",
       "      <td>I</td>\n",
       "      <td>1.0375</td>\n",
       "      <td>0.7750</td>\n",
       "      <td>0.2500</td>\n",
       "      <td>7.952035</td>\n",
       "      <td>3.231843</td>\n",
       "      <td>1.601747</td>\n",
       "      <td>2.764076</td>\n",
       "      <td>6</td>\n",
       "    </tr>\n",
       "    <tr>\n",
       "      <th>3</th>\n",
       "      <td>F</td>\n",
       "      <td>1.1750</td>\n",
       "      <td>0.8875</td>\n",
       "      <td>0.2500</td>\n",
       "      <td>13.480187</td>\n",
       "      <td>4.748541</td>\n",
       "      <td>2.282135</td>\n",
       "      <td>5.244657</td>\n",
       "      <td>10</td>\n",
       "    </tr>\n",
       "    <tr>\n",
       "      <th>4</th>\n",
       "      <td>I</td>\n",
       "      <td>0.8875</td>\n",
       "      <td>0.6625</td>\n",
       "      <td>0.2125</td>\n",
       "      <td>6.903103</td>\n",
       "      <td>3.458639</td>\n",
       "      <td>1.488349</td>\n",
       "      <td>1.700970</td>\n",
       "      <td>6</td>\n",
       "    </tr>\n",
       "    <tr>\n",
       "      <th>...</th>\n",
       "      <td>...</td>\n",
       "      <td>...</td>\n",
       "      <td>...</td>\n",
       "      <td>...</td>\n",
       "      <td>...</td>\n",
       "      <td>...</td>\n",
       "      <td>...</td>\n",
       "      <td>...</td>\n",
       "      <td>...</td>\n",
       "    </tr>\n",
       "    <tr>\n",
       "      <th>3888</th>\n",
       "      <td>F</td>\n",
       "      <td>1.4625</td>\n",
       "      <td>1.1375</td>\n",
       "      <td>0.3250</td>\n",
       "      <td>24.819987</td>\n",
       "      <td>11.651644</td>\n",
       "      <td>5.854172</td>\n",
       "      <td>6.378637</td>\n",
       "      <td>8</td>\n",
       "    </tr>\n",
       "    <tr>\n",
       "      <th>3889</th>\n",
       "      <td>F</td>\n",
       "      <td>1.5500</td>\n",
       "      <td>1.2125</td>\n",
       "      <td>0.4375</td>\n",
       "      <td>34.458817</td>\n",
       "      <td>15.450477</td>\n",
       "      <td>7.172423</td>\n",
       "      <td>9.780577</td>\n",
       "      <td>10</td>\n",
       "    </tr>\n",
       "    <tr>\n",
       "      <th>3890</th>\n",
       "      <td>I</td>\n",
       "      <td>0.6250</td>\n",
       "      <td>0.4625</td>\n",
       "      <td>0.1625</td>\n",
       "      <td>2.012815</td>\n",
       "      <td>0.765436</td>\n",
       "      <td>0.524466</td>\n",
       "      <td>0.637864</td>\n",
       "      <td>5</td>\n",
       "    </tr>\n",
       "    <tr>\n",
       "      <th>3891</th>\n",
       "      <td>I</td>\n",
       "      <td>1.0625</td>\n",
       "      <td>0.7750</td>\n",
       "      <td>0.2625</td>\n",
       "      <td>10.347568</td>\n",
       "      <td>4.507570</td>\n",
       "      <td>2.338834</td>\n",
       "      <td>2.976698</td>\n",
       "      <td>6</td>\n",
       "    </tr>\n",
       "    <tr>\n",
       "      <th>3892</th>\n",
       "      <td>I</td>\n",
       "      <td>0.7875</td>\n",
       "      <td>0.6125</td>\n",
       "      <td>0.2125</td>\n",
       "      <td>4.068153</td>\n",
       "      <td>1.502523</td>\n",
       "      <td>1.346601</td>\n",
       "      <td>1.417475</td>\n",
       "      <td>8</td>\n",
       "    </tr>\n",
       "  </tbody>\n",
       "</table>\n",
       "<p>3893 rows × 9 columns</p>\n",
       "</div>"
      ],
      "text/plain": [
       "     Sex  Length  Diameter  Height     Weight  Shucked Weight  Viscera Weight   \n",
       "0      F  1.4375    1.1750  0.4125  24.635715       12.332033        5.584852  \\\n",
       "1      M  0.8875    0.6500  0.2125   5.400580        2.296310        1.374951   \n",
       "2      I  1.0375    0.7750  0.2500   7.952035        3.231843        1.601747   \n",
       "3      F  1.1750    0.8875  0.2500  13.480187        4.748541        2.282135   \n",
       "4      I  0.8875    0.6625  0.2125   6.903103        3.458639        1.488349   \n",
       "...   ..     ...       ...     ...        ...             ...             ...   \n",
       "3888   F  1.4625    1.1375  0.3250  24.819987       11.651644        5.854172   \n",
       "3889   F  1.5500    1.2125  0.4375  34.458817       15.450477        7.172423   \n",
       "3890   I  0.6250    0.4625  0.1625   2.012815        0.765436        0.524466   \n",
       "3891   I  1.0625    0.7750  0.2625  10.347568        4.507570        2.338834   \n",
       "3892   I  0.7875    0.6125  0.2125   4.068153        1.502523        1.346601   \n",
       "\n",
       "      Shell Weight  Age  \n",
       "0         6.747181    9  \n",
       "1         1.559222    6  \n",
       "2         2.764076    6  \n",
       "3         5.244657   10  \n",
       "4         1.700970    6  \n",
       "...            ...  ...  \n",
       "3888      6.378637    8  \n",
       "3889      9.780577   10  \n",
       "3890      0.637864    5  \n",
       "3891      2.976698    6  \n",
       "3892      1.417475    8  \n",
       "\n",
       "[3893 rows x 9 columns]"
      ]
     },
     "execution_count": 50,
     "metadata": {},
     "output_type": "execute_result"
    }
   ],
   "source": [
    "real_df = pd.read_csv(\"data/crab_age_raw/CrabAgePrediction.csv\")\n",
    "real_df"
   ]
  },
  {
   "cell_type": "code",
   "execution_count": 48,
   "id": "a8eadd47",
   "metadata": {
    "scrolled": true
   },
   "outputs": [
    {
     "ename": "TypeError",
     "evalue": "only size-1 arrays can be converted to Python scalars",
     "output_type": "error",
     "traceback": [
      "\u001b[1;31m---------------------------------------------------------------------------\u001b[0m",
      "\u001b[1;31mTypeError\u001b[0m                                 Traceback (most recent call last)",
      "Cell \u001b[1;32mIn[48], line 1\u001b[0m\n\u001b[1;32m----> 1\u001b[0m \u001b[38;5;28;43mint\u001b[39;49m\u001b[43m(\u001b[49m\u001b[43mcv_y_preds\u001b[49m\u001b[43m)\u001b[49m\n",
      "\u001b[1;31mTypeError\u001b[0m: only size-1 arrays can be converted to Python scalars"
     ]
    }
   ],
   "source": [
    "real_artificial_df= pd.concat([])"
   ]
  },
  {
   "cell_type": "markdown",
   "id": "59cca941",
   "metadata": {},
   "source": [
    "This is evolving into building a discriminator model. Maybe you can test how to generate artificial crab data that can adopt the natural physical qualities of the real dataset."
   ]
  },
  {
   "cell_type": "code",
   "execution_count": null,
   "id": "a1fa91d5",
   "metadata": {},
   "outputs": [],
   "source": []
  }
 ],
 "metadata": {
  "kernelspec": {
   "display_name": "Python 3 (ipykernel)",
   "language": "python",
   "name": "python3"
  },
  "language_info": {
   "codemirror_mode": {
    "name": "ipython",
    "version": 3
   },
   "file_extension": ".py",
   "mimetype": "text/x-python",
   "name": "python",
   "nbconvert_exporter": "python",
   "pygments_lexer": "ipython3",
   "version": "3.10.11"
  }
 },
 "nbformat": 4,
 "nbformat_minor": 5
}
