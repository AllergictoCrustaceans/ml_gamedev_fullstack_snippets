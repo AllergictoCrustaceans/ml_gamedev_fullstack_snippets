{
 "cells": [
  {
   "cell_type": "markdown",
   "id": "e62a33e3",
   "metadata": {},
   "source": [
    "# Hepatitis\n",
    "The following dataset is from [UCI Machine Learning Repository](https://archive.ics.uci.edu/ml/datasets/Hepatitis).\n",
    "\n",
    "## Problem Definition: \n",
    "Given information of patient's medical information, predict whether the patient who has heptatitis died (1) or lived (0).\n",
    "This is a classification problem: \n",
    "- 0 for lived\n",
    "- 1 for died\n",
    "\n",
    "## Define Evaluation Metrics:\n",
    "I'll set one for this project. \n",
    "If during our proof of concept phase, we can reach a 95% accuracy at predicting whether the person died or lived from hepatitis -- based on given medical information -- then we should move on with the project. \n",
    "\n",
    "## Define Features to Use:\n",
    "In reference to the information given by [UCI Machine Learning Repository](https://archive.ics.uci.edu/ml/datasets/Hepatitis):\n",
    "\n",
    "1. Class: DIE, LIVE\n",
    "2. AGE: 10, 20, 30, 40, 50, 60, 70, 80\n",
    "3. SEX: male, female\n",
    "4. STEROID: no, yes\n",
    "5. ANTIVIRALS: no, yes\n",
    "6. FATIGUE: no, yes\n",
    "7. MALAISE: no, yes\n",
    "8. ANOREXIA: no, yes\n",
    "9. LIVER BIG: no, yes\n",
    "10. LIVER FIRM: no, yes\n",
    "11. SPLEEN PALPABLE: no, yes\n",
    "12. SPIDERS: no, yes\n",
    "13. ASCITES: no, yes\n",
    "14. VARICES: no, yes\n",
    "15. BILIRUBIN: 0.39, 0.80, 1.20, 2.00, 3.00, 4.00\n",
    "    - Donator of the dataset said this feature is a continuous attribute that can be discretized. \n",
    "16. ALK PHOSPHATE: 33, 80, 120, 160, 200, 250\n",
    "17. SGOT: 13, 100, 200, 300, 400, 500,\n",
    "18. ALBUMIN: 2.1, 3.0, 3.8, 4.5, 5.0, 6.0\n",
    "19. PROTIME: 10, 20, 30, 40, 50, 60, 70, 80, 90\n",
    "20. HISTOLOGY: no, yes "
   ]
  },
  {
   "cell_type": "markdown",
   "id": "91a99c79",
   "metadata": {},
   "source": [
    "## Import Tools"
   ]
  },
  {
   "cell_type": "code",
   "execution_count": 2,
   "id": "8849f039",
   "metadata": {},
   "outputs": [],
   "source": [
    "import numpy as np\n",
    "import pandas as pd\n",
    "import matplotlib.pyplot as plt\n",
    "\n",
    "\n",
    "%matplotlib inline\n",
    "\n",
    "# models\n",
    "from sklearn.ensemble import RandomForestClassifier\n",
    "from sklearn.neural_network import MLPClassifier\n",
    "\n",
    "# evaluation\n",
    "from sklearn.model_selection import train_test_split, cross_val_score\n",
    "from sklearn.model_selection import RandomizedSearchCV, GridSearchCV\n",
    "from sklearn.metrics import confusion_matrix, classification_report\n",
    "from sklearn.metrics import precision_score, recall_score, f1_score\n",
    "from sklearn.metrics import RocCurveDisplay"
   ]
  },
  {
   "cell_type": "markdown",
   "id": "91b7ea44",
   "metadata": {},
   "source": [
    "## Load Data"
   ]
  },
  {
   "cell_type": "code",
   "execution_count": 14,
   "id": "6bb4a529",
   "metadata": {},
   "outputs": [],
   "source": [
    "# Convert .data file to .csv"
   ]
  },
  {
   "cell_type": "code",
   "execution_count": 20,
   "id": "565812d4",
   "metadata": {},
   "outputs": [],
   "source": [
    "df_csv = pd.read_table(\"data/hepatitis.data\")\n",
    "df_csv"
   ]
  },
  {
   "cell_type": "code",
   "execution_count": null,
   "id": "518b9bae",
   "metadata": {},
   "outputs": [],
   "source": []
  }
 ],
 "metadata": {
  "kernelspec": {
   "display_name": "Python 3 (ipykernel)",
   "language": "python",
   "name": "python3"
  },
  "language_info": {
   "codemirror_mode": {
    "name": "ipython",
    "version": 3
   },
   "file_extension": ".py",
   "mimetype": "text/x-python",
   "name": "python",
   "nbconvert_exporter": "python",
   "pygments_lexer": "ipython3",
   "version": "3.10.11"
  }
 },
 "nbformat": 4,
 "nbformat_minor": 5
}
