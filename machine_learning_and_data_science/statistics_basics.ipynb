{
 "cells": [
  {
   "cell_type": "markdown",
   "id": "cf799a7f",
   "metadata": {},
   "source": [
    "# Statistical Learning\n",
    "\n",
    "The following statistical learning concepts are based off of the concepts mentioned in this [textbook](https://www.statlearning.com/)"
   ]
  },
  {
   "cell_type": "code",
   "execution_count": null,
   "id": "8e7f809b",
   "metadata": {},
   "outputs": [],
   "source": []
  },
  {
   "cell_type": "markdown",
   "id": "70672ef2",
   "metadata": {},
   "source": [
    "## Linear Regression"
   ]
  },
  {
   "cell_type": "markdown",
   "id": "b9ce5bac",
   "metadata": {},
   "source": [
    "### Simple Linear Regression"
   ]
  },
  {
   "cell_type": "code",
   "execution_count": null,
   "id": "dfc043d3",
   "metadata": {},
   "outputs": [],
   "source": []
  },
  {
   "cell_type": "markdown",
   "id": "5acb85dd",
   "metadata": {},
   "source": [
    "### Multiple Linear Regression"
   ]
  },
  {
   "cell_type": "code",
   "execution_count": null,
   "id": "f805cb79",
   "metadata": {},
   "outputs": [],
   "source": []
  },
  {
   "cell_type": "markdown",
   "id": "270abfad",
   "metadata": {},
   "source": [
    "### Linear Regression Models V. K-Nearest Neighbors"
   ]
  },
  {
   "cell_type": "code",
   "execution_count": null,
   "id": "c3f18a7a",
   "metadata": {},
   "outputs": [],
   "source": []
  },
  {
   "cell_type": "markdown",
   "id": "636b48f5",
   "metadata": {},
   "source": [
    "## Classification"
   ]
  },
  {
   "cell_type": "markdown",
   "id": "e3590921",
   "metadata": {},
   "source": [
    "### Logistic Regression"
   ]
  },
  {
   "cell_type": "code",
   "execution_count": null,
   "id": "4e8a8d73",
   "metadata": {},
   "outputs": [],
   "source": []
  },
  {
   "cell_type": "markdown",
   "id": "845e13c3",
   "metadata": {},
   "source": [
    "### Generative Models for Classification"
   ]
  },
  {
   "cell_type": "code",
   "execution_count": null,
   "id": "cda1f242",
   "metadata": {},
   "outputs": [],
   "source": []
  },
  {
   "cell_type": "markdown",
   "id": "15b3d6f8",
   "metadata": {},
   "source": [
    "### Compare Classification Models"
   ]
  },
  {
   "cell_type": "code",
   "execution_count": null,
   "id": "546564e0",
   "metadata": {},
   "outputs": [],
   "source": []
  },
  {
   "cell_type": "markdown",
   "id": "9556b2ea",
   "metadata": {},
   "source": [
    "## Resampling Methods"
   ]
  },
  {
   "cell_type": "markdown",
   "id": "795641ff",
   "metadata": {},
   "source": [
    "### Cross-Validation"
   ]
  },
  {
   "cell_type": "code",
   "execution_count": null,
   "id": "97a72dc0",
   "metadata": {},
   "outputs": [],
   "source": []
  },
  {
   "cell_type": "markdown",
   "id": "c098b4f6",
   "metadata": {},
   "source": [
    "### Bootstrap"
   ]
  },
  {
   "cell_type": "code",
   "execution_count": null,
   "id": "8e54bcb0",
   "metadata": {},
   "outputs": [],
   "source": []
  },
  {
   "cell_type": "markdown",
   "id": "de752032",
   "metadata": {},
   "source": [
    "## Linear Model Selection + Regularization"
   ]
  },
  {
   "cell_type": "markdown",
   "id": "0d24a859",
   "metadata": {},
   "source": [
    "### Subset Selection"
   ]
  },
  {
   "cell_type": "code",
   "execution_count": null,
   "id": "3ce6ee50",
   "metadata": {},
   "outputs": [],
   "source": []
  },
  {
   "cell_type": "markdown",
   "id": "7d4d0560",
   "metadata": {},
   "source": [
    "### Shrinkage Methods"
   ]
  },
  {
   "cell_type": "code",
   "execution_count": null,
   "id": "233f31cf",
   "metadata": {},
   "outputs": [],
   "source": []
  },
  {
   "cell_type": "markdown",
   "id": "ac4748d2",
   "metadata": {},
   "source": [
    "### Dimension Reduction Methods"
   ]
  },
  {
   "cell_type": "code",
   "execution_count": null,
   "id": "e56104de",
   "metadata": {},
   "outputs": [],
   "source": []
  },
  {
   "cell_type": "markdown",
   "id": "960af3bb",
   "metadata": {},
   "source": [
    "## Polynomial Regression"
   ]
  },
  {
   "cell_type": "markdown",
   "id": "8a650b84",
   "metadata": {},
   "source": [
    "### Step Functions"
   ]
  },
  {
   "cell_type": "code",
   "execution_count": null,
   "id": "bc6477d4",
   "metadata": {},
   "outputs": [],
   "source": []
  },
  {
   "cell_type": "markdown",
   "id": "1af2cbbd",
   "metadata": {},
   "source": [
    "### Basis Functions"
   ]
  },
  {
   "cell_type": "code",
   "execution_count": null,
   "id": "85dde900",
   "metadata": {},
   "outputs": [],
   "source": []
  },
  {
   "cell_type": "markdown",
   "id": "3e559b1e",
   "metadata": {},
   "source": [
    "### Regression Splines"
   ]
  },
  {
   "cell_type": "code",
   "execution_count": null,
   "id": "3fcb873d",
   "metadata": {},
   "outputs": [],
   "source": []
  },
  {
   "cell_type": "markdown",
   "id": "95fffd67",
   "metadata": {},
   "source": [
    "### Smoothing Splines"
   ]
  },
  {
   "cell_type": "code",
   "execution_count": null,
   "id": "73bf336e",
   "metadata": {},
   "outputs": [],
   "source": []
  },
  {
   "cell_type": "markdown",
   "id": "5527284a",
   "metadata": {},
   "source": [
    "### Local Regression"
   ]
  },
  {
   "cell_type": "code",
   "execution_count": null,
   "id": "96120318",
   "metadata": {},
   "outputs": [],
   "source": []
  },
  {
   "cell_type": "markdown",
   "id": "946e025a",
   "metadata": {},
   "source": [
    "### Generalized Adidtive Models"
   ]
  },
  {
   "cell_type": "code",
   "execution_count": null,
   "id": "df613881",
   "metadata": {},
   "outputs": [],
   "source": []
  },
  {
   "cell_type": "markdown",
   "id": "bed743ad",
   "metadata": {},
   "source": [
    "### Non-Linear Modeling"
   ]
  },
  {
   "cell_type": "code",
   "execution_count": null,
   "id": "22699304",
   "metadata": {},
   "outputs": [],
   "source": []
  },
  {
   "cell_type": "markdown",
   "id": "5f8f0113",
   "metadata": {},
   "source": [
    "## Tree-Based Methods"
   ]
  },
  {
   "cell_type": "markdown",
   "id": "d2635d02",
   "metadata": {},
   "source": [
    "### Bagging, Random Forests, Boosting, Bayesian Additive Regression Trees"
   ]
  },
  {
   "cell_type": "code",
   "execution_count": null,
   "id": "a92b645b",
   "metadata": {},
   "outputs": [],
   "source": []
  },
  {
   "cell_type": "markdown",
   "id": "de3ee04c",
   "metadata": {},
   "source": [
    "## Support Vector Macines"
   ]
  },
  {
   "cell_type": "markdown",
   "id": "c538b3e1",
   "metadata": {},
   "source": [
    "### Maximal Margin Classifier"
   ]
  },
  {
   "cell_type": "code",
   "execution_count": null,
   "id": "a7ea0d7d",
   "metadata": {},
   "outputs": [],
   "source": []
  },
  {
   "cell_type": "markdown",
   "id": "962ca129",
   "metadata": {},
   "source": [
    "### Support Vector Classifiers"
   ]
  },
  {
   "cell_type": "code",
   "execution_count": null,
   "id": "5faec3fa",
   "metadata": {},
   "outputs": [],
   "source": []
  },
  {
   "cell_type": "markdown",
   "id": "a1e6673c",
   "metadata": {},
   "source": [
    "### SVMs with 2+ Classes"
   ]
  },
  {
   "cell_type": "code",
   "execution_count": null,
   "id": "141d889c",
   "metadata": {},
   "outputs": [],
   "source": []
  },
  {
   "cell_type": "markdown",
   "id": "71357f30",
   "metadata": {},
   "source": [
    "### Relationship to Logistic Regression"
   ]
  },
  {
   "cell_type": "code",
   "execution_count": null,
   "id": "9acae756",
   "metadata": {},
   "outputs": [],
   "source": []
  },
  {
   "cell_type": "markdown",
   "id": "78a55f6a",
   "metadata": {},
   "source": [
    "## Deep Learning"
   ]
  },
  {
   "cell_type": "markdown",
   "id": "80c4fa1a",
   "metadata": {},
   "source": [
    "### Single Layer Neural Networks"
   ]
  },
  {
   "cell_type": "code",
   "execution_count": null,
   "id": "0480deb5",
   "metadata": {},
   "outputs": [],
   "source": []
  },
  {
   "cell_type": "markdown",
   "id": "011ffc58",
   "metadata": {},
   "source": [
    "### Multilayer Neural Networks"
   ]
  },
  {
   "cell_type": "code",
   "execution_count": null,
   "id": "e812ea92",
   "metadata": {},
   "outputs": [],
   "source": []
  },
  {
   "cell_type": "markdown",
   "id": "28f1641b",
   "metadata": {},
   "source": [
    "### Convolutional Neural Networks"
   ]
  },
  {
   "cell_type": "code",
   "execution_count": null,
   "id": "157da88b",
   "metadata": {},
   "outputs": [],
   "source": []
  },
  {
   "cell_type": "markdown",
   "id": "24ff8990",
   "metadata": {},
   "source": [
    "### Document Classification"
   ]
  },
  {
   "cell_type": "code",
   "execution_count": null,
   "id": "19a78737",
   "metadata": {},
   "outputs": [],
   "source": []
  },
  {
   "cell_type": "markdown",
   "id": "b1199a05",
   "metadata": {},
   "source": [
    "### Recurrent Neural Networks"
   ]
  },
  {
   "cell_type": "code",
   "execution_count": null,
   "id": "b17608d3",
   "metadata": {},
   "outputs": [],
   "source": []
  },
  {
   "cell_type": "markdown",
   "id": "3a7e4651",
   "metadata": {},
   "source": [
    "### Fitting a Neural Network"
   ]
  },
  {
   "cell_type": "code",
   "execution_count": null,
   "id": "a1aebf0c",
   "metadata": {},
   "outputs": [],
   "source": []
  },
  {
   "cell_type": "markdown",
   "id": "b4f54c6b",
   "metadata": {},
   "source": [
    "### Interpolation and Double Descent"
   ]
  },
  {
   "cell_type": "code",
   "execution_count": null,
   "id": "66351113",
   "metadata": {},
   "outputs": [],
   "source": []
  },
  {
   "cell_type": "markdown",
   "id": "95bb9a93",
   "metadata": {},
   "source": [
    "## Survivial Analysis + Censored Data"
   ]
  },
  {
   "cell_type": "code",
   "execution_count": null,
   "id": "865a0876",
   "metadata": {},
   "outputs": [],
   "source": []
  },
  {
   "cell_type": "markdown",
   "id": "21439c7f",
   "metadata": {},
   "source": [
    "### Kaplan-Meier Survival Curve"
   ]
  },
  {
   "cell_type": "code",
   "execution_count": null,
   "id": "c84623b6",
   "metadata": {},
   "outputs": [],
   "source": []
  },
  {
   "cell_type": "markdown",
   "id": "d170998d",
   "metadata": {},
   "source": [
    "### Log-Rank Test"
   ]
  },
  {
   "cell_type": "code",
   "execution_count": null,
   "id": "7faf993e",
   "metadata": {},
   "outputs": [],
   "source": []
  },
  {
   "cell_type": "markdown",
   "id": "27feffc6",
   "metadata": {},
   "source": [
    "### Regression Models w/ a Survival Response"
   ]
  },
  {
   "cell_type": "code",
   "execution_count": null,
   "id": "59ca8523",
   "metadata": {},
   "outputs": [],
   "source": []
  },
  {
   "cell_type": "markdown",
   "id": "6a73875d",
   "metadata": {},
   "source": [
    "### Shrinkage for the Cox Model"
   ]
  },
  {
   "cell_type": "code",
   "execution_count": null,
   "id": "6d082be6",
   "metadata": {},
   "outputs": [],
   "source": []
  },
  {
   "cell_type": "markdown",
   "id": "ce25c815",
   "metadata": {},
   "source": [
    "## Unsupervised Learning"
   ]
  },
  {
   "cell_type": "code",
   "execution_count": null,
   "id": "31ca9afd",
   "metadata": {},
   "outputs": [],
   "source": []
  },
  {
   "cell_type": "markdown",
   "id": "c9180181",
   "metadata": {},
   "source": [
    "### Principal Component Analysis"
   ]
  },
  {
   "cell_type": "code",
   "execution_count": null,
   "id": "55528335",
   "metadata": {},
   "outputs": [],
   "source": []
  },
  {
   "cell_type": "markdown",
   "id": "62560dd9",
   "metadata": {},
   "source": [
    "### Missing Values and Matrix Completion"
   ]
  },
  {
   "cell_type": "code",
   "execution_count": null,
   "id": "afe5a6d8",
   "metadata": {},
   "outputs": [],
   "source": []
  },
  {
   "cell_type": "markdown",
   "id": "cfe4a013",
   "metadata": {},
   "source": [
    "### Clustering Methods"
   ]
  },
  {
   "cell_type": "code",
   "execution_count": null,
   "id": "0b907e0b",
   "metadata": {},
   "outputs": [],
   "source": []
  },
  {
   "cell_type": "markdown",
   "id": "04b2c5ba",
   "metadata": {},
   "source": [
    "## Multiple Testing"
   ]
  },
  {
   "cell_type": "markdown",
   "id": "b7946cd8",
   "metadata": {},
   "source": [
    "### Hypothesis Testing"
   ]
  },
  {
   "cell_type": "code",
   "execution_count": null,
   "id": "6de9132b",
   "metadata": {},
   "outputs": [],
   "source": []
  },
  {
   "cell_type": "markdown",
   "id": "d8d36b8f",
   "metadata": {},
   "source": [
    "### Multiple Testing"
   ]
  },
  {
   "cell_type": "code",
   "execution_count": null,
   "id": "29517869",
   "metadata": {},
   "outputs": [],
   "source": []
  },
  {
   "cell_type": "markdown",
   "id": "44d29aa5",
   "metadata": {},
   "source": [
    "### Family-Wise Error Rate"
   ]
  },
  {
   "cell_type": "code",
   "execution_count": null,
   "id": "72389877",
   "metadata": {},
   "outputs": [],
   "source": []
  },
  {
   "cell_type": "markdown",
   "id": "9e9f305a",
   "metadata": {},
   "source": [
    "### Re-sampling Approach to P-Values, and False Discovery Rates"
   ]
  },
  {
   "cell_type": "code",
   "execution_count": null,
   "id": "5da8ef8e",
   "metadata": {},
   "outputs": [],
   "source": []
  }
 ],
 "metadata": {
  "kernelspec": {
   "display_name": "Python 3 (ipykernel)",
   "language": "python",
   "name": "python3"
  },
  "language_info": {
   "codemirror_mode": {
    "name": "ipython",
    "version": 3
   },
   "file_extension": ".py",
   "mimetype": "text/x-python",
   "name": "python",
   "nbconvert_exporter": "python",
   "pygments_lexer": "ipython3",
   "version": "3.10.11"
  }
 },
 "nbformat": 4,
 "nbformat_minor": 5
}
