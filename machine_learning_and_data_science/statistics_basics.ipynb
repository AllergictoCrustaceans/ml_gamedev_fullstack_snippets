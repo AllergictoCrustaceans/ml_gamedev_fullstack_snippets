{
 "cells": [
  {
   "cell_type": "markdown",
   "id": "cf799a7f",
   "metadata": {},
   "source": [
    "# Statistical Learning\n",
    "\n",
    "The following statistical learning concepts are based off of the concepts mentioned in this [textbook](https://www.statlearning.com/)"
   ]
  },
  {
   "cell_type": "markdown",
   "id": "51033416",
   "metadata": {},
   "source": [
    "- What: \n",
    "    - Statistical learning is the practice of estimating the unknown function `f` in the equation:  `Y = f(X) + epsilon`. This is a very general form of descibing how the estimator `f`, with the features `X1,...,Xn` and some added noise `epsilon`,  represent the systematic information that X provides about Y. \n",
    "\n",
    "- Why:\n",
    "    - Prediction: In case X is known but Y isn't, you'll want to predict what Y is given the estimator `f_hat` that's used to help make that prediction. So, the equation is `Y_hat = f_hat(X)`. The accuracy of `Y_hat` depends on the `reducible` and `irreducible` error. Your goals is to minimize the `reducible` error as much as possible. `irreducible` error is the `epsilon` that includes variation/noise that you cannot control. \n",
    "    - Inference: In case you want to know the relationship between X and Y, the exact form of the estimator `f` is known, you'll want to know:\n",
    "        - Which (top few) features are associated with the outcome of Y?\n",
    "        - What's the relationship between Y and each X?\n",
    "        - Can the relationship between Y and each X be adequately summarized using linear equation, or is the relationship more complicated? \n",
    "\n",
    "\n",
    "## How to find estimate `f`?\n",
    "1. Parametric methods: Reduce the problem of estimating `f` down to just estimating a set of parameters. The disadvantage of parametric form is that the model you choose will usually not match the true unknown form of `f`. To attempt to resolve this, you can choose flexible models that can fit many different functional forms for `f`. But this usually means estimating a bunch of parameters. More complex models can lead to `overfitting`, where the parameters follow the noise too closely. \n",
    "2. Non-Parametric Methods: This approach doesn't make assumptionf about the functional form of `f`. It just tries to find an estimate of `f` that is as close to the data points as possible without being too wiggly or rough. The advantage of this approach is avoiding assumptiong means they have to a better chance of fitting a wider range of possible shapes for `f`. The disadvantage is that since they don't reduce the problem of estimating `f` to a small number of parameters, a large number of observations is needed to obtain an accurate estimate of `f`.\n",
    "\n",
    "### The Tradeoff Between Prediction Accuracy and Model Interpretability\n",
    "- Reasons to use a more restrictive model: \n",
    "    - Just doing inference\n",
    "    - some models: least squares linear regression\n",
    "- Resons to use a less restrictive model:\n",
    "    - Want to do prediction\n",
    "    - some models: bagging, boosting, SVMs w/ non-linear kernels, neural networks\n"
   ]
  },
  {
   "cell_type": "markdown",
   "id": "67e3fa76",
   "metadata": {},
   "source": [
    "### Supervised V. Unsupervised\n",
    "\n",
    "- Supervised learning is often associated with predictor measurements (features), and repsonses (labels). The goal of supervised learning is to fit a model that relates the response to the predictors. Doing so gives us the hope of predicting future responses, and understanding the relationship better between the resposne and the predictors.\n",
    "- Unsupervised learning is often not associated with the responses (labels), only with the predictors (features). It's not possible to fit linear regression models since there is no response variable to predict. The goal of unsupervised learning is to understand the relationship between the variables or between the observations. "
   ]
  },
  {
   "cell_type": "markdown",
   "id": "e27b3f99",
   "metadata": {},
   "source": [
    "### Regression V. Classification\n",
    "- Qualitative Variables (Cateogrical variables): these are variables belonging to a class. (e.g. married or not, gay or not)\n",
    "    - Problems with qualitative labels are classification problems.\n",
    "- Quantitative Variables: These are numerical values (e.g. age, height, income, price, etc.) \n",
    "    - Problems with quantitative labels are regression problems. \n",
    "    \n",
    "**Note**: \n",
    "- Logistic Regression is a classification method, but since it estimates class probabilities, it can also be used for regression methods too. \n",
    "- We usually select the statistical learning method based on whether the label we're trying to predict is quantitative or qualitative. "
   ]
  },
  {
   "cell_type": "markdown",
   "id": "3fece823",
   "metadata": {},
   "source": [
    "## Assessing Model Accuracy\n",
    "### Measure Quality of Fit\n",
    "Usually your quality of fit is measuring how close the predicted value is from the true value. The most common measure of quality of fit is the `mean squared error (MSE)`. We care about the accuracy of the predictions on data the model hasn't been trained on. \n",
    "\n",
    "The smaller the MSE is, the closer the predicted value is to the true value. You'll want to find a model that minimizes MSE as much as possible.\n",
    "\n",
    "### Bias-Variance Trade-Off\n",
    "MSE is composed of 3 fundamental quantities:\n",
    "- variance of the predicted MSE\n",
    "- the squared bias of the predicted MS"
   ]
  },
  {
   "cell_type": "markdown",
   "id": "70672ef2",
   "metadata": {},
   "source": [
    "## Linear Regression"
   ]
  },
  {
   "cell_type": "markdown",
   "id": "b9ce5bac",
   "metadata": {},
   "source": [
    "### Simple Linear Regression"
   ]
  },
  {
   "cell_type": "code",
   "execution_count": null,
   "id": "dfc043d3",
   "metadata": {},
   "outputs": [],
   "source": []
  },
  {
   "cell_type": "markdown",
   "id": "5acb85dd",
   "metadata": {},
   "source": [
    "### Multiple Linear Regression"
   ]
  },
  {
   "cell_type": "code",
   "execution_count": null,
   "id": "f805cb79",
   "metadata": {},
   "outputs": [],
   "source": []
  },
  {
   "cell_type": "markdown",
   "id": "270abfad",
   "metadata": {},
   "source": [
    "### Linear Regression Models V. K-Nearest Neighbors"
   ]
  },
  {
   "cell_type": "code",
   "execution_count": null,
   "id": "c3f18a7a",
   "metadata": {},
   "outputs": [],
   "source": []
  },
  {
   "cell_type": "markdown",
   "id": "636b48f5",
   "metadata": {},
   "source": [
    "## Classification"
   ]
  },
  {
   "cell_type": "markdown",
   "id": "e3590921",
   "metadata": {},
   "source": [
    "### Logistic Regression"
   ]
  },
  {
   "cell_type": "code",
   "execution_count": null,
   "id": "4e8a8d73",
   "metadata": {},
   "outputs": [],
   "source": []
  },
  {
   "cell_type": "markdown",
   "id": "845e13c3",
   "metadata": {},
   "source": [
    "### Generative Models for Classification"
   ]
  },
  {
   "cell_type": "code",
   "execution_count": null,
   "id": "cda1f242",
   "metadata": {},
   "outputs": [],
   "source": []
  },
  {
   "cell_type": "markdown",
   "id": "15b3d6f8",
   "metadata": {},
   "source": [
    "### Compare Classification Models"
   ]
  },
  {
   "cell_type": "code",
   "execution_count": null,
   "id": "546564e0",
   "metadata": {},
   "outputs": [],
   "source": []
  },
  {
   "cell_type": "markdown",
   "id": "9556b2ea",
   "metadata": {},
   "source": [
    "## Resampling Methods"
   ]
  },
  {
   "cell_type": "markdown",
   "id": "795641ff",
   "metadata": {},
   "source": [
    "### Cross-Validation"
   ]
  },
  {
   "cell_type": "code",
   "execution_count": null,
   "id": "97a72dc0",
   "metadata": {},
   "outputs": [],
   "source": []
  },
  {
   "cell_type": "markdown",
   "id": "c098b4f6",
   "metadata": {},
   "source": [
    "### Bootstrap"
   ]
  },
  {
   "cell_type": "code",
   "execution_count": null,
   "id": "8e54bcb0",
   "metadata": {},
   "outputs": [],
   "source": []
  },
  {
   "cell_type": "markdown",
   "id": "de752032",
   "metadata": {},
   "source": [
    "## Linear Model Selection + Regularization"
   ]
  },
  {
   "cell_type": "markdown",
   "id": "0d24a859",
   "metadata": {},
   "source": [
    "### Subset Selection"
   ]
  },
  {
   "cell_type": "code",
   "execution_count": null,
   "id": "3ce6ee50",
   "metadata": {},
   "outputs": [],
   "source": []
  },
  {
   "cell_type": "markdown",
   "id": "7d4d0560",
   "metadata": {},
   "source": [
    "### Shrinkage Methods"
   ]
  },
  {
   "cell_type": "code",
   "execution_count": null,
   "id": "233f31cf",
   "metadata": {},
   "outputs": [],
   "source": []
  },
  {
   "cell_type": "markdown",
   "id": "ac4748d2",
   "metadata": {},
   "source": [
    "### Dimension Reduction Methods"
   ]
  },
  {
   "cell_type": "code",
   "execution_count": null,
   "id": "e56104de",
   "metadata": {},
   "outputs": [],
   "source": []
  },
  {
   "cell_type": "markdown",
   "id": "960af3bb",
   "metadata": {},
   "source": [
    "## Polynomial Regression"
   ]
  },
  {
   "cell_type": "markdown",
   "id": "8a650b84",
   "metadata": {},
   "source": [
    "### Step Functions"
   ]
  },
  {
   "cell_type": "code",
   "execution_count": null,
   "id": "bc6477d4",
   "metadata": {},
   "outputs": [],
   "source": []
  },
  {
   "cell_type": "markdown",
   "id": "1af2cbbd",
   "metadata": {},
   "source": [
    "### Basis Functions"
   ]
  },
  {
   "cell_type": "code",
   "execution_count": null,
   "id": "85dde900",
   "metadata": {},
   "outputs": [],
   "source": []
  },
  {
   "cell_type": "markdown",
   "id": "3e559b1e",
   "metadata": {},
   "source": [
    "### Regression Splines"
   ]
  },
  {
   "cell_type": "code",
   "execution_count": null,
   "id": "3fcb873d",
   "metadata": {},
   "outputs": [],
   "source": []
  },
  {
   "cell_type": "markdown",
   "id": "95fffd67",
   "metadata": {},
   "source": [
    "### Smoothing Splines"
   ]
  },
  {
   "cell_type": "code",
   "execution_count": null,
   "id": "73bf336e",
   "metadata": {},
   "outputs": [],
   "source": []
  },
  {
   "cell_type": "markdown",
   "id": "5527284a",
   "metadata": {},
   "source": [
    "### Local Regression"
   ]
  },
  {
   "cell_type": "code",
   "execution_count": null,
   "id": "96120318",
   "metadata": {},
   "outputs": [],
   "source": []
  },
  {
   "cell_type": "markdown",
   "id": "946e025a",
   "metadata": {},
   "source": [
    "### Generalized Adidtive Models"
   ]
  },
  {
   "cell_type": "code",
   "execution_count": null,
   "id": "df613881",
   "metadata": {},
   "outputs": [],
   "source": []
  },
  {
   "cell_type": "markdown",
   "id": "bed743ad",
   "metadata": {},
   "source": [
    "### Non-Linear Modeling"
   ]
  },
  {
   "cell_type": "code",
   "execution_count": null,
   "id": "22699304",
   "metadata": {},
   "outputs": [],
   "source": []
  },
  {
   "cell_type": "markdown",
   "id": "5f8f0113",
   "metadata": {},
   "source": [
    "## Tree-Based Methods"
   ]
  },
  {
   "cell_type": "markdown",
   "id": "d2635d02",
   "metadata": {},
   "source": [
    "### Bagging, Random Forests, Boosting, Bayesian Additive Regression Trees"
   ]
  },
  {
   "cell_type": "code",
   "execution_count": null,
   "id": "a92b645b",
   "metadata": {},
   "outputs": [],
   "source": []
  },
  {
   "cell_type": "markdown",
   "id": "de3ee04c",
   "metadata": {},
   "source": [
    "## Support Vector Macines"
   ]
  },
  {
   "cell_type": "markdown",
   "id": "c538b3e1",
   "metadata": {},
   "source": [
    "### Maximal Margin Classifier"
   ]
  },
  {
   "cell_type": "code",
   "execution_count": null,
   "id": "a7ea0d7d",
   "metadata": {},
   "outputs": [],
   "source": []
  },
  {
   "cell_type": "markdown",
   "id": "962ca129",
   "metadata": {},
   "source": [
    "### Support Vector Classifiers"
   ]
  },
  {
   "cell_type": "code",
   "execution_count": null,
   "id": "5faec3fa",
   "metadata": {},
   "outputs": [],
   "source": []
  },
  {
   "cell_type": "markdown",
   "id": "a1e6673c",
   "metadata": {},
   "source": [
    "### SVMs with 2+ Classes"
   ]
  },
  {
   "cell_type": "code",
   "execution_count": null,
   "id": "141d889c",
   "metadata": {},
   "outputs": [],
   "source": []
  },
  {
   "cell_type": "markdown",
   "id": "71357f30",
   "metadata": {},
   "source": [
    "### Relationship to Logistic Regression"
   ]
  },
  {
   "cell_type": "code",
   "execution_count": null,
   "id": "9acae756",
   "metadata": {},
   "outputs": [],
   "source": []
  },
  {
   "cell_type": "markdown",
   "id": "78a55f6a",
   "metadata": {},
   "source": [
    "## Deep Learning"
   ]
  },
  {
   "cell_type": "markdown",
   "id": "80c4fa1a",
   "metadata": {},
   "source": [
    "### Single Layer Neural Networks"
   ]
  },
  {
   "cell_type": "code",
   "execution_count": null,
   "id": "0480deb5",
   "metadata": {},
   "outputs": [],
   "source": []
  },
  {
   "cell_type": "markdown",
   "id": "011ffc58",
   "metadata": {},
   "source": [
    "### Multilayer Neural Networks"
   ]
  },
  {
   "cell_type": "code",
   "execution_count": null,
   "id": "e812ea92",
   "metadata": {},
   "outputs": [],
   "source": []
  },
  {
   "cell_type": "markdown",
   "id": "28f1641b",
   "metadata": {},
   "source": [
    "### Convolutional Neural Networks"
   ]
  },
  {
   "cell_type": "code",
   "execution_count": null,
   "id": "157da88b",
   "metadata": {},
   "outputs": [],
   "source": []
  },
  {
   "cell_type": "markdown",
   "id": "24ff8990",
   "metadata": {},
   "source": [
    "### Document Classification"
   ]
  },
  {
   "cell_type": "code",
   "execution_count": null,
   "id": "19a78737",
   "metadata": {},
   "outputs": [],
   "source": []
  },
  {
   "cell_type": "markdown",
   "id": "b1199a05",
   "metadata": {},
   "source": [
    "### Recurrent Neural Networks"
   ]
  },
  {
   "cell_type": "code",
   "execution_count": null,
   "id": "b17608d3",
   "metadata": {},
   "outputs": [],
   "source": []
  },
  {
   "cell_type": "markdown",
   "id": "3a7e4651",
   "metadata": {},
   "source": [
    "### Fitting a Neural Network"
   ]
  },
  {
   "cell_type": "code",
   "execution_count": null,
   "id": "a1aebf0c",
   "metadata": {},
   "outputs": [],
   "source": []
  },
  {
   "cell_type": "markdown",
   "id": "b4f54c6b",
   "metadata": {},
   "source": [
    "### Interpolation and Double Descent"
   ]
  },
  {
   "cell_type": "code",
   "execution_count": null,
   "id": "66351113",
   "metadata": {},
   "outputs": [],
   "source": []
  },
  {
   "cell_type": "markdown",
   "id": "95bb9a93",
   "metadata": {},
   "source": [
    "## Survivial Analysis + Censored Data"
   ]
  },
  {
   "cell_type": "code",
   "execution_count": null,
   "id": "865a0876",
   "metadata": {},
   "outputs": [],
   "source": []
  },
  {
   "cell_type": "markdown",
   "id": "21439c7f",
   "metadata": {},
   "source": [
    "### Kaplan-Meier Survival Curve"
   ]
  },
  {
   "cell_type": "code",
   "execution_count": null,
   "id": "c84623b6",
   "metadata": {},
   "outputs": [],
   "source": []
  },
  {
   "cell_type": "markdown",
   "id": "d170998d",
   "metadata": {},
   "source": [
    "### Log-Rank Test"
   ]
  },
  {
   "cell_type": "code",
   "execution_count": null,
   "id": "7faf993e",
   "metadata": {},
   "outputs": [],
   "source": []
  },
  {
   "cell_type": "markdown",
   "id": "27feffc6",
   "metadata": {},
   "source": [
    "### Regression Models w/ a Survival Response"
   ]
  },
  {
   "cell_type": "code",
   "execution_count": null,
   "id": "59ca8523",
   "metadata": {},
   "outputs": [],
   "source": []
  },
  {
   "cell_type": "markdown",
   "id": "6a73875d",
   "metadata": {},
   "source": [
    "### Shrinkage for the Cox Model"
   ]
  },
  {
   "cell_type": "code",
   "execution_count": null,
   "id": "6d082be6",
   "metadata": {},
   "outputs": [],
   "source": []
  },
  {
   "cell_type": "markdown",
   "id": "ce25c815",
   "metadata": {},
   "source": [
    "## Unsupervised Learning"
   ]
  },
  {
   "cell_type": "code",
   "execution_count": null,
   "id": "31ca9afd",
   "metadata": {},
   "outputs": [],
   "source": []
  },
  {
   "cell_type": "markdown",
   "id": "c9180181",
   "metadata": {},
   "source": [
    "### Principal Component Analysis"
   ]
  },
  {
   "cell_type": "code",
   "execution_count": null,
   "id": "55528335",
   "metadata": {},
   "outputs": [],
   "source": []
  },
  {
   "cell_type": "markdown",
   "id": "62560dd9",
   "metadata": {},
   "source": [
    "### Missing Values and Matrix Completion"
   ]
  },
  {
   "cell_type": "code",
   "execution_count": null,
   "id": "afe5a6d8",
   "metadata": {},
   "outputs": [],
   "source": []
  },
  {
   "cell_type": "markdown",
   "id": "cfe4a013",
   "metadata": {},
   "source": [
    "### Clustering Methods"
   ]
  },
  {
   "cell_type": "code",
   "execution_count": null,
   "id": "0b907e0b",
   "metadata": {},
   "outputs": [],
   "source": []
  },
  {
   "cell_type": "markdown",
   "id": "04b2c5ba",
   "metadata": {},
   "source": [
    "## Multiple Testing"
   ]
  },
  {
   "cell_type": "markdown",
   "id": "b7946cd8",
   "metadata": {},
   "source": [
    "### Hypothesis Testing"
   ]
  },
  {
   "cell_type": "code",
   "execution_count": null,
   "id": "6de9132b",
   "metadata": {},
   "outputs": [],
   "source": []
  },
  {
   "cell_type": "markdown",
   "id": "d8d36b8f",
   "metadata": {},
   "source": [
    "### Multiple Testing"
   ]
  },
  {
   "cell_type": "code",
   "execution_count": null,
   "id": "29517869",
   "metadata": {},
   "outputs": [],
   "source": []
  },
  {
   "cell_type": "markdown",
   "id": "44d29aa5",
   "metadata": {},
   "source": [
    "### Family-Wise Error Rate"
   ]
  },
  {
   "cell_type": "code",
   "execution_count": null,
   "id": "72389877",
   "metadata": {},
   "outputs": [],
   "source": []
  },
  {
   "cell_type": "markdown",
   "id": "9e9f305a",
   "metadata": {},
   "source": [
    "### Re-sampling Approach to P-Values, and False Discovery Rates"
   ]
  },
  {
   "cell_type": "code",
   "execution_count": null,
   "id": "5da8ef8e",
   "metadata": {},
   "outputs": [],
   "source": []
  }
 ],
 "metadata": {
  "kernelspec": {
   "display_name": "Python 3 (ipykernel)",
   "language": "python",
   "name": "python3"
  },
  "language_info": {
   "codemirror_mode": {
    "name": "ipython",
    "version": 3
   },
   "file_extension": ".py",
   "mimetype": "text/x-python",
   "name": "python",
   "nbconvert_exporter": "python",
   "pygments_lexer": "ipython3",
   "version": "3.10.11"
  }
 },
 "nbformat": 4,
 "nbformat_minor": 5
}
