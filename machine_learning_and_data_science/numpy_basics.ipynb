{
 "cells": [
  {
   "cell_type": "markdown",
   "id": "244b2346",
   "metadata": {},
   "source": [
    "# Numpy\n",
    "\n",
    "What: It's meant to turn your data into numerical python \n",
    "Why: It offers fast computation since it's optimized with C, vectorizes arrays via broadcasting (so it avoids loops), and it's the backbone of other python scientific packages"
   ]
  },
  {
   "cell_type": "code",
   "execution_count": null,
   "id": "958b8f22",
   "metadata": {},
   "outputs": [],
   "source": []
  }
 ],
 "metadata": {
  "kernelspec": {
   "display_name": "Python 3 (ipykernel)",
   "language": "python",
   "name": "python3"
  },
  "language_info": {
   "codemirror_mode": {
    "name": "ipython",
    "version": 3
   },
   "file_extension": ".py",
   "mimetype": "text/x-python",
   "name": "python",
   "nbconvert_exporter": "python",
   "pygments_lexer": "ipython3",
   "version": "3.10.11"
  }
 },
 "nbformat": 4,
 "nbformat_minor": 5
}
