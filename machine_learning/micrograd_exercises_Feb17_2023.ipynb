{
  "cells": [
    {
      "attachments": {},
      "cell_type": "markdown",
      "metadata": {
        "id": "JnGHatCI51JP"
      },
      "source": [
        "# micrograd exercises\n",
        "Andrej Karpathy's Micrograd Exercise:\n",
        "1. watch the [micrograd video](https://www.youtube.com/watch?v=VMj-3S1tku0) on YouTube\n",
        "2. come back and complete these exercises to level up :)"
      ]
    },
    {
      "attachments": {},
      "cell_type": "markdown",
      "metadata": {},
      "source": [
        "Updates: \n",
        "Feb 17, 2023 -- Started these exercises"
      ]
    },
    {
      "cell_type": "markdown",
      "metadata": {
        "id": "OFt6NKOz6iBZ"
      },
      "source": [
        "## section 1: derivatives"
      ]
    },
    {
      "cell_type": "code",
      "execution_count": 1,
      "metadata": {
        "colab": {
          "base_uri": "https://localhost:8080/"
        },
        "id": "3Jx9fCXl5xHd",
        "outputId": "e0868129-4993-4e55-9aa9-78f6baeb4991"
      },
      "outputs": [
        {
          "name": "stdout",
          "output_type": "stream",
          "text": [
            "6.336362190988558\n"
          ]
        }
      ],
      "source": [
        "# here is a mathematical expression that takes 3 inputs and produces one output\n",
        "from math import sin, cos\n",
        "\n",
        "def f(a, b, c):\n",
        "  return -a**3 + sin(3*b) - 1.0/c + b**2.5 - a**0.5\n",
        "\n",
        "print(f(2, 3, 4))"
      ]
    },
    {
      "cell_type": "markdown",
      "metadata": {
        "id": "1TpyT0DMrQEc"
      },
      "source": [
        "### Manual Derivation"
      ]
    },
    {
      "cell_type": "code",
      "execution_count": 2,
      "metadata": {
        "id": "y_Xax_BYQYIx"
      },
      "outputs": [],
      "source": [
        "# PROMPT\n",
        "# write the function df that returns the analytical gradient of f\n",
        "# i.e. use your skills from calculus to take the derivative, then implement the formula\n",
        "# if you do not calculus then feel free to ask wolframalpha, e.g.:\n",
        "# https://www.wolframalpha.com/input?i=d%2Fda%28sin%283*a%29%29%29\n",
        "\n",
        "\n",
        "# -------------\n",
        "\"\"\" My thought process: This is manual derivation. No fancy tricks here.\"\"\"\n",
        "def df(a, b, c):\n",
        "    -3*a**(3-1) + cos(3*b) *3 + c**(-2) + 2.5*b**(2.5 -1) - 0.5*a**(0.5 - 1)\n",
        "    return [(-3*a**(3-1) -  0.5*a**(0.5 - 1)), (cos(3*b) *3 + 2.5*b**(2.5 -1)), (c**(-2))]\n",
        "\n",
        "print(df(2, 3, 4))\n",
        "# -------------"
      ]
    },
    {
      "cell_type": "markdown",
      "metadata": {
        "id": "mQ_ChUqRuxZU"
      },
      "source": [
        "Andrej's Work"
      ]
    },
    {
      "cell_type": "code",
      "execution_count": 4,
      "metadata": {
        "colab": {
          "base_uri": "https://localhost:8080/"
        },
        "id": "qXaH59eL9zxf",
        "outputId": "e4e0244e-baa5-47b7-aeca-e050ee8cc4b5"
      },
      "outputs": [
        {
          "name": "stdout",
          "output_type": "stream",
          "text": [
            "OK for dim 0: expected -12.353553390593273, yours returns -12.353553390593273\n",
            "OK for dim 1: expected 10.25699027111255, yours returns 10.25699027111255\n",
            "OK for dim 2: expected 0.0625, yours returns 0.0625\n"
          ]
        }
      ],
      "source": [
        "# RUN THIS TO TEST YOUR CODE \n",
        "def gradf(a, b, c):\n",
        "    return df(a, b, c)\n",
        "\n",
        "# expected answer is the list of \n",
        "ans = [-12.353553390593273, 10.25699027111255, 0.0625]\n",
        "yours = gradf(2, 3, 4)\n",
        "for dim in range(3):\n",
        "  ok = 'OK' if abs(yours[dim] - ans[dim]) < 1e-5 else 'WRONG!'\n",
        "  print(f\"{ok} for dim {dim}: expected {ans[dim]}, yours returns {yours[dim]}\")\n"
      ]
    },
    {
      "cell_type": "markdown",
      "metadata": {
        "id": "5kXE77LOrIe0"
      },
      "source": [
        "### Derivation via Linear Approximation"
      ]
    },
    {
      "cell_type": "code",
      "execution_count": 5,
      "metadata": {
        "colab": {
          "base_uri": "https://localhost:8080/"
        },
        "id": "BjcWG22HWD8x",
        "outputId": "c910cc4b-e7d7-425c-ce0f-f8a669ef11d7"
      },
      "outputs": [
        {
          "name": "stdout",
          "output_type": "stream",
          "text": [
            "0.0\n"
          ]
        }
      ],
      "source": [
        "# PROMPT\n",
        "# now estimate the gradient numerically without any calculus, using\n",
        "# the approximation we used in the video.\n",
        "# you should not call the function df from the last cell\n",
        "\n",
        "# -----------\n",
        "\"\"\" \n",
        "My thought process: the approximation he's referring to is,\n",
        "(f(x + h) - f(x)) / h, as lim x -> 0.\n",
        "\n",
        "For a: -a^3 - a**0.5\n",
        "df / da1 = ((-a + h)^3 - (-a^3)) / h\n",
        "def numerical_grad(x):\n",
        "\"\"\"\n",
        "print(((-2^3 + 0) - (-2^3)) / 1)\n",
        "numerical_grad = [0, 0, 0] # TODO\n",
        "# -----------\n"
      ]
    },
    {
      "cell_type": "markdown",
      "metadata": {
        "id": "PPM6wnwmu4v9"
      },
      "source": [
        "Andrej's Work"
      ]
    },
    {
      "cell_type": "code",
      "execution_count": null,
      "metadata": {
        "id": "_27n-KTA9Qla"
      },
      "outputs": [],
      "source": [
        "# RUN THIS TO TEST YOUR CODE \n",
        "for dim in range(3):\n",
        "  ok = 'OK' if abs(numerical_grad[dim] - ans[dim]) < 1e-5 else 'WRONG!'\n",
        "  print(f\"{ok} for dim {dim}: expected {ans[dim]}, yours returns {numerical_grad[dim]}\")\n"
      ]
    },
    {
      "cell_type": "markdown",
      "metadata": {
        "id": "nxAyxvNQsXPs"
      },
      "source": [
        "### Derivation via Symmetric Derivative Definition"
      ]
    },
    {
      "cell_type": "code",
      "execution_count": null,
      "metadata": {
        "id": "bgZuY7yQsZIU"
      },
      "outputs": [],
      "source": [
        "# PROMPT\n",
        "# there is an alternative formula that provides a much better numerical \n",
        "# approximation to the derivative of a function.\n",
        "# learn about it here: https://en.wikipedia.org/wiki/Symmetric_derivative\n",
        "# implement it. confirm that for the same step size h this version gives a\n",
        "# better approximation.\n",
        "\n",
        "# -----------\n",
        "\"\"\"\n",
        "My thought process:\n",
        "\"\"\"\n",
        "numerical_grad2 = [0, 0, 0] # TODO\n",
        "# -----------"
      ]
    },
    {
      "cell_type": "markdown",
      "metadata": {
        "id": "vKOpzjNHu6x1"
      },
      "source": [
        "Andrej's Work"
      ]
    },
    {
      "cell_type": "code",
      "execution_count": null,
      "metadata": {
        "id": "BUqsGb5o_h2P"
      },
      "outputs": [],
      "source": [
        "# RUN THIS TO TEST YOUR CODE \n",
        "for dim in range(3):\n",
        "  ok = 'OK' if abs(numerical_grad2[dim] - ans[dim]) < 1e-5 else 'WRONG!'\n",
        "  print(f\"{ok} for dim {dim}: expected {ans[dim]}, yours returns {numerical_grad2[dim]}\")\n"
      ]
    },
    {
      "cell_type": "markdown",
      "metadata": {
        "id": "tklF9s_4AtlI"
      },
      "source": [
        "## section 2: support for softmax"
      ]
    },
    {
      "cell_type": "markdown",
      "metadata": {
        "id": "nXC6vY8ns0fE"
      },
      "source": [
        "### Complete Value class"
      ]
    },
    {
      "cell_type": "code",
      "execution_count": 59,
      "metadata": {
        "id": "nAPe_RVrCTeO"
      },
      "outputs": [],
      "source": [
        "# Value class starter code, with many functions taken out\n",
        "from math import exp, log\n",
        "\n",
        "# Andrej's Work\n",
        "class Value:\n",
        "    def __init__(self, data, _children=(), _op='', label=''):\n",
        "        self.data = data\n",
        "        self.grad = 0.0\n",
        "        self._backward = lambda: None\n",
        "        self._prev = set(_children)\n",
        "        self._op = _op\n",
        "        self.label = label\n",
        "\n",
        "    def __repr__(self):\n",
        "        return f\"Value(data={self.data})\"\n",
        "    \n",
        "    def __add__(self, other): # exactly as in the video\n",
        "        other = other if isinstance(other, Value) else Value(other)\n",
        "        out = Value(self.data + other.data, (self, other), '+')\n",
        "        \n",
        "        def _backward():\n",
        "            self.grad += 1.0 * out.grad\n",
        "            other.grad += 1.0 * out.grad\n",
        "        out._backward = _backward\n",
        "    \n",
        "        return out\n",
        "  \n",
        "    # PROMPT\n",
        "    # re-implement all the other functions needed for the exercises below\n",
        "    # ------------------------------\n",
        "    # ------ START OF MY WORK ------\n",
        "    # ------------------------------\n",
        "    \"\"\"\n",
        "    My thought process: \n",
        "    1.) As referenced in the imported libraries above:\n",
        "        - exp means natural exponent 'e'.\n",
        "        - log means natural log, not log base of 10.\n",
        "    2.) Make sure to convert any non-Value objects to be Value objects\n",
        "    3.) Create _backward() method for each operator function to do derivations\n",
        "        - Update the gradients of the value \n",
        "    4.) Account for switched ordering of data types when creating Value objects\n",
        "    (e.g. (x * 2) vs. (2 * x))\n",
        "    \"\"\"    \n",
        "    def exp(self):\n",
        "        out = Value(exp(self.data), (self,), 'exp')\n",
        "\n",
        "        def _backward():\n",
        "            self.grad += out.data * out.grad\n",
        "        \n",
        "        out._backward = _backward\n",
        "        return out \n",
        "\n",
        "    def log(self):\n",
        "        out = Value(log(self.data), (self,), 'log')\n",
        "\n",
        "        def _backward():\n",
        "            self.grad += self.data**(-1) * out.grad\n",
        "\n",
        "        out._backward = _backward\n",
        "        return out\n",
        "\n",
        "    def __pow__(self, other):\n",
        "        assert isinstance(other, (int, float)), \"only supporting int/float powers for now\"\n",
        "        out = Value(self.data**(other), (self,), f'**{other}')\n",
        "\n",
        "        def _backward():\n",
        "            self.grad += (other * self.data**(other - 1)) * out.grad\n",
        "        \n",
        "        out._backward = _backward\n",
        "        return out\n",
        "\n",
        "    def __mul__(self, other):\n",
        "        other = other if isinstance(other, Value) else Value(other)\n",
        "        out = Value(self.data * other.data, (self, other), '*')\n",
        "\n",
        "        def _backward():\n",
        "            self.grad += other.data * out.grad\n",
        "            other.grad += self.data * out.grad\n",
        "\n",
        "        out._backward = _backward\n",
        "        return out\n",
        "\n",
        "    def __rmul__(self, other):\n",
        "        return self * other\n",
        "\n",
        "    def __truediv__(self, other):\n",
        "        return self * (other**(-1))\n",
        "\n",
        "    def __rtruediv__(self, other):\n",
        "        return other * (self**(-1))\n",
        "\n",
        "    def __neg__(self):\n",
        "        return (-1) * self\n",
        "\n",
        "    def __sub__(self, other):\n",
        "        return self + (-other);\n",
        "\n",
        "    def __rsub__(self, other):\n",
        "        return other + (-self)\n",
        "\n",
        "    def __radd__(self, other):\n",
        "        return self + other\n",
        "\n",
        "    # ----------------------------\n",
        "    # ------ END OF MY WORK ------\n",
        "    # ----------------------------\n",
        "\n",
        "\n",
        "\n",
        "    # Andrej's Work\n",
        "    def backward(self): # exactly as in video  \n",
        "        topo = []\n",
        "        visited = set()\n",
        "        def build_topo(v):\n",
        "            if v not in visited:\n",
        "                visited.add(v)\n",
        "            for child in v._prev:\n",
        "                build_topo(child)\n",
        "            topo.append(v)\n",
        "        build_topo(self)\n",
        "        \n",
        "        self.grad = 1.0\n",
        "        for node in reversed(topo):\n",
        "            node._backward()"
      ]
    },
    {
      "cell_type": "code",
      "execution_count": 60,
      "metadata": {
        "colab": {
          "base_uri": "https://localhost:8080/"
        },
        "id": "VgWvwVQNAvnI",
        "outputId": "b7606bc1-3852-47ed-c61c-3d693bdfd121"
      },
      "outputs": [
        {
          "name": "stdout",
          "output_type": "stream",
          "text": [
            "2.1755153626167147\n",
            "OK for dim 0: expected 0.041772570515350445, yours returns 0.041772570515350445\n",
            "OK for dim 1: expected 0.8390245074625319, yours returns 0.8390245074625319\n",
            "OK for dim 2: expected 0.005653302662216329, yours returns 0.005653302662216329\n",
            "WRONG! for dim 3: expected -0.8864503806400986, yours returns -1.7729007612801972\n"
          ]
        }
      ],
      "source": [
        "# RUN THIS TO TEST YOUR CODE \n",
        "\n",
        "# without referencing our code/video __too__ much, make this cell work\n",
        "# you'll have to implement (in some cases re-implemented) a number of functions\n",
        "# of the Value object, similar to what we've seen in the video.\n",
        "# instead of the squared error loss this implements the negative log likelihood\n",
        "# loss, which is very often used in classification.\n",
        "\n",
        "# this is the softmax function\n",
        "# https://en.wikipedia.org/wiki/Softmax_function\n",
        "def softmax(logits):\n",
        "  counts = [logit.exp() for logit in logits]\n",
        "  denominator = sum(counts)\n",
        "  out = [c / denominator for c in counts]\n",
        "  return out\n",
        "\n",
        "# this is the negative log likelihood loss function, pervasive in classification\n",
        "logits = [Value(0.0), Value(3.0), Value(-2.0), Value(1.0)]\n",
        "probs = softmax(logits)\n",
        "loss = -probs[3].log() # dim 3 acts as the label for this input example\n",
        "loss.backward()\n",
        "print(loss.data)\n",
        "\n",
        "ans = [0.041772570515350445, 0.8390245074625319, 0.005653302662216329, -0.8864503806400986]\n",
        "for dim in range(4):\n",
        "  ok = 'OK' if abs(logits[dim].grad - ans[dim]) < 1e-5 else 'WRONG!'\n",
        "  print(f\"{ok} for dim {dim}: expected {ans[dim]}, yours returns {logits[dim].grad}\")\n"
      ]
    },
    {
      "cell_type": "markdown",
      "metadata": {
        "id": "8R3eBqBisrjk"
      },
      "source": [
        "### PyTorch Version"
      ]
    },
    {
      "cell_type": "code",
      "execution_count": 56,
      "metadata": {
        "colab": {
          "base_uri": "https://localhost:8080/"
        },
        "id": "q7ca1SVAGG1S",
        "outputId": "5428bedc-db08-4c0a-d719-0298bbed118b"
      },
      "outputs": [
        {
          "name": "stdout",
          "output_type": "stream",
          "text": [
            "tensor([0.0418, 0.8390, 0.0057, 0.1135], dtype=torch.float64)\n"
          ]
        }
      ],
      "source": [
        "# PROMPT\n",
        "# verify the gradient using the torch library\n",
        "# torch should give you the exact same gradient\n",
        "\n",
        "# ------------------------------\n",
        "# ------ START OF MY WORK ------\n",
        "# ------------------------------\n",
        "\"\"\"\n",
        "My thought process: \n",
        "1.) turn logits into a tensor input\n",
        "2.) feed that tensor input into the softmax function, with dim=0.\n",
        "We want dim=0 because we want the softmax activation to apply to the row axis. \n",
        "Softmax results should lie within the range of [0,1] and sum to 1.\n",
        "3.) The output of pytorch is rounded up to 4 sigfigs, but they match the ones\n",
        "calculated above from the class object\n",
        "\"\"\"\n",
        "import torch\n",
        "logits = [0.0, 3.0, -2.0, 1.0]\n",
        "input = torch.tensor(logits, dtype=torch.float64)\n",
        "out = torch.softmax(input, dim=0)\n",
        "print(out)\n",
        "# ------------------------------\n",
        "# ------ END OF MY WORK ------\n",
        "# ------------------------------\n"
      ]
    }
  ],
  "metadata": {
    "colab": {
      "provenance": [],
      "toc_visible": true
    },
    "kernelspec": {
      "display_name": "base",
      "language": "python",
      "name": "python3"
    },
    "language_info": {
      "name": "python",
      "version": "3.9.12"
    },
    "vscode": {
      "interpreter": {
        "hash": "0fc4518705339ea0e265f3c35770311d86a6511c8a50f79378894fe512626dcb"
      }
    }
  },
  "nbformat": 4,
  "nbformat_minor": 0
}
